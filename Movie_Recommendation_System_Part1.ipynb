{
  "nbformat": 4,
  "nbformat_minor": 0,
  "metadata": {
    "colab": {
      "provenance": [],
      "collapsed_sections": [],
      "authorship_tag": "ABX9TyMgXUwEGTQh6GGg4/UPB25j",
      "include_colab_link": true
    },
    "kernelspec": {
      "name": "python3",
      "display_name": "Python 3"
    },
    "language_info": {
      "name": "python"
    }
  },
  "cells": [
    {
      "cell_type": "markdown",
      "metadata": {
        "id": "view-in-github",
        "colab_type": "text"
      },
      "source": [
        "<a href=\"https://colab.research.google.com/github/FreddyR424/Recommendation_Systems_Projects/blob/master/Movie_Recommendation_System_Part1.ipynb\" target=\"_parent\"><img src=\"https://colab.research.google.com/assets/colab-badge.svg\" alt=\"Open In Colab\"/></a>"
      ]
    },
    {
      "cell_type": "markdown",
      "source": [
        "# **Movie Recommendation System - Part 1**"
      ],
      "metadata": {
        "id": "iYodFtK2xi_f"
      }
    },
    {
      "cell_type": "markdown",
      "source": [
        "## **Context**\n",
        "- Online streaming platforms like Netflix have plenty of movies in their repository and if we can build a Recommendation System to recommend relevant movies to users, based on their historical interactions, this would improve customer satisfaction and hence, it will also improve the revenue of the platform. The techniques that we will learn here will not only be limited to movies, it can be any item for which you want to build a recommendation system."
      ],
      "metadata": {
        "id": "yoRX_e_xxxjT"
      }
    },
    {
      "cell_type": "markdown",
      "source": [
        "## **Objective**\n",
        "**Build various recommendation systems:**\n",
        "- Knowledge/Rank based recommendation system\n",
        "- Similarity-Based Collaborative filtering\n",
        "- Matrix Factorization Based Collaborative Filtering"
      ],
      "metadata": {
        "id": "w6tM8d3Tx13p"
      }
    },
    {
      "cell_type": "markdown",
      "source": [
        "## **Dataset**\n",
        "**The ratings dataset contains the following attributes:**\n",
        "- userId\n",
        "- movieId\n",
        "- rating\n",
        "- timestamp"
      ],
      "metadata": {
        "id": "XcpSPXkfyCEw"
      }
    },
    {
      "cell_type": "markdown",
      "source": [
        "## **Mounting Google Drive**"
      ],
      "metadata": {
        "id": "dDp0pWOvyVSQ"
      }
    },
    {
      "cell_type": "code",
      "execution_count": 1,
      "metadata": {
        "colab": {
          "base_uri": "https://localhost:8080/"
        },
        "id": "qoI-zZ6SxQ0W",
        "outputId": "b5741763-da50-4be8-b290-e66b12c7ce09"
      },
      "outputs": [
        {
          "output_type": "stream",
          "name": "stdout",
          "text": [
            "Mounted at /content/drive\n"
          ]
        }
      ],
      "source": [
        "from google.colab import drive\n",
        "drive.mount('/content/drive')"
      ]
    },
    {
      "cell_type": "markdown",
      "source": [
        "## **Imports**"
      ],
      "metadata": {
        "id": "unBXgmXNybye"
      }
    },
    {
      "cell_type": "code",
      "source": [
        "import warnings\n",
        "warnings.filterwarnings('ignore')\n",
        "import numpy as np\n",
        "import pandas as pd \n",
        "import matplotlib.pyplot as plt\n",
        "import seaborn as sns\n",
        "from collections import defaultdict\n",
        "from sklearn.metrics import mean_squared_error"
      ],
      "metadata": {
        "id": "BgcigwaVya0p"
      },
      "execution_count": 2,
      "outputs": []
    },
    {
      "cell_type": "markdown",
      "source": [
        "## **Loading the Data**"
      ],
      "metadata": {
        "id": "9ea3xtWqy9Ma"
      }
    },
    {
      "cell_type": "code",
      "source": [
        "# Importing the \"ratings.csv\" dataset\n",
        "rating = pd.read_csv('/content/drive/MyDrive/ratings+%281%29.csv')"
      ],
      "metadata": {
        "id": "3ey_4VJby69-"
      },
      "execution_count": 3,
      "outputs": []
    },
    {
      "cell_type": "code",
      "source": [
        "rating.head()"
      ],
      "metadata": {
        "colab": {
          "base_uri": "https://localhost:8080/",
          "height": 206
        },
        "id": "s0-Tc3rg0HbS",
        "outputId": "57694b67-83f8-4b7d-8569-a1a801f384ad"
      },
      "execution_count": 4,
      "outputs": [
        {
          "output_type": "execute_result",
          "data": {
            "text/plain": [
              "   userId  movieId  rating  timestamp\n",
              "0       1        1     4.0  964982703\n",
              "1       1        3     4.0  964981247\n",
              "2       1        6     4.0  964982224\n",
              "3       1       47     5.0  964983815\n",
              "4       1       50     5.0  964982931"
            ],
            "text/html": [
              "\n",
              "  <div id=\"df-a57f7048-cfed-47c6-86c4-0ca1800fd753\">\n",
              "    <div class=\"colab-df-container\">\n",
              "      <div>\n",
              "<style scoped>\n",
              "    .dataframe tbody tr th:only-of-type {\n",
              "        vertical-align: middle;\n",
              "    }\n",
              "\n",
              "    .dataframe tbody tr th {\n",
              "        vertical-align: top;\n",
              "    }\n",
              "\n",
              "    .dataframe thead th {\n",
              "        text-align: right;\n",
              "    }\n",
              "</style>\n",
              "<table border=\"1\" class=\"dataframe\">\n",
              "  <thead>\n",
              "    <tr style=\"text-align: right;\">\n",
              "      <th></th>\n",
              "      <th>userId</th>\n",
              "      <th>movieId</th>\n",
              "      <th>rating</th>\n",
              "      <th>timestamp</th>\n",
              "    </tr>\n",
              "  </thead>\n",
              "  <tbody>\n",
              "    <tr>\n",
              "      <th>0</th>\n",
              "      <td>1</td>\n",
              "      <td>1</td>\n",
              "      <td>4.0</td>\n",
              "      <td>964982703</td>\n",
              "    </tr>\n",
              "    <tr>\n",
              "      <th>1</th>\n",
              "      <td>1</td>\n",
              "      <td>3</td>\n",
              "      <td>4.0</td>\n",
              "      <td>964981247</td>\n",
              "    </tr>\n",
              "    <tr>\n",
              "      <th>2</th>\n",
              "      <td>1</td>\n",
              "      <td>6</td>\n",
              "      <td>4.0</td>\n",
              "      <td>964982224</td>\n",
              "    </tr>\n",
              "    <tr>\n",
              "      <th>3</th>\n",
              "      <td>1</td>\n",
              "      <td>47</td>\n",
              "      <td>5.0</td>\n",
              "      <td>964983815</td>\n",
              "    </tr>\n",
              "    <tr>\n",
              "      <th>4</th>\n",
              "      <td>1</td>\n",
              "      <td>50</td>\n",
              "      <td>5.0</td>\n",
              "      <td>964982931</td>\n",
              "    </tr>\n",
              "  </tbody>\n",
              "</table>\n",
              "</div>\n",
              "      <button class=\"colab-df-convert\" onclick=\"convertToInteractive('df-a57f7048-cfed-47c6-86c4-0ca1800fd753')\"\n",
              "              title=\"Convert this dataframe to an interactive table.\"\n",
              "              style=\"display:none;\">\n",
              "        \n",
              "  <svg xmlns=\"http://www.w3.org/2000/svg\" height=\"24px\"viewBox=\"0 0 24 24\"\n",
              "       width=\"24px\">\n",
              "    <path d=\"M0 0h24v24H0V0z\" fill=\"none\"/>\n",
              "    <path d=\"M18.56 5.44l.94 2.06.94-2.06 2.06-.94-2.06-.94-.94-2.06-.94 2.06-2.06.94zm-11 1L8.5 8.5l.94-2.06 2.06-.94-2.06-.94L8.5 2.5l-.94 2.06-2.06.94zm10 10l.94 2.06.94-2.06 2.06-.94-2.06-.94-.94-2.06-.94 2.06-2.06.94z\"/><path d=\"M17.41 7.96l-1.37-1.37c-.4-.4-.92-.59-1.43-.59-.52 0-1.04.2-1.43.59L10.3 9.45l-7.72 7.72c-.78.78-.78 2.05 0 2.83L4 21.41c.39.39.9.59 1.41.59.51 0 1.02-.2 1.41-.59l7.78-7.78 2.81-2.81c.8-.78.8-2.07 0-2.86zM5.41 20L4 18.59l7.72-7.72 1.47 1.35L5.41 20z\"/>\n",
              "  </svg>\n",
              "      </button>\n",
              "      \n",
              "  <style>\n",
              "    .colab-df-container {\n",
              "      display:flex;\n",
              "      flex-wrap:wrap;\n",
              "      gap: 12px;\n",
              "    }\n",
              "\n",
              "    .colab-df-convert {\n",
              "      background-color: #E8F0FE;\n",
              "      border: none;\n",
              "      border-radius: 50%;\n",
              "      cursor: pointer;\n",
              "      display: none;\n",
              "      fill: #1967D2;\n",
              "      height: 32px;\n",
              "      padding: 0 0 0 0;\n",
              "      width: 32px;\n",
              "    }\n",
              "\n",
              "    .colab-df-convert:hover {\n",
              "      background-color: #E2EBFA;\n",
              "      box-shadow: 0px 1px 2px rgba(60, 64, 67, 0.3), 0px 1px 3px 1px rgba(60, 64, 67, 0.15);\n",
              "      fill: #174EA6;\n",
              "    }\n",
              "\n",
              "    [theme=dark] .colab-df-convert {\n",
              "      background-color: #3B4455;\n",
              "      fill: #D2E3FC;\n",
              "    }\n",
              "\n",
              "    [theme=dark] .colab-df-convert:hover {\n",
              "      background-color: #434B5C;\n",
              "      box-shadow: 0px 1px 3px 1px rgba(0, 0, 0, 0.15);\n",
              "      filter: drop-shadow(0px 1px 2px rgba(0, 0, 0, 0.3));\n",
              "      fill: #FFFFFF;\n",
              "    }\n",
              "  </style>\n",
              "\n",
              "      <script>\n",
              "        const buttonEl =\n",
              "          document.querySelector('#df-a57f7048-cfed-47c6-86c4-0ca1800fd753 button.colab-df-convert');\n",
              "        buttonEl.style.display =\n",
              "          google.colab.kernel.accessAllowed ? 'block' : 'none';\n",
              "\n",
              "        async function convertToInteractive(key) {\n",
              "          const element = document.querySelector('#df-a57f7048-cfed-47c6-86c4-0ca1800fd753');\n",
              "          const dataTable =\n",
              "            await google.colab.kernel.invokeFunction('convertToInteractive',\n",
              "                                                     [key], {});\n",
              "          if (!dataTable) return;\n",
              "\n",
              "          const docLinkHtml = 'Like what you see? Visit the ' +\n",
              "            '<a target=\"_blank\" href=https://colab.research.google.com/notebooks/data_table.ipynb>data table notebook</a>'\n",
              "            + ' to learn more about interactive tables.';\n",
              "          element.innerHTML = '';\n",
              "          dataTable['output_type'] = 'display_data';\n",
              "          await google.colab.output.renderOutput(dataTable, element);\n",
              "          const docLink = document.createElement('div');\n",
              "          docLink.innerHTML = docLinkHtml;\n",
              "          element.appendChild(docLink);\n",
              "        }\n",
              "      </script>\n",
              "    </div>\n",
              "  </div>\n",
              "  "
            ]
          },
          "metadata": {},
          "execution_count": 4
        }
      ]
    },
    {
      "cell_type": "code",
      "source": [
        "# info on dataframe\n",
        "rating.info()"
      ],
      "metadata": {
        "colab": {
          "base_uri": "https://localhost:8080/"
        },
        "id": "oV9LKD0AzGjY",
        "outputId": "c2806fef-244d-4f4f-ff86-d99b97691317"
      },
      "execution_count": 5,
      "outputs": [
        {
          "output_type": "stream",
          "name": "stdout",
          "text": [
            "<class 'pandas.core.frame.DataFrame'>\n",
            "RangeIndex: 100836 entries, 0 to 100835\n",
            "Data columns (total 4 columns):\n",
            " #   Column     Non-Null Count   Dtype  \n",
            "---  ------     --------------   -----  \n",
            " 0   userId     100836 non-null  int64  \n",
            " 1   movieId    100836 non-null  int64  \n",
            " 2   rating     100836 non-null  float64\n",
            " 3   timestamp  100836 non-null  int64  \n",
            "dtypes: float64(1), int64(3)\n",
            "memory usage: 3.1 MB\n"
          ]
        }
      ]
    },
    {
      "cell_type": "markdown",
      "source": [
        "- In the ratings data, there are 100,836 rows and 4 columns.\n",
        "- All the columns are of numeric data type.\n",
        "- The data type of the timestamp column is int64 which is incorrect. We can convert this to DateTime format, but we don't need a timestamp column for our analysis. Hence, we can drop this column."
      ],
      "metadata": {
        "id": "hbsj5HSHzPgw"
      }
    },
    {
      "cell_type": "markdown",
      "source": [
        "## **Exploring Dataset**"
      ],
      "metadata": {
        "id": "J6JSBOZU0N0C"
      }
    },
    {
      "cell_type": "markdown",
      "source": [
        "#### **What is the total number of unique users?**"
      ],
      "metadata": {
        "id": "ozY5AS1x0Ucg"
      }
    },
    {
      "cell_type": "code",
      "source": [
        "rating['userId'].nunique()"
      ],
      "metadata": {
        "colab": {
          "base_uri": "https://localhost:8080/"
        },
        "id": "6Ipdco0hzLtv",
        "outputId": "48a04152-e212-4415-a720-4e71965d455b"
      },
      "execution_count": 6,
      "outputs": [
        {
          "output_type": "execute_result",
          "data": {
            "text/plain": [
              "610"
            ]
          },
          "metadata": {},
          "execution_count": 6
        }
      ]
    },
    {
      "cell_type": "markdown",
      "source": [
        "- There are 610 unique users in the \"rating\" dataset."
      ],
      "metadata": {
        "id": "bh1608M40b0i"
      }
    },
    {
      "cell_type": "markdown",
      "source": [
        "#### **What is the total number of unique movies?**"
      ],
      "metadata": {
        "id": "SpJZjgCY0eTZ"
      }
    },
    {
      "cell_type": "code",
      "source": [
        "rating['movieId'].nunique()"
      ],
      "metadata": {
        "colab": {
          "base_uri": "https://localhost:8080/"
        },
        "id": "HlOzMJMnzTto",
        "outputId": "44a9b2b8-4e16-4c09-aa7f-f52f421e274c"
      },
      "execution_count": 7,
      "outputs": [
        {
          "output_type": "execute_result",
          "data": {
            "text/plain": [
              "9724"
            ]
          },
          "metadata": {},
          "execution_count": 7
        }
      ]
    },
    {
      "cell_type": "markdown",
      "source": [
        "- There are 9,724 unique movies in the dataset.\n",
        "- As per the number of unique users and movies, there is a possibility of 610 * 9724 = 59,31,640 ratings in the dataset. But we only have 100,836 ratings, i.e., not every user has rated every movie in the dataset, which is quite understandable. This creates the possibility of building a recommendation system to recommend movies to the users which they have not interacted with."
      ],
      "metadata": {
        "id": "BeznTwuY0jWJ"
      }
    },
    {
      "cell_type": "markdown",
      "source": [
        "#### **Is there any movie that has been interacted with more than once by the same user?**"
      ],
      "metadata": {
        "id": "83_pLJ9L0o_j"
      }
    },
    {
      "cell_type": "code",
      "source": [
        "rating.groupby(['userId', 'movieId']).count()"
      ],
      "metadata": {
        "colab": {
          "base_uri": "https://localhost:8080/",
          "height": 455
        },
        "id": "OD2jEAgt0izh",
        "outputId": "fa69f822-62ac-4d1b-c07f-1ec456432e1a"
      },
      "execution_count": 8,
      "outputs": [
        {
          "output_type": "execute_result",
          "data": {
            "text/plain": [
              "                rating  timestamp\n",
              "userId movieId                   \n",
              "1      1             1          1\n",
              "       3             1          1\n",
              "       6             1          1\n",
              "       47            1          1\n",
              "       50            1          1\n",
              "...                ...        ...\n",
              "610    166534        1          1\n",
              "       168248        1          1\n",
              "       168250        1          1\n",
              "       168252        1          1\n",
              "       170875        1          1\n",
              "\n",
              "[100836 rows x 2 columns]"
            ],
            "text/html": [
              "\n",
              "  <div id=\"df-2d9bc487-a055-4ea0-af73-9a6158fc8a59\">\n",
              "    <div class=\"colab-df-container\">\n",
              "      <div>\n",
              "<style scoped>\n",
              "    .dataframe tbody tr th:only-of-type {\n",
              "        vertical-align: middle;\n",
              "    }\n",
              "\n",
              "    .dataframe tbody tr th {\n",
              "        vertical-align: top;\n",
              "    }\n",
              "\n",
              "    .dataframe thead th {\n",
              "        text-align: right;\n",
              "    }\n",
              "</style>\n",
              "<table border=\"1\" class=\"dataframe\">\n",
              "  <thead>\n",
              "    <tr style=\"text-align: right;\">\n",
              "      <th></th>\n",
              "      <th></th>\n",
              "      <th>rating</th>\n",
              "      <th>timestamp</th>\n",
              "    </tr>\n",
              "    <tr>\n",
              "      <th>userId</th>\n",
              "      <th>movieId</th>\n",
              "      <th></th>\n",
              "      <th></th>\n",
              "    </tr>\n",
              "  </thead>\n",
              "  <tbody>\n",
              "    <tr>\n",
              "      <th rowspan=\"5\" valign=\"top\">1</th>\n",
              "      <th>1</th>\n",
              "      <td>1</td>\n",
              "      <td>1</td>\n",
              "    </tr>\n",
              "    <tr>\n",
              "      <th>3</th>\n",
              "      <td>1</td>\n",
              "      <td>1</td>\n",
              "    </tr>\n",
              "    <tr>\n",
              "      <th>6</th>\n",
              "      <td>1</td>\n",
              "      <td>1</td>\n",
              "    </tr>\n",
              "    <tr>\n",
              "      <th>47</th>\n",
              "      <td>1</td>\n",
              "      <td>1</td>\n",
              "    </tr>\n",
              "    <tr>\n",
              "      <th>50</th>\n",
              "      <td>1</td>\n",
              "      <td>1</td>\n",
              "    </tr>\n",
              "    <tr>\n",
              "      <th>...</th>\n",
              "      <th>...</th>\n",
              "      <td>...</td>\n",
              "      <td>...</td>\n",
              "    </tr>\n",
              "    <tr>\n",
              "      <th rowspan=\"5\" valign=\"top\">610</th>\n",
              "      <th>166534</th>\n",
              "      <td>1</td>\n",
              "      <td>1</td>\n",
              "    </tr>\n",
              "    <tr>\n",
              "      <th>168248</th>\n",
              "      <td>1</td>\n",
              "      <td>1</td>\n",
              "    </tr>\n",
              "    <tr>\n",
              "      <th>168250</th>\n",
              "      <td>1</td>\n",
              "      <td>1</td>\n",
              "    </tr>\n",
              "    <tr>\n",
              "      <th>168252</th>\n",
              "      <td>1</td>\n",
              "      <td>1</td>\n",
              "    </tr>\n",
              "    <tr>\n",
              "      <th>170875</th>\n",
              "      <td>1</td>\n",
              "      <td>1</td>\n",
              "    </tr>\n",
              "  </tbody>\n",
              "</table>\n",
              "<p>100836 rows × 2 columns</p>\n",
              "</div>\n",
              "      <button class=\"colab-df-convert\" onclick=\"convertToInteractive('df-2d9bc487-a055-4ea0-af73-9a6158fc8a59')\"\n",
              "              title=\"Convert this dataframe to an interactive table.\"\n",
              "              style=\"display:none;\">\n",
              "        \n",
              "  <svg xmlns=\"http://www.w3.org/2000/svg\" height=\"24px\"viewBox=\"0 0 24 24\"\n",
              "       width=\"24px\">\n",
              "    <path d=\"M0 0h24v24H0V0z\" fill=\"none\"/>\n",
              "    <path d=\"M18.56 5.44l.94 2.06.94-2.06 2.06-.94-2.06-.94-.94-2.06-.94 2.06-2.06.94zm-11 1L8.5 8.5l.94-2.06 2.06-.94-2.06-.94L8.5 2.5l-.94 2.06-2.06.94zm10 10l.94 2.06.94-2.06 2.06-.94-2.06-.94-.94-2.06-.94 2.06-2.06.94z\"/><path d=\"M17.41 7.96l-1.37-1.37c-.4-.4-.92-.59-1.43-.59-.52 0-1.04.2-1.43.59L10.3 9.45l-7.72 7.72c-.78.78-.78 2.05 0 2.83L4 21.41c.39.39.9.59 1.41.59.51 0 1.02-.2 1.41-.59l7.78-7.78 2.81-2.81c.8-.78.8-2.07 0-2.86zM5.41 20L4 18.59l7.72-7.72 1.47 1.35L5.41 20z\"/>\n",
              "  </svg>\n",
              "      </button>\n",
              "      \n",
              "  <style>\n",
              "    .colab-df-container {\n",
              "      display:flex;\n",
              "      flex-wrap:wrap;\n",
              "      gap: 12px;\n",
              "    }\n",
              "\n",
              "    .colab-df-convert {\n",
              "      background-color: #E8F0FE;\n",
              "      border: none;\n",
              "      border-radius: 50%;\n",
              "      cursor: pointer;\n",
              "      display: none;\n",
              "      fill: #1967D2;\n",
              "      height: 32px;\n",
              "      padding: 0 0 0 0;\n",
              "      width: 32px;\n",
              "    }\n",
              "\n",
              "    .colab-df-convert:hover {\n",
              "      background-color: #E2EBFA;\n",
              "      box-shadow: 0px 1px 2px rgba(60, 64, 67, 0.3), 0px 1px 3px 1px rgba(60, 64, 67, 0.15);\n",
              "      fill: #174EA6;\n",
              "    }\n",
              "\n",
              "    [theme=dark] .colab-df-convert {\n",
              "      background-color: #3B4455;\n",
              "      fill: #D2E3FC;\n",
              "    }\n",
              "\n",
              "    [theme=dark] .colab-df-convert:hover {\n",
              "      background-color: #434B5C;\n",
              "      box-shadow: 0px 1px 3px 1px rgba(0, 0, 0, 0.15);\n",
              "      filter: drop-shadow(0px 1px 2px rgba(0, 0, 0, 0.3));\n",
              "      fill: #FFFFFF;\n",
              "    }\n",
              "  </style>\n",
              "\n",
              "      <script>\n",
              "        const buttonEl =\n",
              "          document.querySelector('#df-2d9bc487-a055-4ea0-af73-9a6158fc8a59 button.colab-df-convert');\n",
              "        buttonEl.style.display =\n",
              "          google.colab.kernel.accessAllowed ? 'block' : 'none';\n",
              "\n",
              "        async function convertToInteractive(key) {\n",
              "          const element = document.querySelector('#df-2d9bc487-a055-4ea0-af73-9a6158fc8a59');\n",
              "          const dataTable =\n",
              "            await google.colab.kernel.invokeFunction('convertToInteractive',\n",
              "                                                     [key], {});\n",
              "          if (!dataTable) return;\n",
              "\n",
              "          const docLinkHtml = 'Like what you see? Visit the ' +\n",
              "            '<a target=\"_blank\" href=https://colab.research.google.com/notebooks/data_table.ipynb>data table notebook</a>'\n",
              "            + ' to learn more about interactive tables.';\n",
              "          element.innerHTML = '';\n",
              "          dataTable['output_type'] = 'display_data';\n",
              "          await google.colab.output.renderOutput(dataTable, element);\n",
              "          const docLink = document.createElement('div');\n",
              "          docLink.innerHTML = docLinkHtml;\n",
              "          element.appendChild(docLink);\n",
              "        }\n",
              "      </script>\n",
              "    </div>\n",
              "  </div>\n",
              "  "
            ]
          },
          "metadata": {},
          "execution_count": 8
        }
      ]
    },
    {
      "cell_type": "code",
      "source": [
        "# Finding the sum of ratings count by user-movie pair\n",
        "rating.groupby(['userId', 'movieId']).count()['rating'].sum()"
      ],
      "metadata": {
        "colab": {
          "base_uri": "https://localhost:8080/"
        },
        "id": "5M2WFyRy0tQa",
        "outputId": "fff16156-bf6b-4961-a2af-912271b7e5a4"
      },
      "execution_count": 9,
      "outputs": [
        {
          "output_type": "execute_result",
          "data": {
            "text/plain": [
              "100836"
            ]
          },
          "metadata": {},
          "execution_count": 9
        }
      ]
    },
    {
      "cell_type": "markdown",
      "source": [
        "- The sum is equal to the total number of observations, which implies that there is only one interaction between a pair of a movie and a user."
      ],
      "metadata": {
        "id": "9AU0MoFf0wD4"
      }
    },
    {
      "cell_type": "markdown",
      "source": [
        "#### **Which one is the most interacted movie in the dataset?**"
      ],
      "metadata": {
        "id": "BH5B2b0V00PC"
      }
    },
    {
      "cell_type": "code",
      "source": [
        "# Counting the number of people who have watched a certain movie\n",
        "rating['movieId'].value_counts()"
      ],
      "metadata": {
        "colab": {
          "base_uri": "https://localhost:8080/"
        },
        "id": "RyA7ZuxM0vRs",
        "outputId": "80c1950d-fc8a-4742-c06f-edb2a8cc300b"
      },
      "execution_count": 10,
      "outputs": [
        {
          "output_type": "execute_result",
          "data": {
            "text/plain": [
              "356       329\n",
              "318       317\n",
              "296       307\n",
              "593       279\n",
              "2571      278\n",
              "         ... \n",
              "86279       1\n",
              "86922       1\n",
              "5962        1\n",
              "87660       1\n",
              "163981      1\n",
              "Name: movieId, Length: 9724, dtype: int64"
            ]
          },
          "metadata": {},
          "execution_count": 10
        }
      ]
    },
    {
      "cell_type": "markdown",
      "source": [
        "- The movie with movieId 356 has been interacted by most users which is 329 times.\n",
        "- But still, there is a possibility of 610-329 = 281 more interactions as we have 610 unique users in our dataset. For those 281 remaining users, we can build a recommendation system to predict who is most likely to interact with this movie."
      ],
      "metadata": {
        "id": "PtO-y-Iq05Nb"
      }
    },
    {
      "cell_type": "markdown",
      "source": [
        "Out of these 329 interactions, we need to consider the distribution of ratings as well to check whether this movie is the most liked or most disliked movie."
      ],
      "metadata": {
        "id": "QACFFUK80-iF"
      }
    },
    {
      "cell_type": "code",
      "source": [
        "# Plotting distributions of ratings for 329 interactions with movieid 356\n",
        "# Let us fix the size of the figure\n",
        "plt.figure(figsize = (7, 7))\n",
        "rating[rating['movieId'] == 356]['rating'].value_counts().plot(kind = 'bar')\n",
        "# This gives a label to the variable on the x-axis\n",
        "plt.xlabel('Rating')\n",
        "# This gives a label to the variable on the y-axis\n",
        "plt.ylabel('Count')\n",
        "# This displays the plot\n",
        "plt.show()"
      ],
      "metadata": {
        "colab": {
          "base_uri": "https://localhost:8080/",
          "height": 448
        },
        "id": "MZa5iZI203Lk",
        "outputId": "26a9ebf4-e2e5-4861-f080-00a93c26c5e0"
      },
      "execution_count": 11,
      "outputs": [
        {
          "output_type": "display_data",
          "data": {
            "text/plain": [
              "<Figure size 504x504 with 1 Axes>"
            ],
            "image/png": "[encoded data removed]"
          },
          "metadata": {
            "needs_background": "light"
          }
        }
      ]
    },
    {
      "cell_type": "markdown",
      "source": [
        "- We can see that this movie has been liked by the majority of users, as the count of ratings 5 and 4 is higher than the count of lower ratings.\n",
        "- There can be movies with very high interactions but the count of ratings 1 and 2 may be much higher than the count for ratings 4 or 5 which would imply that the movie is disliked by the majority of the users."
      ],
      "metadata": {
        "id": "lsAh04-r1FUe"
      }
    },
    {
      "cell_type": "markdown",
      "source": [
        "#### **Which user interacted the most with any movie in the dataset?**"
      ],
      "metadata": {
        "id": "0YBLB9sW1IrP"
      }
    },
    {
      "cell_type": "code",
      "source": [
        "# Counting the number of movies each user has watched\n",
        "rating['userId'].value_counts()"
      ],
      "metadata": {
        "colab": {
          "base_uri": "https://localhost:8080/"
        },
        "id": "weMA8TFf1DlQ",
        "outputId": "249d2bbd-fe49-4c8a-f4f7-ae5228d27a74"
      },
      "execution_count": 12,
      "outputs": [
        {
          "output_type": "execute_result",
          "data": {
            "text/plain": [
              "414    2698\n",
              "599    2478\n",
              "474    2108\n",
              "448    1864\n",
              "274    1346\n",
              "       ... \n",
              "442      20\n",
              "569      20\n",
              "320      20\n",
              "576      20\n",
              "53       20\n",
              "Name: userId, Length: 610, dtype: int64"
            ]
          },
          "metadata": {},
          "execution_count": 12
        }
      ]
    },
    {
      "cell_type": "markdown",
      "source": [
        "- The user with userId: 414 has interacted with the most number of movies, i.e., 2,698 times.\n",
        "- But still, there is a possibility of 9724 - 2698 = 7026 more interactions as we have 9724 unique movies in our dataset. For those 7026 remaining movies, we can build a recommendation system to predict which movies are most likely to be watched by this user."
      ],
      "metadata": {
        "id": "xAOmht4R1N2m"
      }
    },
    {
      "cell_type": "markdown",
      "source": [
        "#### **What is the distribution of the user-movie interactions in this dataset?**"
      ],
      "metadata": {
        "id": "qjusEuSU1RG3"
      }
    },
    {
      "cell_type": "code",
      "source": [
        "# Finding user-movie interactions distribution\n",
        "count_interactions = rating.groupby('userId').count()['movieId']\n",
        "count_interactions"
      ],
      "metadata": {
        "colab": {
          "base_uri": "https://localhost:8080/"
        },
        "id": "uQR4Mdvz1LyM",
        "outputId": "50c3848a-8a8d-4452-95d5-8deacfbf7952"
      },
      "execution_count": 13,
      "outputs": [
        {
          "output_type": "execute_result",
          "data": {
            "text/plain": [
              "userId\n",
              "1       232\n",
              "2        29\n",
              "3        39\n",
              "4       216\n",
              "5        44\n",
              "       ... \n",
              "606    1115\n",
              "607     187\n",
              "608     831\n",
              "609      37\n",
              "610    1302\n",
              "Name: movieId, Length: 610, dtype: int64"
            ]
          },
          "metadata": {},
          "execution_count": 13
        }
      ]
    },
    {
      "cell_type": "markdown",
      "source": [
        "## **Model 1: Create Rank-Based Recommendation System**\n",
        "- Rank-based recommendation systems provide recommendations based on the most popular items. This kind of recommendation system is useful when we have cold start problem. Cold start refers to the issue when we get a new user into the system and the machine is not able to recommend movies to him, as the user did not have any historical interactions available in the dataset. In those cases, we can use a rank-based recommendation system to recommend movies to the new user."
      ],
      "metadata": {
        "id": "VlH86zZy1VvC"
      }
    },
    {
      "cell_type": "markdown",
      "source": [
        "**To build the rank-based recommendation system, we take the average of all the ratings provided to each movie and then rank them based on their average rating.**"
      ],
      "metadata": {
        "id": "dIvBBtrl1gr_"
      }
    },
    {
      "cell_type": "code",
      "source": [
        "# Calculate average ratings for each movie\n",
        "average_rating = rating.groupby('movieId').mean()['rating']\n",
        "\n",
        "# Calculate the count of ratings for each movie\n",
        "count_rating = rating.groupby('movieId').count()['rating']\n",
        "\n",
        "# Making a dataframe with the count and average of ratings\n",
        "final_rating = pd.DataFrame({'avg_rating': average_rating, 'rating_count': count_rating})"
      ],
      "metadata": {
        "id": "VL207Tzb1T_M"
      },
      "execution_count": 14,
      "outputs": []
    },
    {
      "cell_type": "code",
      "source": [
        "final_rating.head()"
      ],
      "metadata": {
        "colab": {
          "base_uri": "https://localhost:8080/",
          "height": 238
        },
        "id": "SgmLeW0m1kuP",
        "outputId": "f753d107-9a4f-4dee-8833-394fe12d6c59"
      },
      "execution_count": 15,
      "outputs": [
        {
          "output_type": "execute_result",
          "data": {
            "text/plain": [
              "         avg_rating  rating_count\n",
              "movieId                          \n",
              "1          3.920930           215\n",
              "2          3.431818           110\n",
              "3          3.259615            52\n",
              "4          2.357143             7\n",
              "5          3.071429            49"
            ],
            "text/html": [
              "\n",
              "  <div id=\"df-66325153-9146-4d1c-ba90-5f19916e82a5\">\n",
              "    <div class=\"colab-df-container\">\n",
              "      <div>\n",
              "<style scoped>\n",
              "    .dataframe tbody tr th:only-of-type {\n",
              "        vertical-align: middle;\n",
              "    }\n",
              "\n",
              "    .dataframe tbody tr th {\n",
              "        vertical-align: top;\n",
              "    }\n",
              "\n",
              "    .dataframe thead th {\n",
              "        text-align: right;\n",
              "    }\n",
              "</style>\n",
              "<table border=\"1\" class=\"dataframe\">\n",
              "  <thead>\n",
              "    <tr style=\"text-align: right;\">\n",
              "      <th></th>\n",
              "      <th>avg_rating</th>\n",
              "      <th>rating_count</th>\n",
              "    </tr>\n",
              "    <tr>\n",
              "      <th>movieId</th>\n",
              "      <th></th>\n",
              "      <th></th>\n",
              "    </tr>\n",
              "  </thead>\n",
              "  <tbody>\n",
              "    <tr>\n",
              "      <th>1</th>\n",
              "      <td>3.920930</td>\n",
              "      <td>215</td>\n",
              "    </tr>\n",
              "    <tr>\n",
              "      <th>2</th>\n",
              "      <td>3.431818</td>\n",
              "      <td>110</td>\n",
              "    </tr>\n",
              "    <tr>\n",
              "      <th>3</th>\n",
              "      <td>3.259615</td>\n",
              "      <td>52</td>\n",
              "    </tr>\n",
              "    <tr>\n",
              "      <th>4</th>\n",
              "      <td>2.357143</td>\n",
              "      <td>7</td>\n",
              "    </tr>\n",
              "    <tr>\n",
              "      <th>5</th>\n",
              "      <td>3.071429</td>\n",
              "      <td>49</td>\n",
              "    </tr>\n",
              "  </tbody>\n",
              "</table>\n",
              "</div>\n",
              "      <button class=\"colab-df-convert\" onclick=\"convertToInteractive('df-66325153-9146-4d1c-ba90-5f19916e82a5')\"\n",
              "              title=\"Convert this dataframe to an interactive table.\"\n",
              "              style=\"display:none;\">\n",
              "        \n",
              "  <svg xmlns=\"http://www.w3.org/2000/svg\" height=\"24px\"viewBox=\"0 0 24 24\"\n",
              "       width=\"24px\">\n",
              "    <path d=\"M0 0h24v24H0V0z\" fill=\"none\"/>\n",
              "    <path d=\"M18.56 5.44l.94 2.06.94-2.06 2.06-.94-2.06-.94-.94-2.06-.94 2.06-2.06.94zm-11 1L8.5 8.5l.94-2.06 2.06-.94-2.06-.94L8.5 2.5l-.94 2.06-2.06.94zm10 10l.94 2.06.94-2.06 2.06-.94-2.06-.94-.94-2.06-.94 2.06-2.06.94z\"/><path d=\"M17.41 7.96l-1.37-1.37c-.4-.4-.92-.59-1.43-.59-.52 0-1.04.2-1.43.59L10.3 9.45l-7.72 7.72c-.78.78-.78 2.05 0 2.83L4 21.41c.39.39.9.59 1.41.59.51 0 1.02-.2 1.41-.59l7.78-7.78 2.81-2.81c.8-.78.8-2.07 0-2.86zM5.41 20L4 18.59l7.72-7.72 1.47 1.35L5.41 20z\"/>\n",
              "  </svg>\n",
              "      </button>\n",
              "      \n",
              "  <style>\n",
              "    .colab-df-container {\n",
              "      display:flex;\n",
              "      flex-wrap:wrap;\n",
              "      gap: 12px;\n",
              "    }\n",
              "\n",
              "    .colab-df-convert {\n",
              "      background-color: #E8F0FE;\n",
              "      border: none;\n",
              "      border-radius: 50%;\n",
              "      cursor: pointer;\n",
              "      display: none;\n",
              "      fill: #1967D2;\n",
              "      height: 32px;\n",
              "      padding: 0 0 0 0;\n",
              "      width: 32px;\n",
              "    }\n",
              "\n",
              "    .colab-df-convert:hover {\n",
              "      background-color: #E2EBFA;\n",
              "      box-shadow: 0px 1px 2px rgba(60, 64, 67, 0.3), 0px 1px 3px 1px rgba(60, 64, 67, 0.15);\n",
              "      fill: #174EA6;\n",
              "    }\n",
              "\n",
              "    [theme=dark] .colab-df-convert {\n",
              "      background-color: #3B4455;\n",
              "      fill: #D2E3FC;\n",
              "    }\n",
              "\n",
              "    [theme=dark] .colab-df-convert:hover {\n",
              "      background-color: #434B5C;\n",
              "      box-shadow: 0px 1px 3px 1px rgba(0, 0, 0, 0.15);\n",
              "      filter: drop-shadow(0px 1px 2px rgba(0, 0, 0, 0.3));\n",
              "      fill: #FFFFFF;\n",
              "    }\n",
              "  </style>\n",
              "\n",
              "      <script>\n",
              "        const buttonEl =\n",
              "          document.querySelector('#df-66325153-9146-4d1c-ba90-5f19916e82a5 button.colab-df-convert');\n",
              "        buttonEl.style.display =\n",
              "          google.colab.kernel.accessAllowed ? 'block' : 'none';\n",
              "\n",
              "        async function convertToInteractive(key) {\n",
              "          const element = document.querySelector('#df-66325153-9146-4d1c-ba90-5f19916e82a5');\n",
              "          const dataTable =\n",
              "            await google.colab.kernel.invokeFunction('convertToInteractive',\n",
              "                                                     [key], {});\n",
              "          if (!dataTable) return;\n",
              "\n",
              "          const docLinkHtml = 'Like what you see? Visit the ' +\n",
              "            '<a target=\"_blank\" href=https://colab.research.google.com/notebooks/data_table.ipynb>data table notebook</a>'\n",
              "            + ' to learn more about interactive tables.';\n",
              "          element.innerHTML = '';\n",
              "          dataTable['output_type'] = 'display_data';\n",
              "          await google.colab.output.renderOutput(dataTable, element);\n",
              "          const docLink = document.createElement('div');\n",
              "          docLink.innerHTML = docLinkHtml;\n",
              "          element.appendChild(docLink);\n",
              "        }\n",
              "      </script>\n",
              "    </div>\n",
              "  </div>\n",
              "  "
            ]
          },
          "metadata": {},
          "execution_count": 15
        }
      ]
    },
    {
      "cell_type": "markdown",
      "source": [
        "Create a function to find the top n movies for a recommendation based on the average ratings of movies. We can also add a threshold for a minimum number of interactions for a movie to be considered for recommendation."
      ],
      "metadata": {
        "id": "qvrw-DG31pyq"
      }
    },
    {
      "cell_type": "code",
      "source": [
        "def top_n_movies(data, n, min_interaction = 100):\n",
        "    # Finding movies with interactions greater than the minimum number of interactions\n",
        "    recommendations = data[data['rating_count'] > min_interaction]\n",
        "    # Sorting values with respect to the average rating\n",
        "    recommendations = recommendations.sort_values(by = 'avg_rating', ascending = False)\n",
        "    return recommendations.index[:n]"
      ],
      "metadata": {
        "id": "vD0QKZ4B1mn2"
      },
      "execution_count": 16,
      "outputs": []
    },
    {
      "cell_type": "markdown",
      "source": [
        "### **Recommending top 5 movies with 50 minimum interactions based on popularity**"
      ],
      "metadata": {
        "id": "yZ0iz8zF12V1"
      }
    },
    {
      "cell_type": "code",
      "source": [
        "list(top_n_movies(final_rating, 5, 50))"
      ],
      "metadata": {
        "colab": {
          "base_uri": "https://localhost:8080/"
        },
        "id": "lny5e0xE1zfb",
        "outputId": "fa1958f9-746d-4738-ffb4-09632d7bc2f8"
      },
      "execution_count": 17,
      "outputs": [
        {
          "output_type": "execute_result",
          "data": {
            "text/plain": [
              "[318, 858, 2959, 1276, 750]"
            ]
          },
          "metadata": {},
          "execution_count": 17
        }
      ]
    },
    {
      "cell_type": "markdown",
      "source": [
        "### **Recommending top 5 movies with 100 minimum interactions based on popularity**"
      ],
      "metadata": {
        "id": "aiZ1ordG17Mp"
      }
    },
    {
      "cell_type": "code",
      "source": [
        "list(top_n_movies(final_rating, 5, 100))"
      ],
      "metadata": {
        "colab": {
          "base_uri": "https://localhost:8080/"
        },
        "id": "Oa7wBkOF15rf",
        "outputId": "79a51202-cf70-475d-8645-4ba592fb3509"
      },
      "execution_count": 18,
      "outputs": [
        {
          "output_type": "execute_result",
          "data": {
            "text/plain": [
              "[318, 858, 2959, 1221, 48516]"
            ]
          },
          "metadata": {},
          "execution_count": 18
        }
      ]
    },
    {
      "cell_type": "markdown",
      "source": [
        "### **Recommending top 5 movies with 200 minimum interactions based on popularity**"
      ],
      "metadata": {
        "id": "IhyqM3V02AP4"
      }
    },
    {
      "cell_type": "code",
      "source": [
        "list(top_n_movies(final_rating, 5, 200))"
      ],
      "metadata": {
        "colab": {
          "base_uri": "https://localhost:8080/"
        },
        "id": "_Yaqjs2G19_x",
        "outputId": "9705d74d-4641-4477-d659-965c2e2ae526"
      },
      "execution_count": 19,
      "outputs": [
        {
          "output_type": "execute_result",
          "data": {
            "text/plain": [
              "[318, 2959, 50, 260, 527]"
            ]
          },
          "metadata": {},
          "execution_count": 19
        }
      ]
    },
    {
      "cell_type": "markdown",
      "source": [
        "## **Model 2: Collaborative Filtering Based Recommendation System**"
      ],
      "metadata": {
        "id": "07QvbcEa2GuA"
      }
    },
    {
      "cell_type": "markdown",
      "source": [
        "In this type of recommendation system, we do not need any information about the user or item. We only need user-item interaction data to build a collaborative recommendation system. For example:\n",
        "\n",
        "- Ratings provided by users. For example, ratings of books on goodread, movie ratings on imdb, etc.\n",
        "- Likes of users on different facebook posts, likes on youtube videos, etc.\n",
        "- Use/buying of a product by users. For example, buying different items on e-commerce sites.\n",
        "- Reading of articles by readers on various blogs."
      ],
      "metadata": {
        "id": "az01_vtn2OSV"
      }
    },
    {
      "cell_type": "markdown",
      "source": [
        "**Types of Collaborative Filtering:**\n",
        "\n",
        "1.Similarity/Neighborhood-based\n",
        "- User-User similarity-based\n",
        "- Item-Item similarity-based\n",
        "\n",
        "2 . Model-based"
      ],
      "metadata": {
        "id": "8Eapcanx2UXV"
      }
    },
    {
      "cell_type": "markdown",
      "source": [
        "### **Building a baseline user-user similarity based recommendation system**"
      ],
      "metadata": {
        "id": "1D0Kgth42ktS"
      }
    },
    {
      "cell_type": "code",
      "source": [
        "!pip install surprise"
      ],
      "metadata": {
        "colab": {
          "base_uri": "https://localhost:8080/"
        },
        "id": "snduShfe2C2K",
        "outputId": "541c14a0-8f6e-4c8b-c098-5e5c6b788d89"
      },
      "execution_count": 20,
      "outputs": [
        {
          "output_type": "stream",
          "name": "stdout",
          "text": [
            "Looking in indexes: https://pypi.org/simple, https://us-python.pkg.dev/colab-wheels/public/simple/\n",
            "Collecting surprise\n",
            "  Downloading surprise-0.1-py2.py3-none-any.whl (1.8 kB)\n",
            "Collecting scikit-surprise\n",
            "  Downloading scikit-surprise-1.1.1.tar.gz (11.8 MB)\n",
            "\u001b[K     |████████████████████████████████| 11.8 MB 4.0 MB/s \n",
            "\u001b[?25hRequirement already satisfied: joblib>=0.11 in /usr/local/lib/python3.7/dist-packages (from scikit-surprise->surprise) (1.2.0)\n",
            "Requirement already satisfied: numpy>=1.11.2 in /usr/local/lib/python3.7/dist-packages (from scikit-surprise->surprise) (1.21.6)\n",
            "Requirement already satisfied: scipy>=1.0.0 in /usr/local/lib/python3.7/dist-packages (from scikit-surprise->surprise) (1.7.3)\n",
            "Requirement already satisfied: six>=1.10.0 in /usr/local/lib/python3.7/dist-packages (from scikit-surprise->surprise) (1.15.0)\n",
            "Building wheels for collected packages: scikit-surprise\n",
            "  Building wheel for scikit-surprise (setup.py) ... \u001b[?25l\u001b[?25hdone\n",
            "  Created wheel for scikit-surprise: filename=scikit_surprise-1.1.1-cp37-cp37m-linux_x86_64.whl size=1633995 sha256=f895bfe756e95ce88fa87183cc8487388328a7857a6166f11a07813189291162\n",
            "  Stored in directory: /root/.cache/pip/wheels/76/44/74/b498c42be47b2406bd27994e16c5188e337c657025ab400c1c\n",
            "Successfully built scikit-surprise\n",
            "Installing collected packages: scikit-surprise, surprise\n",
            "Successfully installed scikit-surprise-1.1.1 surprise-0.1\n"
          ]
        }
      ]
    },
    {
      "cell_type": "code",
      "source": [
        "# To compute the accuracy of models\n",
        "from surprise import accuracy\n",
        "# Class to parse a file containing ratings, data should be in structure - user; item; rating\n",
        "from surprise.reader import Reader\n",
        "# Class for loading datasets\n",
        "from surprise.dataset import Dataset\n",
        "# For tuning model hyperparameters\n",
        "from surprise.model_selection import GridSearchCV\n",
        "# For splitting the rating data in train and test datasets\n",
        "from surprise.model_selection import train_test_split\n",
        "# For implementing similarity-based recommendation system\n",
        "from surprise.prediction_algorithms.knns import KNNBasic\n",
        "# For implementing matrix factorization based recommendation system\n",
        "from surprise.prediction_algorithms.matrix_factorization import SVD\n",
        "# for implementing K-Fold cross-validation\n",
        "from surprise.model_selection import KFold\n",
        "# For implementing clustering-based recommendation system\n",
        "from surprise import CoClustering"
      ],
      "metadata": {
        "id": "Pn5-UvzN2p7z"
      },
      "execution_count": 21,
      "outputs": []
    },
    {
      "cell_type": "code",
      "source": [
        "def precision_recall_at_k(model, k = 10, threshold = 3.5):\n",
        "    \"\"\"Return precision and recall at k metrics for each user\"\"\"\n",
        "\n",
        "    # First map the predictions to each user\n",
        "    user_est_true = defaultdict(list)  \n",
        "    # Making predictions on the test data\n",
        "    predictions = model.test(testset)\n",
        "    \n",
        "    for uid, _, true_r, est, _ in predictions:\n",
        "        user_est_true[uid].append((est, true_r))\n",
        "\n",
        "    precisions = dict()\n",
        "    recalls = dict()\n",
        "    for uid, user_ratings in user_est_true.items():\n",
        "\n",
        "        # Sort user ratings by estimated value\n",
        "        user_ratings.sort(key = lambda x: x[0], reverse = True)\n",
        "\n",
        "        # Number of relevant items\n",
        "        n_rel = sum((true_r >= threshold) for (_, true_r) in user_ratings)\n",
        "\n",
        "        # Number of recommended items in top k\n",
        "        n_rec_k = sum((est >= threshold) for (est, _) in user_ratings[:k])\n",
        "\n",
        "        # Number of relevant and recommended items in top k\n",
        "        n_rel_and_rec_k = sum(((true_r >= threshold) and (est >= threshold))\n",
        "                              for (est, true_r) in user_ratings[:k])\n",
        "\n",
        "        # Precision@K: Proportion of recommended items that are relevant\n",
        "        # When n_rec_k is 0, Precision is undefined. Therefore, we are setting Precision to 0 when n_rec_k is 0\n",
        "\n",
        "        precisions[uid] = n_rel_and_rec_k / n_rec_k if n_rec_k != 0 else 0\n",
        "\n",
        "        # Recall@K: Proportion of relevant items that are recommended\n",
        "        # When n_rel is 0, Recall is undefined. Therefore, we are setting Recall to 0 when n_rel is 0\n",
        "\n",
        "        recalls[uid] = n_rel_and_rec_k / n_rel if n_rel != 0 else 0\n",
        "    \n",
        "    # Mean of all the predicted precisions are calculated\n",
        "    precision = round((sum(prec for prec in precisions.values()) / len(precisions)), 3)\n",
        "    \n",
        "    # Mean of all the predicted recalls are calculated\n",
        "    recall = round((sum(rec for rec in recalls.values()) / len(recalls)), 3)\n",
        "    \n",
        "    accuracy.rmse(predictions)\n",
        "    \n",
        "    print('Precision: ', precision) # Command to print the overall precision\n",
        "    \n",
        "    print('Recall: ', recall) # Command to print the overall recall\n",
        "    \n",
        "    print('F_1 score: ', round((2*precision*recall)/(precision+recall), 3)) # Formula to compute the F-1 score"
      ],
      "metadata": {
        "id": "bE7oQIiL201Q"
      },
      "execution_count": 22,
      "outputs": []
    },
    {
      "cell_type": "markdown",
      "source": [
        "- To compute precision and recall, a threshold of 3.5 and k value of 10 is taken for the recommended and relevant ratings.\n",
        "- In the present case, precision and recall, both need to be optimized as the service provider would like to minimize both the losses discussed above. Hence, the correct performance measure is the F_1 score."
      ],
      "metadata": {
        "id": "LfOakYP73C08"
      }
    },
    {
      "cell_type": "code",
      "source": [
        "# Instantiating Reader scale with expected rating scale\n",
        "reader = Reader(rating_scale = (0, 5))\n",
        "\n",
        "# Loading the rating dataset\n",
        "data = Dataset.load_from_df(rating[['userId', 'movieId', 'rating']], reader)\n",
        "\n",
        "# Splitting the data into train and test datasets\n",
        "trainset, testset = train_test_split(data, test_size = 0.2, random_state = 42)"
      ],
      "metadata": {
        "id": "DvCxEHYx295R"
      },
      "execution_count": 23,
      "outputs": []
    },
    {
      "cell_type": "markdown",
      "source": [
        "- Ready to build the first baseline similarity-based recommendation system using the cosine similarity.\n",
        "- KNNBasic is an algorithm that is also associated with the surprise package. It is used to find the desired similar items among a given set of items."
      ],
      "metadata": {
        "id": "vgV9caYT3Hsp"
      }
    },
    {
      "cell_type": "code",
      "source": [
        "# Declaring the similarity options\n",
        "sim_options = {'name': 'cosine',\n",
        "               'user_based': True}\n",
        "\n",
        "# KNN algorithm is used to find desired similar items\n",
        "sim_user_user = KNNBasic(sim_options = sim_options, verbose = False, random_state = 1)\n",
        "\n",
        "# Train the algorithm on the train set, and predict ratings for the test set\n",
        "sim_user_user.fit(trainset)\n",
        "\n",
        "# Let us compute precision@k, recall@k, and F_1 score with k = 10\n",
        "precision_recall_at_k(sim_user_user)"
      ],
      "metadata": {
        "colab": {
          "base_uri": "https://localhost:8080/"
        },
        "id": "5OQx89F63Asv",
        "outputId": "a5bed787-8371-44a1-8242-71076f79419a"
      },
      "execution_count": 24,
      "outputs": [
        {
          "output_type": "stream",
          "name": "stdout",
          "text": [
            "RMSE: 0.9823\n",
            "Precision:  0.757\n",
            "Recall:  0.542\n",
            "F_1 score:  0.632\n"
          ]
        }
      ]
    },
    {
      "cell_type": "markdown",
      "source": [
        "- We have calculated RMSE to check how far the overall predicted ratings are from the actual ratings.\n",
        "- Intuition of Recall: We are getting a recall of ~0.54, which means out of all the relevant movies 54% are recommended.\n",
        "- Intuition of Precision: We are getting a precision of ~ 0.76, which means out of all the recommended movies 76% are relevant.\n",
        "- Here F_1 score of the baseline model is ~0.63. It indicates that mostly recommended movies were relevant and relevant movies were recommended. We will try to improve this later by using GridSearchCV by tuning different hyperparameters of this algorithm."
      ],
      "metadata": {
        "id": "CHq2xxQ03O4w"
      }
    },
    {
      "cell_type": "markdown",
      "source": [
        "#### **predict the rating for the user with userId = 4 and the movie with movieId = 10**"
      ],
      "metadata": {
        "id": "APvPoNeS3W5f"
      }
    },
    {
      "cell_type": "code",
      "source": [
        "# Predicting rating for a sample user with an interacted movie\n",
        "sim_user_user.predict(4, 10, r_ui = 4, verbose = True)"
      ],
      "metadata": {
        "colab": {
          "base_uri": "https://localhost:8080/"
        },
        "id": "Gmq2v8rU3MH9",
        "outputId": "eff4f496-ef90-4773-ab9c-db032f5e9c97"
      },
      "execution_count": 25,
      "outputs": [
        {
          "output_type": "stream",
          "name": "stdout",
          "text": [
            "user: 4          item: 10         r_ui = 4.00   est = 3.41   {'actual_k': 40, 'was_impossible': False}\n"
          ]
        },
        {
          "output_type": "execute_result",
          "data": {
            "text/plain": [
              "Prediction(uid=4, iid=10, r_ui=4, est=3.4133289774831344, details={'actual_k': 40, 'was_impossible': False})"
            ]
          },
          "metadata": {},
          "execution_count": 25
        }
      ]
    },
    {
      "cell_type": "markdown",
      "source": [
        "- The above output shows that the actual rating is not so far from the predicted rating for this user-item pair by this user-user-similarity-based baseline model.\n",
        "- The output also contains \"actual_k\". It is the value of K in KNN that is used while training the model. The default value is 40."
      ],
      "metadata": {
        "id": "dh6yO4wa3eIJ"
      }
    },
    {
      "cell_type": "code",
      "source": [
        "rating[rating.movieId == 3].userId.unique()"
      ],
      "metadata": {
        "colab": {
          "base_uri": "https://localhost:8080/"
        },
        "id": "LpWHGaf93aDx",
        "outputId": "52dd73fd-a781-48f5-9f14-8f5a5ad92136"
      },
      "execution_count": 26,
      "outputs": [
        {
          "output_type": "execute_result",
          "data": {
            "text/plain": [
              "array([  1,   6,  19,  32,  42,  43,  44,  51,  58,  64,  68,  91, 100,\n",
              "       102, 116, 117, 150, 151, 169, 179, 217, 226, 240, 269, 270, 288,\n",
              "       289, 294, 302, 307, 308, 321, 330, 337, 368, 410, 414, 448, 456,\n",
              "       470, 477, 480, 492, 501, 544, 552, 555, 588, 590, 594, 599, 608])"
            ]
          },
          "metadata": {},
          "execution_count": 26
        }
      ]
    },
    {
      "cell_type": "markdown",
      "source": [
        "- As the above list does not contain user id 4, we can say that user with user id 4 has not seen the movie with movieId 3."
      ],
      "metadata": {
        "id": "Jb33dcBx3jxS"
      }
    },
    {
      "cell_type": "markdown",
      "source": [
        "#### **predicting the rating for the same userId = 4 but for a movie with which this user has not interacted yet, i.e., movieId = 3.**"
      ],
      "metadata": {
        "id": "Vu7bpEVo3mAS"
      }
    },
    {
      "cell_type": "code",
      "source": [
        "# Predicting rating for a sample user with a non interacted movie\n",
        "sim_user_user.predict(4, 3, verbose = True)"
      ],
      "metadata": {
        "colab": {
          "base_uri": "https://localhost:8080/"
        },
        "id": "DQ3kdj3d3iOW",
        "outputId": "ffa7d558-0174-4ca7-d431-99ce4f8c6e8f"
      },
      "execution_count": 27,
      "outputs": [
        {
          "output_type": "stream",
          "name": "stdout",
          "text": [
            "user: 4          item: 3          r_ui = None   est = 3.26   {'actual_k': 40, 'was_impossible': False}\n"
          ]
        },
        {
          "output_type": "execute_result",
          "data": {
            "text/plain": [
              "Prediction(uid=4, iid=3, r_ui=None, est=3.260929007645626, details={'actual_k': 40, 'was_impossible': False})"
            ]
          },
          "metadata": {},
          "execution_count": 27
        }
      ]
    },
    {
      "cell_type": "markdown",
      "source": [
        "### **Improving similarity-based recommendation system by tuning its hyperparameters**"
      ],
      "metadata": {
        "id": "G7s59Bma3tHv"
      }
    },
    {
      "cell_type": "code",
      "source": [
        "# Setting up parameter grid to tune the hyperparameters\n",
        "param_grid = {'k': [30, 40, 50], 'min_k': [3, 6, 9],\n",
        "              'sim_options': {'name': ['msd', 'cosine'],\n",
        "                              'user_based': [True]}\n",
        "              }\n",
        "\n",
        "# Performing 3-Fold cross-validation to tune the hyperparameters\n",
        "gs = GridSearchCV(KNNBasic, param_grid, measures = ['rmse'], cv = 3, n_jobs = -1)\n",
        "\n",
        "# Fitting the model on data\n",
        "gs.fit(data)\n",
        "\n",
        "# Printing the best RMSE score\n",
        "print(gs.best_score['rmse'])\n",
        "\n",
        "# Printing the combination of parameters that gave the best RMSE score\n",
        "print(gs.best_params['rmse'])"
      ],
      "metadata": {
        "colab": {
          "base_uri": "https://localhost:8080/"
        },
        "id": "Qef46Oxq3q5K",
        "outputId": "53c39e0f-6901-493c-943f-c35357ddfd2c"
      },
      "execution_count": 28,
      "outputs": [
        {
          "output_type": "stream",
          "name": "stdout",
          "text": [
            "0.9485382469024746\n",
            "{'k': 30, 'min_k': 3, 'sim_options': {'name': 'msd', 'user_based': True}}\n"
          ]
        }
      ]
    },
    {
      "cell_type": "markdown",
      "source": [
        "### **Build the final model by using the optimal values of the hyperparameters, which we received by using the grid search cross-validation.**"
      ],
      "metadata": {
        "id": "dU7O5X3h32Wm"
      }
    },
    {
      "cell_type": "code",
      "source": [
        "# Using the optimal similarity measure for user-user collaborative filtering\n",
        "sim_options = {'name': 'msd',\n",
        "               'user_based': True}\n",
        "\n",
        "# Creating an instance of KNNBasic with optimal hyperparameter values\n",
        "sim_user_user_optimized = KNNBasic(sim_options = sim_options, k = 30, min_k = 3, random_state = 1, verbose = False)\n",
        "\n",
        "# Training the algorithm on the train set\n",
        "sim_user_user_optimized.fit(trainset)\n",
        "\n",
        "# Let us compute precision@k, recall@k, and F_1 score with k = 10\n",
        "precision_recall_at_k(sim_user_user_optimized)"
      ],
      "metadata": {
        "colab": {
          "base_uri": "https://localhost:8080/"
        },
        "id": "tCQqMiZa3x9E",
        "outputId": "1719001e-36d6-464c-c99e-f93ad152297e"
      },
      "execution_count": 29,
      "outputs": [
        {
          "output_type": "stream",
          "name": "stdout",
          "text": [
            "RMSE: 0.9467\n",
            "Precision:  0.762\n",
            "Recall:  0.554\n",
            "F_1 score:  0.642\n"
          ]
        }
      ]
    },
    {
      "cell_type": "markdown",
      "source": [
        "- We can see from above that after tuning hyperparameters, F_1 score of the tuned model has increased slightly in comparison to the baseline model. Along with this, the RMSE of the model has gone down as compared to the model before hyperparameter tuning. Hence, we can say that the model performance has improved slightly after hyperparameter tuning."
      ],
      "metadata": {
        "id": "ANcp4Nqk39FA"
      }
    },
    {
      "cell_type": "markdown",
      "source": [
        "#### **Predict the rating for the user with userId = 4 and the movie with movieId = 10**"
      ],
      "metadata": {
        "id": "WQhkbN-C4Am6"
      }
    },
    {
      "cell_type": "code",
      "source": [
        "sim_user_user_optimized.predict(4, 10, r_ui = 4, verbose = True)"
      ],
      "metadata": {
        "colab": {
          "base_uri": "https://localhost:8080/"
        },
        "id": "8oYLTfbo37Nw",
        "outputId": "b4e5689d-47de-4dc6-e207-8f90389b1029"
      },
      "execution_count": 30,
      "outputs": [
        {
          "output_type": "stream",
          "name": "stdout",
          "text": [
            "user: 4          item: 10         r_ui = 4.00   est = 3.50   {'actual_k': 30, 'was_impossible': False}\n"
          ]
        },
        {
          "output_type": "execute_result",
          "data": {
            "text/plain": [
              "Prediction(uid=4, iid=10, r_ui=4, est=3.497691535784751, details={'actual_k': 30, 'was_impossible': False})"
            ]
          },
          "metadata": {},
          "execution_count": 30
        }
      ]
    },
    {
      "cell_type": "markdown",
      "source": [
        "- If we compare the predicted rating with the actual raring, we can say that the predicted rating by the tuned model is closer to the actual rating in comparison to the prediction by the baseline model."
      ],
      "metadata": {
        "id": "Z27Csn0x4Fca"
      }
    },
    {
      "cell_type": "markdown",
      "source": [
        "#### **Predicting the rating for the same userId = 4 but for a movie with which this user has not interacted before, i.e., movieId = 3**"
      ],
      "metadata": {
        "id": "C2_NMNoK4JMB"
      }
    },
    {
      "cell_type": "code",
      "source": [
        "sim_user_user_optimized.predict(4, 3, verbose = True)"
      ],
      "metadata": {
        "colab": {
          "base_uri": "https://localhost:8080/"
        },
        "id": "61PASpGR4D8R",
        "outputId": "76bc0cec-266f-4727-dd98-a3c0aafbb305"
      },
      "execution_count": 31,
      "outputs": [
        {
          "output_type": "stream",
          "name": "stdout",
          "text": [
            "user: 4          item: 3          r_ui = None   est = 3.45   {'actual_k': 30, 'was_impossible': False}\n"
          ]
        },
        {
          "output_type": "execute_result",
          "data": {
            "text/plain": [
              "Prediction(uid=4, iid=3, r_ui=None, est=3.4530529132024763, details={'actual_k': 30, 'was_impossible': False})"
            ]
          },
          "metadata": {},
          "execution_count": 31
        }
      ]
    },
    {
      "cell_type": "markdown",
      "source": [
        "### **Identifying similar users to a given user (nearest neighbors)**\n",
        "- We can also find out similar users to a given user or its nearest neighbors based on this KNNBasic algorithm. Below, we are finding the 5 most similar users to userId = 4 based on the msd distance metric."
      ],
      "metadata": {
        "id": "i63jBONJ4Ogq"
      }
    },
    {
      "cell_type": "code",
      "source": [
        "sim_user_user_optimized.get_neighbors(4, k = 5)"
      ],
      "metadata": {
        "colab": {
          "base_uri": "https://localhost:8080/"
        },
        "id": "uXHDwsCp4Mfi",
        "outputId": "e4425d84-0270-4a81-92e3-730f390e1662"
      },
      "execution_count": 32,
      "outputs": [
        {
          "output_type": "execute_result",
          "data": {
            "text/plain": [
              "[89, 90, 91, 181, 230]"
            ]
          },
          "metadata": {},
          "execution_count": 32
        }
      ]
    },
    {
      "cell_type": "markdown",
      "source": [
        "### **Implementing the recommendation algorithm based on optimized KNNBasic model**\n",
        "we will be implementing a function where the input parameters are:\n",
        "\n",
        "- data: The rating dataset.\n",
        "- user_id: The user id for which we want the recommendations.\n",
        "- top_n: The number of movies we want to recommend.\n",
        "- algo: The algorithm we want to use for predicting the ratings.\n",
        "- The output of the function is a set of top_n items recommended for the given user_id based on the given algorithm."
      ],
      "metadata": {
        "id": "l23AbgQm4W2p"
      }
    },
    {
      "cell_type": "code",
      "source": [
        "def get_recommendations(data, user_id, top_n, algo):\n",
        "    \n",
        "    # Creating an empty list to store the recommended movie ids\n",
        "    recommendations = []\n",
        "    \n",
        "    # Creating an user item interactions matrix\n",
        "    user_item_interactions_matrix = data.pivot(index = 'userId', columns = 'movieId', values = 'rating')\n",
        "    \n",
        "    # Extracting those movie IDs which the user ID has not interacted yet\n",
        "    non_interacted_movies = user_item_interactions_matrix.loc[user_id][user_item_interactions_matrix.loc[user_id].isnull()].index.tolist()\n",
        "    \n",
        "    # Looping through each of the movie IDs which user ID has not interacted yet\n",
        "    for item_id in non_interacted_movies:\n",
        "        \n",
        "        # Predicting the ratings for those non interacted movie IDs by this user\n",
        "        est = algo.predict(user_id, item_id).est\n",
        "        \n",
        "        # Appending the predicted ratings\n",
        "        recommendations.append((item_id, est))\n",
        "\n",
        "    # Sorting the predicted ratings in descending order\n",
        "    recommendations.sort(key = lambda x: x[1], reverse = True)\n",
        "\n",
        "    # Returing top n highest predicted rating movies for this user\n",
        "    return recommendations[:top_n]"
      ],
      "metadata": {
        "id": "tsu94AuS4VLn"
      },
      "execution_count": 33,
      "outputs": []
    },
    {
      "cell_type": "markdown",
      "source": [
        "#### **Predicted top 5 movies for userId = 4 using the similarity-based recommendation system.**"
      ],
      "metadata": {
        "id": "-EgvIu3q4id4"
      }
    },
    {
      "cell_type": "code",
      "source": [
        "# Making top 5 recommendations for userId 4 using the similarity-based recommendation system\n",
        "recommendations = get_recommendations(rating, 4, 5, sim_user_user_optimized)"
      ],
      "metadata": {
        "id": "wf5SMUDJ4hEM"
      },
      "execution_count": 34,
      "outputs": []
    },
    {
      "cell_type": "code",
      "source": [
        "# Building the dataframe for above recommendations with columns \"movieId\" and \"predicted_ratings\"\n",
        "pd.DataFrame(recommendations, columns = ['movieId', 'predicted_ratings'])"
      ],
      "metadata": {
        "colab": {
          "base_uri": "https://localhost:8080/",
          "height": 206
        },
        "id": "FVF7yKNy4mKe",
        "outputId": "0fa026dd-7e64-4daf-a414-476b569aed3a"
      },
      "execution_count": 35,
      "outputs": [
        {
          "output_type": "execute_result",
          "data": {
            "text/plain": [
              "   movieId  predicted_ratings\n",
              "0     3404           5.000000\n",
              "1     7121           5.000000\n",
              "2     6460           4.844207\n",
              "3   115122           4.813285\n",
              "4     1178           4.808807"
            ],
            "text/html": [
              "\n",
              "  <div id=\"df-7c8268d6-4418-4c94-a636-43aab603411b\">\n",
              "    <div class=\"colab-df-container\">\n",
              "      <div>\n",
              "<style scoped>\n",
              "    .dataframe tbody tr th:only-of-type {\n",
              "        vertical-align: middle;\n",
              "    }\n",
              "\n",
              "    .dataframe tbody tr th {\n",
              "        vertical-align: top;\n",
              "    }\n",
              "\n",
              "    .dataframe thead th {\n",
              "        text-align: right;\n",
              "    }\n",
              "</style>\n",
              "<table border=\"1\" class=\"dataframe\">\n",
              "  <thead>\n",
              "    <tr style=\"text-align: right;\">\n",
              "      <th></th>\n",
              "      <th>movieId</th>\n",
              "      <th>predicted_ratings</th>\n",
              "    </tr>\n",
              "  </thead>\n",
              "  <tbody>\n",
              "    <tr>\n",
              "      <th>0</th>\n",
              "      <td>3404</td>\n",
              "      <td>5.000000</td>\n",
              "    </tr>\n",
              "    <tr>\n",
              "      <th>1</th>\n",
              "      <td>7121</td>\n",
              "      <td>5.000000</td>\n",
              "    </tr>\n",
              "    <tr>\n",
              "      <th>2</th>\n",
              "      <td>6460</td>\n",
              "      <td>4.844207</td>\n",
              "    </tr>\n",
              "    <tr>\n",
              "      <th>3</th>\n",
              "      <td>115122</td>\n",
              "      <td>4.813285</td>\n",
              "    </tr>\n",
              "    <tr>\n",
              "      <th>4</th>\n",
              "      <td>1178</td>\n",
              "      <td>4.808807</td>\n",
              "    </tr>\n",
              "  </tbody>\n",
              "</table>\n",
              "</div>\n",
              "      <button class=\"colab-df-convert\" onclick=\"convertToInteractive('df-7c8268d6-4418-4c94-a636-43aab603411b')\"\n",
              "              title=\"Convert this dataframe to an interactive table.\"\n",
              "              style=\"display:none;\">\n",
              "        \n",
              "  <svg xmlns=\"http://www.w3.org/2000/svg\" height=\"24px\"viewBox=\"0 0 24 24\"\n",
              "       width=\"24px\">\n",
              "    <path d=\"M0 0h24v24H0V0z\" fill=\"none\"/>\n",
              "    <path d=\"M18.56 5.44l.94 2.06.94-2.06 2.06-.94-2.06-.94-.94-2.06-.94 2.06-2.06.94zm-11 1L8.5 8.5l.94-2.06 2.06-.94-2.06-.94L8.5 2.5l-.94 2.06-2.06.94zm10 10l.94 2.06.94-2.06 2.06-.94-2.06-.94-.94-2.06-.94 2.06-2.06.94z\"/><path d=\"M17.41 7.96l-1.37-1.37c-.4-.4-.92-.59-1.43-.59-.52 0-1.04.2-1.43.59L10.3 9.45l-7.72 7.72c-.78.78-.78 2.05 0 2.83L4 21.41c.39.39.9.59 1.41.59.51 0 1.02-.2 1.41-.59l7.78-7.78 2.81-2.81c.8-.78.8-2.07 0-2.86zM5.41 20L4 18.59l7.72-7.72 1.47 1.35L5.41 20z\"/>\n",
              "  </svg>\n",
              "      </button>\n",
              "      \n",
              "  <style>\n",
              "    .colab-df-container {\n",
              "      display:flex;\n",
              "      flex-wrap:wrap;\n",
              "      gap: 12px;\n",
              "    }\n",
              "\n",
              "    .colab-df-convert {\n",
              "      background-color: #E8F0FE;\n",
              "      border: none;\n",
              "      border-radius: 50%;\n",
              "      cursor: pointer;\n",
              "      display: none;\n",
              "      fill: #1967D2;\n",
              "      height: 32px;\n",
              "      padding: 0 0 0 0;\n",
              "      width: 32px;\n",
              "    }\n",
              "\n",
              "    .colab-df-convert:hover {\n",
              "      background-color: #E2EBFA;\n",
              "      box-shadow: 0px 1px 2px rgba(60, 64, 67, 0.3), 0px 1px 3px 1px rgba(60, 64, 67, 0.15);\n",
              "      fill: #174EA6;\n",
              "    }\n",
              "\n",
              "    [theme=dark] .colab-df-convert {\n",
              "      background-color: #3B4455;\n",
              "      fill: #D2E3FC;\n",
              "    }\n",
              "\n",
              "    [theme=dark] .colab-df-convert:hover {\n",
              "      background-color: #434B5C;\n",
              "      box-shadow: 0px 1px 3px 1px rgba(0, 0, 0, 0.15);\n",
              "      filter: drop-shadow(0px 1px 2px rgba(0, 0, 0, 0.3));\n",
              "      fill: #FFFFFF;\n",
              "    }\n",
              "  </style>\n",
              "\n",
              "      <script>\n",
              "        const buttonEl =\n",
              "          document.querySelector('#df-7c8268d6-4418-4c94-a636-43aab603411b button.colab-df-convert');\n",
              "        buttonEl.style.display =\n",
              "          google.colab.kernel.accessAllowed ? 'block' : 'none';\n",
              "\n",
              "        async function convertToInteractive(key) {\n",
              "          const element = document.querySelector('#df-7c8268d6-4418-4c94-a636-43aab603411b');\n",
              "          const dataTable =\n",
              "            await google.colab.kernel.invokeFunction('convertToInteractive',\n",
              "                                                     [key], {});\n",
              "          if (!dataTable) return;\n",
              "\n",
              "          const docLinkHtml = 'Like what you see? Visit the ' +\n",
              "            '<a target=\"_blank\" href=https://colab.research.google.com/notebooks/data_table.ipynb>data table notebook</a>'\n",
              "            + ' to learn more about interactive tables.';\n",
              "          element.innerHTML = '';\n",
              "          dataTable['output_type'] = 'display_data';\n",
              "          await google.colab.output.renderOutput(dataTable, element);\n",
              "          const docLink = document.createElement('div');\n",
              "          docLink.innerHTML = docLinkHtml;\n",
              "          element.appendChild(docLink);\n",
              "        }\n",
              "      </script>\n",
              "    </div>\n",
              "  </div>\n",
              "  "
            ]
          },
          "metadata": {},
          "execution_count": 35
        }
      ]
    },
    {
      "cell_type": "markdown",
      "source": [
        "### **Correcting the Ratings and Ranking the above movies**\n",
        "- While comparing the ratings of two movies, it is not only the ratings that describe the likelihood of the user to interact with that movie. Along with the rating, the number of users who have watched that movie also become important to consider. Due to this, we have calculated the \"corrected_ratings\" for each movie. Generally, higher the \"rating_count\" of a movie, more reliable the rating is. To interpret the above concept, a movie rated 4 with rating_count 3 is less liked in comparison to a movie rated 3 with a rating count of 50. It has been empirically found that the likelihood of the movie is directly proportional to the inverse of the square root of the rating_count of the movie."
      ],
      "metadata": {
        "id": "-wdJVjiH4qDw"
      }
    },
    {
      "cell_type": "code",
      "source": [
        "def ranking_movies(recommendations, final_rating):\n",
        "\n",
        "  # Sort the movies based on ratings count\n",
        "  ranked_movies = final_rating.loc[[items[0] for items in recommendations]].sort_values('rating_count', ascending = False)[['rating_count']].reset_index()\n",
        "\n",
        "  # Merge with the recommended movies to get predicted ratings\n",
        "  ranked_movies = ranked_movies.merge(pd.DataFrame(recommendations, columns = ['movieId', 'predicted_ratings']), on = 'movieId', how = 'inner')\n",
        "\n",
        "  # Rank the movies based on corrected ratings\n",
        "  ranked_movies['corrected_ratings'] = ranked_movies['predicted_ratings'] - 1 / np.sqrt(ranked_movies['rating_count'])\n",
        "\n",
        "  # Sort the movies based on corrected ratings\n",
        "  ranked_movies = ranked_movies.sort_values('corrected_ratings', ascending = False)\n",
        "  \n",
        "  return ranked_movies"
      ],
      "metadata": {
        "id": "zbOaRInq4oEW"
      },
      "execution_count": 36,
      "outputs": []
    },
    {
      "cell_type": "code",
      "source": [
        "# Applying the ranking movies function and sorting it based on corrected ratings\n",
        "ranking_movies(recommendations, final_rating)"
      ],
      "metadata": {
        "colab": {
          "base_uri": "https://localhost:8080/",
          "height": 206
        },
        "id": "eondyA9a4wF2",
        "outputId": "5a0f7667-6e4e-4d10-d72b-c57cd4d7ddc6"
      },
      "execution_count": 37,
      "outputs": [
        {
          "output_type": "execute_result",
          "data": {
            "text/plain": [
              "   movieId  rating_count  predicted_ratings  corrected_ratings\n",
              "1     3404             6           5.000000           4.591752\n",
              "0     1178            12           4.808807           4.520132\n",
              "3     7121             4           5.000000           4.500000\n",
              "2     6460             5           4.844207           4.396993\n",
              "4   115122             3           4.813285           4.235934"
            ],
            "text/html": [
              "\n",
              "  <div id=\"df-656c0f83-b8ca-4474-9372-9aade4b9bf43\">\n",
              "    <div class=\"colab-df-container\">\n",
              "      <div>\n",
              "<style scoped>\n",
              "    .dataframe tbody tr th:only-of-type {\n",
              "        vertical-align: middle;\n",
              "    }\n",
              "\n",
              "    .dataframe tbody tr th {\n",
              "        vertical-align: top;\n",
              "    }\n",
              "\n",
              "    .dataframe thead th {\n",
              "        text-align: right;\n",
              "    }\n",
              "</style>\n",
              "<table border=\"1\" class=\"dataframe\">\n",
              "  <thead>\n",
              "    <tr style=\"text-align: right;\">\n",
              "      <th></th>\n",
              "      <th>movieId</th>\n",
              "      <th>rating_count</th>\n",
              "      <th>predicted_ratings</th>\n",
              "      <th>corrected_ratings</th>\n",
              "    </tr>\n",
              "  </thead>\n",
              "  <tbody>\n",
              "    <tr>\n",
              "      <th>1</th>\n",
              "      <td>3404</td>\n",
              "      <td>6</td>\n",
              "      <td>5.000000</td>\n",
              "      <td>4.591752</td>\n",
              "    </tr>\n",
              "    <tr>\n",
              "      <th>0</th>\n",
              "      <td>1178</td>\n",
              "      <td>12</td>\n",
              "      <td>4.808807</td>\n",
              "      <td>4.520132</td>\n",
              "    </tr>\n",
              "    <tr>\n",
              "      <th>3</th>\n",
              "      <td>7121</td>\n",
              "      <td>4</td>\n",
              "      <td>5.000000</td>\n",
              "      <td>4.500000</td>\n",
              "    </tr>\n",
              "    <tr>\n",
              "      <th>2</th>\n",
              "      <td>6460</td>\n",
              "      <td>5</td>\n",
              "      <td>4.844207</td>\n",
              "      <td>4.396993</td>\n",
              "    </tr>\n",
              "    <tr>\n",
              "      <th>4</th>\n",
              "      <td>115122</td>\n",
              "      <td>3</td>\n",
              "      <td>4.813285</td>\n",
              "      <td>4.235934</td>\n",
              "    </tr>\n",
              "  </tbody>\n",
              "</table>\n",
              "</div>\n",
              "      <button class=\"colab-df-convert\" onclick=\"convertToInteractive('df-656c0f83-b8ca-4474-9372-9aade4b9bf43')\"\n",
              "              title=\"Convert this dataframe to an interactive table.\"\n",
              "              style=\"display:none;\">\n",
              "        \n",
              "  <svg xmlns=\"http://www.w3.org/2000/svg\" height=\"24px\"viewBox=\"0 0 24 24\"\n",
              "       width=\"24px\">\n",
              "    <path d=\"M0 0h24v24H0V0z\" fill=\"none\"/>\n",
              "    <path d=\"M18.56 5.44l.94 2.06.94-2.06 2.06-.94-2.06-.94-.94-2.06-.94 2.06-2.06.94zm-11 1L8.5 8.5l.94-2.06 2.06-.94-2.06-.94L8.5 2.5l-.94 2.06-2.06.94zm10 10l.94 2.06.94-2.06 2.06-.94-2.06-.94-.94-2.06-.94 2.06-2.06.94z\"/><path d=\"M17.41 7.96l-1.37-1.37c-.4-.4-.92-.59-1.43-.59-.52 0-1.04.2-1.43.59L10.3 9.45l-7.72 7.72c-.78.78-.78 2.05 0 2.83L4 21.41c.39.39.9.59 1.41.59.51 0 1.02-.2 1.41-.59l7.78-7.78 2.81-2.81c.8-.78.8-2.07 0-2.86zM5.41 20L4 18.59l7.72-7.72 1.47 1.35L5.41 20z\"/>\n",
              "  </svg>\n",
              "      </button>\n",
              "      \n",
              "  <style>\n",
              "    .colab-df-container {\n",
              "      display:flex;\n",
              "      flex-wrap:wrap;\n",
              "      gap: 12px;\n",
              "    }\n",
              "\n",
              "    .colab-df-convert {\n",
              "      background-color: #E8F0FE;\n",
              "      border: none;\n",
              "      border-radius: 50%;\n",
              "      cursor: pointer;\n",
              "      display: none;\n",
              "      fill: #1967D2;\n",
              "      height: 32px;\n",
              "      padding: 0 0 0 0;\n",
              "      width: 32px;\n",
              "    }\n",
              "\n",
              "    .colab-df-convert:hover {\n",
              "      background-color: #E2EBFA;\n",
              "      box-shadow: 0px 1px 2px rgba(60, 64, 67, 0.3), 0px 1px 3px 1px rgba(60, 64, 67, 0.15);\n",
              "      fill: #174EA6;\n",
              "    }\n",
              "\n",
              "    [theme=dark] .colab-df-convert {\n",
              "      background-color: #3B4455;\n",
              "      fill: #D2E3FC;\n",
              "    }\n",
              "\n",
              "    [theme=dark] .colab-df-convert:hover {\n",
              "      background-color: #434B5C;\n",
              "      box-shadow: 0px 1px 3px 1px rgba(0, 0, 0, 0.15);\n",
              "      filter: drop-shadow(0px 1px 2px rgba(0, 0, 0, 0.3));\n",
              "      fill: #FFFFFF;\n",
              "    }\n",
              "  </style>\n",
              "\n",
              "      <script>\n",
              "        const buttonEl =\n",
              "          document.querySelector('#df-656c0f83-b8ca-4474-9372-9aade4b9bf43 button.colab-df-convert');\n",
              "        buttonEl.style.display =\n",
              "          google.colab.kernel.accessAllowed ? 'block' : 'none';\n",
              "\n",
              "        async function convertToInteractive(key) {\n",
              "          const element = document.querySelector('#df-656c0f83-b8ca-4474-9372-9aade4b9bf43');\n",
              "          const dataTable =\n",
              "            await google.colab.kernel.invokeFunction('convertToInteractive',\n",
              "                                                     [key], {});\n",
              "          if (!dataTable) return;\n",
              "\n",
              "          const docLinkHtml = 'Like what you see? Visit the ' +\n",
              "            '<a target=\"_blank\" href=https://colab.research.google.com/notebooks/data_table.ipynb>data table notebook</a>'\n",
              "            + ' to learn more about interactive tables.';\n",
              "          element.innerHTML = '';\n",
              "          dataTable['output_type'] = 'display_data';\n",
              "          await google.colab.output.renderOutput(dataTable, element);\n",
              "          const docLink = document.createElement('div');\n",
              "          docLink.innerHTML = docLinkHtml;\n",
              "          element.appendChild(docLink);\n",
              "        }\n",
              "      </script>\n",
              "    </div>\n",
              "  </div>\n",
              "  "
            ]
          },
          "metadata": {},
          "execution_count": 37
        }
      ]
    },
    {
      "cell_type": "markdown",
      "source": [
        "### **Item-Item Similarity-Based Collaborative Filtering Recommendation Systems**"
      ],
      "metadata": {
        "id": "voQCwBom4z7J"
      }
    },
    {
      "cell_type": "code",
      "source": [
        "# Declaring the similarity options\n",
        "sim_options = {'name': 'cosine',\n",
        "               'user_based': False}\n",
        "\n",
        "# The KNN algorithm is used to find desired similar items\n",
        "sim_item_item = KNNBasic(sim_options = sim_options, random_state = 1, verbose = False)\n",
        "\n",
        "# Train the algorithm on the train set, and predict ratings for the testset\n",
        "sim_item_item.fit(trainset)\n",
        "\n",
        "# Let us compute precision@k, recall@k, and f_1 score with k = 10\n",
        "precision_recall_at_k(sim_item_item)"
      ],
      "metadata": {
        "colab": {
          "base_uri": "https://localhost:8080/"
        },
        "id": "Bqxpsa0I4yEM",
        "outputId": "2c616c60-5273-4906-f13b-47d9ec68f535"
      },
      "execution_count": 38,
      "outputs": [
        {
          "output_type": "stream",
          "name": "stdout",
          "text": [
            "RMSE: 0.9800\n",
            "Precision:  0.609\n",
            "Recall:  0.464\n",
            "F_1 score:  0.527\n"
          ]
        }
      ]
    },
    {
      "cell_type": "markdown",
      "source": [
        "- Here, F_1 score of the baseline model is ~0.53. We will try to improve this later by tuning different hyperparameters of this algorithm using GridSearchCV."
      ],
      "metadata": {
        "id": "1sxO6x8W45Tl"
      }
    },
    {
      "cell_type": "markdown",
      "source": [
        "#### **predict the rating for the user with userId = 4 and the movie with movieId = 10**"
      ],
      "metadata": {
        "id": "ASCJGKpS472o"
      }
    },
    {
      "cell_type": "code",
      "source": [
        "# Predicting rating for a sample user with an interacted movie\n",
        "sim_item_item.predict(4, 10, r_ui = 4, verbose = True)"
      ],
      "metadata": {
        "colab": {
          "base_uri": "https://localhost:8080/"
        },
        "id": "eGQSZQtV43W8",
        "outputId": "332a717e-cb24-4552-a611-5ad9448026a9"
      },
      "execution_count": 39,
      "outputs": [
        {
          "output_type": "stream",
          "name": "stdout",
          "text": [
            "user: 4          item: 10         r_ui = 4.00   est = 3.63   {'actual_k': 40, 'was_impossible': False}\n"
          ]
        },
        {
          "output_type": "execute_result",
          "data": {
            "text/plain": [
              "Prediction(uid=4, iid=10, r_ui=4, est=3.6257369831511945, details={'actual_k': 40, 'was_impossible': False})"
            ]
          },
          "metadata": {},
          "execution_count": 39
        }
      ]
    },
    {
      "cell_type": "markdown",
      "source": [
        "- The above output shows that the actual rating for this user-item pair is 4, and the predicted rating is close to that."
      ],
      "metadata": {
        "id": "6oehTkYa5AqP"
      }
    },
    {
      "cell_type": "markdown",
      "source": [
        "#### **predicting the rating for the same userId = 4 but for a movie with which this user has not interacted yet, i.e., movieId = 3.**"
      ],
      "metadata": {
        "id": "QAaeY4bb5EPt"
      }
    },
    {
      "cell_type": "code",
      "source": [
        "# Predicting rating for a sample user with a non interacted movie\n",
        "sim_item_item.predict(4, 3, verbose = True)"
      ],
      "metadata": {
        "colab": {
          "base_uri": "https://localhost:8080/"
        },
        "id": "UScoOshC4-2J",
        "outputId": "9182de7a-ab46-46bb-914d-0cfcf73283c1"
      },
      "execution_count": 40,
      "outputs": [
        {
          "output_type": "stream",
          "name": "stdout",
          "text": [
            "user: 4          item: 3          r_ui = None   est = 3.67   {'actual_k': 40, 'was_impossible': False}\n"
          ]
        },
        {
          "output_type": "execute_result",
          "data": {
            "text/plain": [
              "Prediction(uid=4, iid=3, r_ui=None, est=3.6748659322681623, details={'actual_k': 40, 'was_impossible': False})"
            ]
          },
          "metadata": {},
          "execution_count": 40
        }
      ]
    },
    {
      "cell_type": "markdown",
      "source": [
        "### **Improving similarity-based recommendation system by tuning its hyperparameters**"
      ],
      "metadata": {
        "id": "xxyqtfsx5JeP"
      }
    },
    {
      "cell_type": "code",
      "source": [
        "# Setting up parameter grid to tune the hyperparameters\n",
        "param_grid = {'k': [10, 20, 30], 'min_k': [3, 6, 9],\n",
        "              'sim_options': {'name': ['msd', 'cosine'],\n",
        "                              'user_based': [False]}\n",
        "              }\n",
        "\n",
        "# Performing 3-Fold cross validation to tune the hyperparameters\n",
        "gs = GridSearchCV(KNNBasic, param_grid, measures = ['rmse'], cv = 3, n_jobs = -1)\n",
        "\n",
        "# Fitting the model on the data\n",
        "gs.fit(data)\n",
        "\n",
        "# Print the best RMSE score\n",
        "print(gs.best_score['rmse'])\n",
        "\n",
        "# Print the combination of parameters that gave the best RMSE score\n",
        "print(gs.best_params['rmse'])"
      ],
      "metadata": {
        "colab": {
          "base_uri": "https://localhost:8080/"
        },
        "id": "g1iM1AkA5HbO",
        "outputId": "cec2170e-e32b-40a5-f5a1-8dd112fd5b7d"
      },
      "execution_count": 41,
      "outputs": [
        {
          "output_type": "stream",
          "name": "stdout",
          "text": [
            "0.9171927610615155\n",
            "{'k': 30, 'min_k': 9, 'sim_options': {'name': 'msd', 'user_based': False}}\n"
          ]
        }
      ]
    },
    {
      "cell_type": "code",
      "source": [
        "# Using the optimal similarity measure for item-item based collaborative filtering\n",
        "sim_options = {'name': 'msd',\n",
        "               'user_based': False}\n",
        "\n",
        "# Creating an instance of KNNBasic with optimal hyperparameter values\n",
        "sim_item_item_optimized = KNNBasic(sim_options = sim_options, k = 30, min_k = 6, random_state = 1, verbose = False)\n",
        "\n",
        "# Training the algorithm on the train set\n",
        "sim_item_item_optimized.fit(trainset)\n",
        "\n",
        "# Let us compute precision@k, recall@k, and f_1 score with k = 10\n",
        "precision_recall_at_k(sim_item_item_optimized)"
      ],
      "metadata": {
        "id": "_pniQVnD5Mhs",
        "colab": {
          "base_uri": "https://localhost:8080/"
        },
        "outputId": "a97cd827-4fbd-4177-da73-cdeae3f8a866"
      },
      "execution_count": 42,
      "outputs": [
        {
          "output_type": "stream",
          "name": "stdout",
          "text": [
            "RMSE: 0.9160\n",
            "Precision:  0.678\n",
            "Recall:  0.499\n",
            "F_1 score:  0.575\n"
          ]
        }
      ]
    },
    {
      "cell_type": "markdown",
      "source": [
        "- We can observe that after tuning hyperparameters, F_1 score of the model is better than the baseline model. Along with this, the RMSE of the model has gone down in comparison to the model with default hyperparameters. Hence, we can say that the model performance has improved after hyperparameter tuning."
      ],
      "metadata": {
        "id": "glCyUxZx5QJp"
      }
    },
    {
      "cell_type": "markdown",
      "source": [
        "#### **predict the rating for the user with userId = 4 and the movie with movieId = 10**"
      ],
      "metadata": {
        "id": "1S2VgDHi5SqM"
      }
    },
    {
      "cell_type": "code",
      "source": [
        "sim_item_item_optimized.predict(4, 10, r_ui = 4, verbose = True)"
      ],
      "metadata": {
        "id": "tfrh8jRs5OyS",
        "colab": {
          "base_uri": "https://localhost:8080/"
        },
        "outputId": "72d77833-464f-446d-af4f-164d43682471"
      },
      "execution_count": 43,
      "outputs": [
        {
          "output_type": "stream",
          "name": "stdout",
          "text": [
            "user: 4          item: 10         r_ui = 4.00   est = 3.26   {'actual_k': 30, 'was_impossible': False}\n"
          ]
        },
        {
          "output_type": "execute_result",
          "data": {
            "text/plain": [
              "Prediction(uid=4, iid=10, r_ui=4, est=3.2569148418342952, details={'actual_k': 30, 'was_impossible': False})"
            ]
          },
          "metadata": {},
          "execution_count": 43
        }
      ]
    },
    {
      "cell_type": "markdown",
      "source": [
        "- We observe that the predicted rating by the baseline model was closer to the actual rating in comparison to that by the optimized model. This might be because, although the overall score has increased, the prediction for this particular user is not that good."
      ],
      "metadata": {
        "id": "-Hb9HqQ_5XJu"
      }
    },
    {
      "cell_type": "markdown",
      "source": [
        "#### **predicting the rating for the same userId = 4 but for a movie which this user has not interacted before, i.e., movieId = 3**"
      ],
      "metadata": {
        "id": "hkAcNbc25bRM"
      }
    },
    {
      "cell_type": "code",
      "source": [
        "sim_item_item_optimized.predict(4, 3, verbose = True)"
      ],
      "metadata": {
        "id": "NfxXt1575VWS",
        "colab": {
          "base_uri": "https://localhost:8080/"
        },
        "outputId": "e9dc06bf-98c3-4896-c54a-90521bf13ea0"
      },
      "execution_count": 44,
      "outputs": [
        {
          "output_type": "stream",
          "name": "stdout",
          "text": [
            "user: 4          item: 3          r_ui = None   est = 3.57   {'actual_k': 30, 'was_impossible': False}\n"
          ]
        },
        {
          "output_type": "execute_result",
          "data": {
            "text/plain": [
              "Prediction(uid=4, iid=3, r_ui=None, est=3.574650247164053, details={'actual_k': 30, 'was_impossible': False})"
            ]
          },
          "metadata": {},
          "execution_count": 44
        }
      ]
    },
    {
      "cell_type": "markdown",
      "source": [
        "### **Identifying similar items to a given item (nearest neighbors)**"
      ],
      "metadata": {
        "id": "lESeEQx95f0y"
      }
    },
    {
      "cell_type": "code",
      "source": [
        "sim_item_item_optimized.get_neighbors(3, k = 5)"
      ],
      "metadata": {
        "id": "SVqBC6zr5eCc",
        "colab": {
          "base_uri": "https://localhost:8080/"
        },
        "outputId": "f94a0ec9-d030-40d8-8693-74a7ac22833b"
      },
      "execution_count": 45,
      "outputs": [
        {
          "output_type": "execute_result",
          "data": {
            "text/plain": [
              "[26, 83, 248, 254, 343]"
            ]
          },
          "metadata": {},
          "execution_count": 45
        }
      ]
    },
    {
      "cell_type": "markdown",
      "source": [
        "#### **Predicting top 5 movies for userId = 4 using the similarity-based recommendation system.**"
      ],
      "metadata": {
        "id": "9ZRoUTgL5kEg"
      }
    },
    {
      "cell_type": "code",
      "source": [
        "# Making top 5 recommendations for userId 4 using the similarity-based recommendation system\n",
        "recommendations = get_recommendations(rating, 4, 5, sim_item_item_optimized)"
      ],
      "metadata": {
        "id": "VlSeTg235i3R"
      },
      "execution_count": 46,
      "outputs": []
    },
    {
      "cell_type": "code",
      "source": [
        "# Building the dataframe for above recommendations with columns \"movieId\" and \"predicted_ratings\"\n",
        "pd.DataFrame(recommendations, columns = ['movieId', 'predicted_ratings'])"
      ],
      "metadata": {
        "id": "msDmhOfP5m9X",
        "colab": {
          "base_uri": "https://localhost:8080/",
          "height": 206
        },
        "outputId": "db6c43e2-c4a1-40e9-f47e-ff81b30b0345"
      },
      "execution_count": 47,
      "outputs": [
        {
          "output_type": "execute_result",
          "data": {
            "text/plain": [
              "   movieId  predicted_ratings\n",
              "0     5706           4.771028\n",
              "1   176579           4.748016\n",
              "2    25959           4.744049\n",
              "3     2149           4.730439\n",
              "4    56176           4.724374"
            ],
            "text/html": [
              "\n",
              "  <div id=\"df-92a7b610-042f-4d11-827e-ccd444e5f20f\">\n",
              "    <div class=\"colab-df-container\">\n",
              "      <div>\n",
              "<style scoped>\n",
              "    .dataframe tbody tr th:only-of-type {\n",
              "        vertical-align: middle;\n",
              "    }\n",
              "\n",
              "    .dataframe tbody tr th {\n",
              "        vertical-align: top;\n",
              "    }\n",
              "\n",
              "    .dataframe thead th {\n",
              "        text-align: right;\n",
              "    }\n",
              "</style>\n",
              "<table border=\"1\" class=\"dataframe\">\n",
              "  <thead>\n",
              "    <tr style=\"text-align: right;\">\n",
              "      <th></th>\n",
              "      <th>movieId</th>\n",
              "      <th>predicted_ratings</th>\n",
              "    </tr>\n",
              "  </thead>\n",
              "  <tbody>\n",
              "    <tr>\n",
              "      <th>0</th>\n",
              "      <td>5706</td>\n",
              "      <td>4.771028</td>\n",
              "    </tr>\n",
              "    <tr>\n",
              "      <th>1</th>\n",
              "      <td>176579</td>\n",
              "      <td>4.748016</td>\n",
              "    </tr>\n",
              "    <tr>\n",
              "      <th>2</th>\n",
              "      <td>25959</td>\n",
              "      <td>4.744049</td>\n",
              "    </tr>\n",
              "    <tr>\n",
              "      <th>3</th>\n",
              "      <td>2149</td>\n",
              "      <td>4.730439</td>\n",
              "    </tr>\n",
              "    <tr>\n",
              "      <th>4</th>\n",
              "      <td>56176</td>\n",
              "      <td>4.724374</td>\n",
              "    </tr>\n",
              "  </tbody>\n",
              "</table>\n",
              "</div>\n",
              "      <button class=\"colab-df-convert\" onclick=\"convertToInteractive('df-92a7b610-042f-4d11-827e-ccd444e5f20f')\"\n",
              "              title=\"Convert this dataframe to an interactive table.\"\n",
              "              style=\"display:none;\">\n",
              "        \n",
              "  <svg xmlns=\"http://www.w3.org/2000/svg\" height=\"24px\"viewBox=\"0 0 24 24\"\n",
              "       width=\"24px\">\n",
              "    <path d=\"M0 0h24v24H0V0z\" fill=\"none\"/>\n",
              "    <path d=\"M18.56 5.44l.94 2.06.94-2.06 2.06-.94-2.06-.94-.94-2.06-.94 2.06-2.06.94zm-11 1L8.5 8.5l.94-2.06 2.06-.94-2.06-.94L8.5 2.5l-.94 2.06-2.06.94zm10 10l.94 2.06.94-2.06 2.06-.94-2.06-.94-.94-2.06-.94 2.06-2.06.94z\"/><path d=\"M17.41 7.96l-1.37-1.37c-.4-.4-.92-.59-1.43-.59-.52 0-1.04.2-1.43.59L10.3 9.45l-7.72 7.72c-.78.78-.78 2.05 0 2.83L4 21.41c.39.39.9.59 1.41.59.51 0 1.02-.2 1.41-.59l7.78-7.78 2.81-2.81c.8-.78.8-2.07 0-2.86zM5.41 20L4 18.59l7.72-7.72 1.47 1.35L5.41 20z\"/>\n",
              "  </svg>\n",
              "      </button>\n",
              "      \n",
              "  <style>\n",
              "    .colab-df-container {\n",
              "      display:flex;\n",
              "      flex-wrap:wrap;\n",
              "      gap: 12px;\n",
              "    }\n",
              "\n",
              "    .colab-df-convert {\n",
              "      background-color: #E8F0FE;\n",
              "      border: none;\n",
              "      border-radius: 50%;\n",
              "      cursor: pointer;\n",
              "      display: none;\n",
              "      fill: #1967D2;\n",
              "      height: 32px;\n",
              "      padding: 0 0 0 0;\n",
              "      width: 32px;\n",
              "    }\n",
              "\n",
              "    .colab-df-convert:hover {\n",
              "      background-color: #E2EBFA;\n",
              "      box-shadow: 0px 1px 2px rgba(60, 64, 67, 0.3), 0px 1px 3px 1px rgba(60, 64, 67, 0.15);\n",
              "      fill: #174EA6;\n",
              "    }\n",
              "\n",
              "    [theme=dark] .colab-df-convert {\n",
              "      background-color: #3B4455;\n",
              "      fill: #D2E3FC;\n",
              "    }\n",
              "\n",
              "    [theme=dark] .colab-df-convert:hover {\n",
              "      background-color: #434B5C;\n",
              "      box-shadow: 0px 1px 3px 1px rgba(0, 0, 0, 0.15);\n",
              "      filter: drop-shadow(0px 1px 2px rgba(0, 0, 0, 0.3));\n",
              "      fill: #FFFFFF;\n",
              "    }\n",
              "  </style>\n",
              "\n",
              "      <script>\n",
              "        const buttonEl =\n",
              "          document.querySelector('#df-92a7b610-042f-4d11-827e-ccd444e5f20f button.colab-df-convert');\n",
              "        buttonEl.style.display =\n",
              "          google.colab.kernel.accessAllowed ? 'block' : 'none';\n",
              "\n",
              "        async function convertToInteractive(key) {\n",
              "          const element = document.querySelector('#df-92a7b610-042f-4d11-827e-ccd444e5f20f');\n",
              "          const dataTable =\n",
              "            await google.colab.kernel.invokeFunction('convertToInteractive',\n",
              "                                                     [key], {});\n",
              "          if (!dataTable) return;\n",
              "\n",
              "          const docLinkHtml = 'Like what you see? Visit the ' +\n",
              "            '<a target=\"_blank\" href=https://colab.research.google.com/notebooks/data_table.ipynb>data table notebook</a>'\n",
              "            + ' to learn more about interactive tables.';\n",
              "          element.innerHTML = '';\n",
              "          dataTable['output_type'] = 'display_data';\n",
              "          await google.colab.output.renderOutput(dataTable, element);\n",
              "          const docLink = document.createElement('div');\n",
              "          docLink.innerHTML = docLinkHtml;\n",
              "          element.appendChild(docLink);\n",
              "        }\n",
              "      </script>\n",
              "    </div>\n",
              "  </div>\n",
              "  "
            ]
          },
          "metadata": {},
          "execution_count": 47
        }
      ]
    },
    {
      "cell_type": "code",
      "source": [
        "# Applying the \"ranking_movies\" function and sorting it based on corrected ratings\n",
        "ranking_movies(recommendations, final_rating)"
      ],
      "metadata": {
        "id": "ewOYsnSP5oyD",
        "colab": {
          "base_uri": "https://localhost:8080/",
          "height": 206
        },
        "outputId": "3cf49c3b-90d1-4846-b560-f9d315a25674"
      },
      "execution_count": 48,
      "outputs": [
        {
          "output_type": "execute_result",
          "data": {
            "text/plain": [
              "   movieId  rating_count  predicted_ratings  corrected_ratings\n",
              "0     2149             4           4.730439           4.230439\n",
              "1    56176             3           4.724374           4.147023\n",
              "2     5706             1           4.771028           3.771028\n",
              "3   176579             1           4.748016           3.748016\n",
              "4    25959             1           4.744049           3.744049"
            ],
            "text/html": [
              "\n",
              "  <div id=\"df-afb88d54-1795-4824-b503-a283c62ee00b\">\n",
              "    <div class=\"colab-df-container\">\n",
              "      <div>\n",
              "<style scoped>\n",
              "    .dataframe tbody tr th:only-of-type {\n",
              "        vertical-align: middle;\n",
              "    }\n",
              "\n",
              "    .dataframe tbody tr th {\n",
              "        vertical-align: top;\n",
              "    }\n",
              "\n",
              "    .dataframe thead th {\n",
              "        text-align: right;\n",
              "    }\n",
              "</style>\n",
              "<table border=\"1\" class=\"dataframe\">\n",
              "  <thead>\n",
              "    <tr style=\"text-align: right;\">\n",
              "      <th></th>\n",
              "      <th>movieId</th>\n",
              "      <th>rating_count</th>\n",
              "      <th>predicted_ratings</th>\n",
              "      <th>corrected_ratings</th>\n",
              "    </tr>\n",
              "  </thead>\n",
              "  <tbody>\n",
              "    <tr>\n",
              "      <th>0</th>\n",
              "      <td>2149</td>\n",
              "      <td>4</td>\n",
              "      <td>4.730439</td>\n",
              "      <td>4.230439</td>\n",
              "    </tr>\n",
              "    <tr>\n",
              "      <th>1</th>\n",
              "      <td>56176</td>\n",
              "      <td>3</td>\n",
              "      <td>4.724374</td>\n",
              "      <td>4.147023</td>\n",
              "    </tr>\n",
              "    <tr>\n",
              "      <th>2</th>\n",
              "      <td>5706</td>\n",
              "      <td>1</td>\n",
              "      <td>4.771028</td>\n",
              "      <td>3.771028</td>\n",
              "    </tr>\n",
              "    <tr>\n",
              "      <th>3</th>\n",
              "      <td>176579</td>\n",
              "      <td>1</td>\n",
              "      <td>4.748016</td>\n",
              "      <td>3.748016</td>\n",
              "    </tr>\n",
              "    <tr>\n",
              "      <th>4</th>\n",
              "      <td>25959</td>\n",
              "      <td>1</td>\n",
              "      <td>4.744049</td>\n",
              "      <td>3.744049</td>\n",
              "    </tr>\n",
              "  </tbody>\n",
              "</table>\n",
              "</div>\n",
              "      <button class=\"colab-df-convert\" onclick=\"convertToInteractive('df-afb88d54-1795-4824-b503-a283c62ee00b')\"\n",
              "              title=\"Convert this dataframe to an interactive table.\"\n",
              "              style=\"display:none;\">\n",
              "        \n",
              "  <svg xmlns=\"http://www.w3.org/2000/svg\" height=\"24px\"viewBox=\"0 0 24 24\"\n",
              "       width=\"24px\">\n",
              "    <path d=\"M0 0h24v24H0V0z\" fill=\"none\"/>\n",
              "    <path d=\"M18.56 5.44l.94 2.06.94-2.06 2.06-.94-2.06-.94-.94-2.06-.94 2.06-2.06.94zm-11 1L8.5 8.5l.94-2.06 2.06-.94-2.06-.94L8.5 2.5l-.94 2.06-2.06.94zm10 10l.94 2.06.94-2.06 2.06-.94-2.06-.94-.94-2.06-.94 2.06-2.06.94z\"/><path d=\"M17.41 7.96l-1.37-1.37c-.4-.4-.92-.59-1.43-.59-.52 0-1.04.2-1.43.59L10.3 9.45l-7.72 7.72c-.78.78-.78 2.05 0 2.83L4 21.41c.39.39.9.59 1.41.59.51 0 1.02-.2 1.41-.59l7.78-7.78 2.81-2.81c.8-.78.8-2.07 0-2.86zM5.41 20L4 18.59l7.72-7.72 1.47 1.35L5.41 20z\"/>\n",
              "  </svg>\n",
              "      </button>\n",
              "      \n",
              "  <style>\n",
              "    .colab-df-container {\n",
              "      display:flex;\n",
              "      flex-wrap:wrap;\n",
              "      gap: 12px;\n",
              "    }\n",
              "\n",
              "    .colab-df-convert {\n",
              "      background-color: #E8F0FE;\n",
              "      border: none;\n",
              "      border-radius: 50%;\n",
              "      cursor: pointer;\n",
              "      display: none;\n",
              "      fill: #1967D2;\n",
              "      height: 32px;\n",
              "      padding: 0 0 0 0;\n",
              "      width: 32px;\n",
              "    }\n",
              "\n",
              "    .colab-df-convert:hover {\n",
              "      background-color: #E2EBFA;\n",
              "      box-shadow: 0px 1px 2px rgba(60, 64, 67, 0.3), 0px 1px 3px 1px rgba(60, 64, 67, 0.15);\n",
              "      fill: #174EA6;\n",
              "    }\n",
              "\n",
              "    [theme=dark] .colab-df-convert {\n",
              "      background-color: #3B4455;\n",
              "      fill: #D2E3FC;\n",
              "    }\n",
              "\n",
              "    [theme=dark] .colab-df-convert:hover {\n",
              "      background-color: #434B5C;\n",
              "      box-shadow: 0px 1px 3px 1px rgba(0, 0, 0, 0.15);\n",
              "      filter: drop-shadow(0px 1px 2px rgba(0, 0, 0, 0.3));\n",
              "      fill: #FFFFFF;\n",
              "    }\n",
              "  </style>\n",
              "\n",
              "      <script>\n",
              "        const buttonEl =\n",
              "          document.querySelector('#df-afb88d54-1795-4824-b503-a283c62ee00b button.colab-df-convert');\n",
              "        buttonEl.style.display =\n",
              "          google.colab.kernel.accessAllowed ? 'block' : 'none';\n",
              "\n",
              "        async function convertToInteractive(key) {\n",
              "          const element = document.querySelector('#df-afb88d54-1795-4824-b503-a283c62ee00b');\n",
              "          const dataTable =\n",
              "            await google.colab.kernel.invokeFunction('convertToInteractive',\n",
              "                                                     [key], {});\n",
              "          if (!dataTable) return;\n",
              "\n",
              "          const docLinkHtml = 'Like what you see? Visit the ' +\n",
              "            '<a target=\"_blank\" href=https://colab.research.google.com/notebooks/data_table.ipynb>data table notebook</a>'\n",
              "            + ' to learn more about interactive tables.';\n",
              "          element.innerHTML = '';\n",
              "          dataTable['output_type'] = 'display_data';\n",
              "          await google.colab.output.renderOutput(dataTable, element);\n",
              "          const docLink = document.createElement('div');\n",
              "          docLink.innerHTML = docLinkHtml;\n",
              "          element.appendChild(docLink);\n",
              "        }\n",
              "      </script>\n",
              "    </div>\n",
              "  </div>\n",
              "  "
            ]
          },
          "metadata": {},
          "execution_count": 48
        }
      ]
    },
    {
      "cell_type": "markdown",
      "source": [
        "## **Model 3: Matrix Factorization**"
      ],
      "metadata": {
        "id": "f4p9jHRA5tEc"
      }
    },
    {
      "cell_type": "markdown",
      "source": [
        "### **Building a baseline matrix factorization recommendation system**"
      ],
      "metadata": {
        "id": "yd5B1ErM5ztZ"
      }
    },
    {
      "cell_type": "code",
      "source": [
        "# Using SVD with matrix factorization\n",
        "svd = SVD(random_state = 1)\n",
        "\n",
        "# Training the algorithm on the training dataset\n",
        "svd.fit(trainset)\n",
        "\n",
        "# Let us compute precision@k, recall@k, and f_1 score with k = 10\n",
        "precision_recall_at_k(svd)"
      ],
      "metadata": {
        "id": "U5bRxFbg5qqq",
        "colab": {
          "base_uri": "https://localhost:8080/"
        },
        "outputId": "ad6c705b-bf1b-4ffe-cdc6-5013f8bb8afd"
      },
      "execution_count": 49,
      "outputs": [
        {
          "output_type": "stream",
          "name": "stdout",
          "text": [
            "RMSE: 0.8797\n",
            "Precision:  0.738\n",
            "Recall:  0.507\n",
            "F_1 score:  0.601\n"
          ]
        }
      ]
    },
    {
      "cell_type": "markdown",
      "source": [
        "- We can observe that the F_1 score for the matrix factorization model on the test set is lower in comparison to the F_1 score for the user-user-similarity recommendation system and optimized user-user similarity-based recommendation system."
      ],
      "metadata": {
        "id": "MyYDiVam54ql"
      }
    },
    {
      "cell_type": "markdown",
      "source": [
        "#### **predict the rating for the user with userId = 4 and the movie with movieId = 10**"
      ],
      "metadata": {
        "id": "o3QPzMTu58ge"
      }
    },
    {
      "cell_type": "code",
      "source": [
        "# Making prediction for userId 4 and movieId 10\n",
        "svd.predict(4, 10, r_ui = 4, verbose = True)"
      ],
      "metadata": {
        "id": "B9IMDXr953sm",
        "colab": {
          "base_uri": "https://localhost:8080/"
        },
        "outputId": "22107684-82c1-40b4-e371-9b9a278eefd4"
      },
      "execution_count": 50,
      "outputs": [
        {
          "output_type": "stream",
          "name": "stdout",
          "text": [
            "user: 4          item: 10         r_ui = 4.00   est = 3.33   {'was_impossible': False}\n"
          ]
        },
        {
          "output_type": "execute_result",
          "data": {
            "text/plain": [
              "Prediction(uid=4, iid=10, r_ui=4, est=3.333359479354037, details={'was_impossible': False})"
            ]
          },
          "metadata": {},
          "execution_count": 50
        }
      ]
    },
    {
      "cell_type": "markdown",
      "source": [
        "#### **predicting rating for the same userId = 4 but for a movie which this user has not interacted before, i.e., movieId = 3**"
      ],
      "metadata": {
        "id": "fdw19ZGB6Cf6"
      }
    },
    {
      "cell_type": "code",
      "source": [
        "# Making prediction for userid 4 and movieId 3\n",
        "svd.predict(4, 3, verbose = True)"
      ],
      "metadata": {
        "id": "lqEiDeNC5_lt",
        "colab": {
          "base_uri": "https://localhost:8080/"
        },
        "outputId": "71c24797-ed17-4140-d333-3e93479eac84"
      },
      "execution_count": 51,
      "outputs": [
        {
          "output_type": "stream",
          "name": "stdout",
          "text": [
            "user: 4          item: 3          r_ui = None   est = 2.94   {'was_impossible': False}\n"
          ]
        },
        {
          "output_type": "execute_result",
          "data": {
            "text/plain": [
              "Prediction(uid=4, iid=3, r_ui=None, est=2.9386110726567756, details={'was_impossible': False})"
            ]
          },
          "metadata": {},
          "execution_count": 51
        }
      ]
    },
    {
      "cell_type": "markdown",
      "source": [
        "### **Improving matrix factorization based recommendation system by tuning its hyperparameters**\n",
        "we will be tuning only three hyperparameters:\n",
        "- n_epochs: The number of iterations of the SVD algorithm.\n",
        "- lr_all: The learning rate for all the parameters.\n",
        "- reg_all: The regularization term for all the parameters."
      ],
      "metadata": {
        "id": "ffjup86a6IeM"
      }
    },
    {
      "cell_type": "code",
      "source": [
        "# Set the parameter space to do hyperparameter tuning\n",
        "param_grid = {'n_epochs': [10, 20, 30], 'lr_all': [0.001, 0.005, 0.01],\n",
        "              'reg_all': [0.2, 0.4, 0.6]}\n",
        "\n",
        "# Performing 3-Fold gridsearch cross-validation\n",
        "gs = GridSearchCV(SVD, param_grid, measures = ['rmse'], cv = 3, n_jobs = -1)\n",
        "\n",
        "# Fitting the model on the data\n",
        "gs.fit(data)\n",
        "\n",
        "# Print the best RMSE score\n",
        "print(gs.best_score['rmse'])\n",
        "\n",
        "# Print the combination of parameters that gave the best RMSE score\n",
        "print(gs.best_params['rmse'])"
      ],
      "metadata": {
        "id": "oxtdYNwf6GgH",
        "colab": {
          "base_uri": "https://localhost:8080/"
        },
        "outputId": "dee74224-75e2-4054-f346-0511bd27d967"
      },
      "execution_count": 52,
      "outputs": [
        {
          "output_type": "stream",
          "name": "stdout",
          "text": [
            "0.8725254177992737\n",
            "{'n_epochs': 30, 'lr_all': 0.01, 'reg_all': 0.2}\n"
          ]
        }
      ]
    },
    {
      "cell_type": "code",
      "source": [
        "# Building the optimized SVD model using optimal hyperparameters search\n",
        "svd_optimized = SVD(n_epochs = 30, lr_all = 0.01, reg_all = 0.2, random_state = 1)\n",
        "\n",
        "# Training the algorithm on the train set\n",
        "svd_optimized = svd_optimized.fit(trainset)\n",
        "\n",
        "# Let us compute precision@k, recall@k, and f_1 score with k = 10\n",
        "precision_recall_at_k(svd_optimized)"
      ],
      "metadata": {
        "id": "UPCgjrlB6Qti",
        "colab": {
          "base_uri": "https://localhost:8080/"
        },
        "outputId": "98f9a7ad-bdd0-4a07-f45f-67f721e8d152"
      },
      "execution_count": 53,
      "outputs": [
        {
          "output_type": "stream",
          "name": "stdout",
          "text": [
            "RMSE: 0.8752\n",
            "Precision:  0.731\n",
            "Recall:  0.511\n",
            "F_1 score:  0.602\n"
          ]
        }
      ]
    },
    {
      "cell_type": "markdown",
      "source": [
        "- We can observe that after tuning hyperparameters, the model performance has not improved by much."
      ],
      "metadata": {
        "id": "Y6ugOw1u6TxL"
      }
    },
    {
      "cell_type": "markdown",
      "source": [
        "#### **predict the rating for the user with userId = 4 and the movie with movieId = 10**"
      ],
      "metadata": {
        "id": "A-1wz8k-6V3Q"
      }
    },
    {
      "cell_type": "code",
      "source": [
        "# Using svd_algo_optimized model to recommend for userId 4 and movieId 10\n",
        "svd_optimized.predict(4, 10, r_ui = 4, verbose = True)"
      ],
      "metadata": {
        "id": "L0C6I7Tl6Scl",
        "colab": {
          "base_uri": "https://localhost:8080/"
        },
        "outputId": "811ceb7c-3043-4cf0-a7e3-d948d3d47988"
      },
      "execution_count": 54,
      "outputs": [
        {
          "output_type": "stream",
          "name": "stdout",
          "text": [
            "user: 4          item: 10         r_ui = 4.00   est = 3.39   {'was_impossible': False}\n"
          ]
        },
        {
          "output_type": "execute_result",
          "data": {
            "text/plain": [
              "Prediction(uid=4, iid=10, r_ui=4, est=3.3892642624049993, details={'was_impossible': False})"
            ]
          },
          "metadata": {},
          "execution_count": 54
        }
      ]
    },
    {
      "cell_type": "code",
      "source": [
        "# Using svd_algo_optimized model to recommend for userId 4 and movieId 3 with unknown baseline rating\n",
        "svd_optimized.predict(4, 3, verbose = True)"
      ],
      "metadata": {
        "id": "gkwel3YQ6Ygf",
        "colab": {
          "base_uri": "https://localhost:8080/"
        },
        "outputId": "2bfd8299-9ce6-4edc-d4fd-e332c4281f06"
      },
      "execution_count": 55,
      "outputs": [
        {
          "output_type": "stream",
          "name": "stdout",
          "text": [
            "user: 4          item: 3          r_ui = None   est = 3.20   {'was_impossible': False}\n"
          ]
        },
        {
          "output_type": "execute_result",
          "data": {
            "text/plain": [
              "Prediction(uid=4, iid=3, r_ui=None, est=3.20286300753659, details={'was_impossible': False})"
            ]
          },
          "metadata": {},
          "execution_count": 55
        }
      ]
    },
    {
      "cell_type": "markdown",
      "source": [
        "### **recommend the movies using the optimized svd model.**"
      ],
      "metadata": {
        "id": "Ni4rnKle6cHm"
      }
    },
    {
      "cell_type": "code",
      "source": [
        "# Getting top 5 recommendations for userId 4 using \"svd_algo_optimized\" algorithm\n",
        "svd_recommendations = get_recommendations(rating, 4, 5, svd_optimized)"
      ],
      "metadata": {
        "id": "Lgt2Br8N6aDL"
      },
      "execution_count": 56,
      "outputs": []
    },
    {
      "cell_type": "code",
      "source": [
        "# Ranking movies based on above recommendations\n",
        "ranking_movies(svd_recommendations, final_rating)"
      ],
      "metadata": {
        "id": "Z_9xlMJO6fUx",
        "colab": {
          "base_uri": "https://localhost:8080/",
          "height": 206
        },
        "outputId": "766567f7-b563-470d-fb46-370a10e21dce"
      },
      "execution_count": 57,
      "outputs": [
        {
          "output_type": "execute_result",
          "data": {
            "text/plain": [
              "   movieId  rating_count  predicted_ratings  corrected_ratings\n",
              "0     1178            12           4.446400           4.157725\n",
              "1   177593             8           4.380428           4.026875\n",
              "2   106642             7           4.379596           4.001631\n",
              "3     3266             6           4.332485           3.924236\n",
              "4     7121             4           4.342665           3.842665"
            ],
            "text/html": [
              "\n",
              "  <div id=\"df-00c043ab-fe04-4913-b435-12b35a971c8b\">\n",
              "    <div class=\"colab-df-container\">\n",
              "      <div>\n",
              "<style scoped>\n",
              "    .dataframe tbody tr th:only-of-type {\n",
              "        vertical-align: middle;\n",
              "    }\n",
              "\n",
              "    .dataframe tbody tr th {\n",
              "        vertical-align: top;\n",
              "    }\n",
              "\n",
              "    .dataframe thead th {\n",
              "        text-align: right;\n",
              "    }\n",
              "</style>\n",
              "<table border=\"1\" class=\"dataframe\">\n",
              "  <thead>\n",
              "    <tr style=\"text-align: right;\">\n",
              "      <th></th>\n",
              "      <th>movieId</th>\n",
              "      <th>rating_count</th>\n",
              "      <th>predicted_ratings</th>\n",
              "      <th>corrected_ratings</th>\n",
              "    </tr>\n",
              "  </thead>\n",
              "  <tbody>\n",
              "    <tr>\n",
              "      <th>0</th>\n",
              "      <td>1178</td>\n",
              "      <td>12</td>\n",
              "      <td>4.446400</td>\n",
              "      <td>4.157725</td>\n",
              "    </tr>\n",
              "    <tr>\n",
              "      <th>1</th>\n",
              "      <td>177593</td>\n",
              "      <td>8</td>\n",
              "      <td>4.380428</td>\n",
              "      <td>4.026875</td>\n",
              "    </tr>\n",
              "    <tr>\n",
              "      <th>2</th>\n",
              "      <td>106642</td>\n",
              "      <td>7</td>\n",
              "      <td>4.379596</td>\n",
              "      <td>4.001631</td>\n",
              "    </tr>\n",
              "    <tr>\n",
              "      <th>3</th>\n",
              "      <td>3266</td>\n",
              "      <td>6</td>\n",
              "      <td>4.332485</td>\n",
              "      <td>3.924236</td>\n",
              "    </tr>\n",
              "    <tr>\n",
              "      <th>4</th>\n",
              "      <td>7121</td>\n",
              "      <td>4</td>\n",
              "      <td>4.342665</td>\n",
              "      <td>3.842665</td>\n",
              "    </tr>\n",
              "  </tbody>\n",
              "</table>\n",
              "</div>\n",
              "      <button class=\"colab-df-convert\" onclick=\"convertToInteractive('df-00c043ab-fe04-4913-b435-12b35a971c8b')\"\n",
              "              title=\"Convert this dataframe to an interactive table.\"\n",
              "              style=\"display:none;\">\n",
              "        \n",
              "  <svg xmlns=\"http://www.w3.org/2000/svg\" height=\"24px\"viewBox=\"0 0 24 24\"\n",
              "       width=\"24px\">\n",
              "    <path d=\"M0 0h24v24H0V0z\" fill=\"none\"/>\n",
              "    <path d=\"M18.56 5.44l.94 2.06.94-2.06 2.06-.94-2.06-.94-.94-2.06-.94 2.06-2.06.94zm-11 1L8.5 8.5l.94-2.06 2.06-.94-2.06-.94L8.5 2.5l-.94 2.06-2.06.94zm10 10l.94 2.06.94-2.06 2.06-.94-2.06-.94-.94-2.06-.94 2.06-2.06.94z\"/><path d=\"M17.41 7.96l-1.37-1.37c-.4-.4-.92-.59-1.43-.59-.52 0-1.04.2-1.43.59L10.3 9.45l-7.72 7.72c-.78.78-.78 2.05 0 2.83L4 21.41c.39.39.9.59 1.41.59.51 0 1.02-.2 1.41-.59l7.78-7.78 2.81-2.81c.8-.78.8-2.07 0-2.86zM5.41 20L4 18.59l7.72-7.72 1.47 1.35L5.41 20z\"/>\n",
              "  </svg>\n",
              "      </button>\n",
              "      \n",
              "  <style>\n",
              "    .colab-df-container {\n",
              "      display:flex;\n",
              "      flex-wrap:wrap;\n",
              "      gap: 12px;\n",
              "    }\n",
              "\n",
              "    .colab-df-convert {\n",
              "      background-color: #E8F0FE;\n",
              "      border: none;\n",
              "      border-radius: 50%;\n",
              "      cursor: pointer;\n",
              "      display: none;\n",
              "      fill: #1967D2;\n",
              "      height: 32px;\n",
              "      padding: 0 0 0 0;\n",
              "      width: 32px;\n",
              "    }\n",
              "\n",
              "    .colab-df-convert:hover {\n",
              "      background-color: #E2EBFA;\n",
              "      box-shadow: 0px 1px 2px rgba(60, 64, 67, 0.3), 0px 1px 3px 1px rgba(60, 64, 67, 0.15);\n",
              "      fill: #174EA6;\n",
              "    }\n",
              "\n",
              "    [theme=dark] .colab-df-convert {\n",
              "      background-color: #3B4455;\n",
              "      fill: #D2E3FC;\n",
              "    }\n",
              "\n",
              "    [theme=dark] .colab-df-convert:hover {\n",
              "      background-color: #434B5C;\n",
              "      box-shadow: 0px 1px 3px 1px rgba(0, 0, 0, 0.15);\n",
              "      filter: drop-shadow(0px 1px 2px rgba(0, 0, 0, 0.3));\n",
              "      fill: #FFFFFF;\n",
              "    }\n",
              "  </style>\n",
              "\n",
              "      <script>\n",
              "        const buttonEl =\n",
              "          document.querySelector('#df-00c043ab-fe04-4913-b435-12b35a971c8b button.colab-df-convert');\n",
              "        buttonEl.style.display =\n",
              "          google.colab.kernel.accessAllowed ? 'block' : 'none';\n",
              "\n",
              "        async function convertToInteractive(key) {\n",
              "          const element = document.querySelector('#df-00c043ab-fe04-4913-b435-12b35a971c8b');\n",
              "          const dataTable =\n",
              "            await google.colab.kernel.invokeFunction('convertToInteractive',\n",
              "                                                     [key], {});\n",
              "          if (!dataTable) return;\n",
              "\n",
              "          const docLinkHtml = 'Like what you see? Visit the ' +\n",
              "            '<a target=\"_blank\" href=https://colab.research.google.com/notebooks/data_table.ipynb>data table notebook</a>'\n",
              "            + ' to learn more about interactive tables.';\n",
              "          element.innerHTML = '';\n",
              "          dataTable['output_type'] = 'display_data';\n",
              "          await google.colab.output.renderOutput(dataTable, element);\n",
              "          const docLink = document.createElement('div');\n",
              "          docLink.innerHTML = docLinkHtml;\n",
              "          element.appendChild(docLink);\n",
              "        }\n",
              "      </script>\n",
              "    </div>\n",
              "  </div>\n",
              "  "
            ]
          },
          "metadata": {},
          "execution_count": 57
        }
      ]
    },
    {
      "cell_type": "markdown",
      "source": [
        "## **Conclusion**\n",
        "Built recommendation systems using four different algorithms. They are as follows:\n",
        "- Rank-based using averages\n",
        "- User-User similarity-based collaborative filtering\n",
        "- Item-Item similarity-based collaborative filtering\n",
        "- Model-based collaborative filtering (matrix factorization)\n",
        "- The surprise library was used to demonstrate\"user-user similarity-based collaborative filtering,\" \"item-item similarity-based collaborative filtering,\" and \"model-based collaborative filtering (matrix factorization)\" algorithms. For these algorithms, grid search cross-validation is used to find the optimal hyperparameters for the data, and related predictions are created using the optimal hyperparameters.\n",
        "- For performance evaluation of these models precision@k and recall@k are used. Using these two metrics, the F_1 score is calculated for each working model.\n",
        "- Overall, the user-user similarity-based recommendation system has given the best performance in terms of the F1-Score."
      ],
      "metadata": {
        "id": "4x3YfFp_6hlk"
      }
    },
    {
      "cell_type": "code",
      "source": [],
      "metadata": {
        "id": "wyqTEL5K6gqN"
      },
      "execution_count": 57,
      "outputs": []
    }
  ]
}