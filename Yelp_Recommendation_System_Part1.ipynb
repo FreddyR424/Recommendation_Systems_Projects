{
  "nbformat": 4,
  "nbformat_minor": 0,
  "metadata": {
    "colab": {
      "provenance": [],
      "authorship_tag": "ABX9TyNPU575uSvffABCudVABBsG",
      "include_colab_link": true
    },
    "kernelspec": {
      "name": "python3",
      "display_name": "Python 3"
    },
    "language_info": {
      "name": "python"
    }
  },
  "cells": [
    {
      "cell_type": "markdown",
      "metadata": {
        "id": "view-in-github",
        "colab_type": "text"
      },
      "source": [
        "<a href=\"https://colab.research.google.com/github/FreddyR424/Recommendation_Systems_Projects/blob/master/Yelp_Recommendation_System_Part1.ipynb\" target=\"_parent\"><img src=\"https://colab.research.google.com/assets/colab-badge.svg\" alt=\"Open In Colab\"/></a>"
      ]
    },
    {
      "cell_type": "markdown",
      "source": [
        "# **Case Study: Yelp Restaurant Recommendation System - Part 1**"
      ],
      "metadata": {
        "id": "4x9dw8D8AwX6"
      }
    },
    {
      "cell_type": "markdown",
      "source": [
        "## **Context**\n",
        "- Yelp was founded in 2004 to help people find great local businesses. Today, the website and their mobile application publish crowd-sourced reviews about local businesses as well as certain metadata about them that can help in customer's decision-making process. Yelp uses automated software to recommend the most helpful and reliable reviews for the Yelp community from such a large and diverse dataset.\n",
        "\n",
        "- The Yelp dataset is a large collection of user reviews, business metadata, business check-ins, users' social network data, user tips for businesses across 10 cities spread across 4 countries."
      ],
      "metadata": {
        "id": "a1RPajjXA0Pv"
      }
    },
    {
      "cell_type": "markdown",
      "source": [
        "## **Objective**\n",
        "**We will build three types of recommendation systems:**\n",
        "- Knowledge/Rank Based recommendation system\n",
        "- Similarity-Based Collaborative filtering\n",
        "- Matrix Factorization Based Collaborative Filtering"
      ],
      "metadata": {
        "id": "B0ckT9_wA8Nr"
      }
    },
    {
      "cell_type": "markdown",
      "source": [
        "## **Dataset**\n",
        "Out of many attributes available in the yelp_reviews data, we will only use the following four attributes:\n",
        "- business_id\n",
        "- business_name\n",
        "- stars\n",
        "- user_id"
      ],
      "metadata": {
        "id": "4VTV9bJ5BFof"
      }
    },
    {
      "cell_type": "markdown",
      "source": [
        "## **Mounting Google Drive**"
      ],
      "metadata": {
        "id": "tMmklfHgDopj"
      }
    },
    {
      "cell_type": "code",
      "execution_count": 1,
      "metadata": {
        "colab": {
          "base_uri": "https://localhost:8080/"
        },
        "id": "qJ4OwFpt-MKM",
        "outputId": "01ff32d4-8429-4604-fd2e-82b842993b7e"
      },
      "outputs": [
        {
          "output_type": "stream",
          "name": "stdout",
          "text": [
            "Mounted at /content/drive\n"
          ]
        }
      ],
      "source": [
        "# Mounting the drive\n",
        "from google.colab import drive\n",
        "drive.mount('/content/drive')"
      ]
    },
    {
      "cell_type": "markdown",
      "source": [
        "## **Imports**"
      ],
      "metadata": {
        "id": "R3tAH-R2D__N"
      }
    },
    {
      "cell_type": "code",
      "source": [
        "import warnings\n",
        "warnings.filterwarnings('ignore')\n",
        "import numpy as np, pandas as pd\n",
        "import matplotlib.pyplot as plt\n",
        "import seaborn as sns\n",
        "from collections import defaultdict\n",
        "from sklearn.metrics import mean_squared_error"
      ],
      "metadata": {
        "id": "ZAc88MlFD7JM"
      },
      "execution_count": 2,
      "outputs": []
    },
    {
      "cell_type": "markdown",
      "source": [
        "## **Loading Dataset**"
      ],
      "metadata": {
        "id": "BEoDx_EYF0DN"
      }
    },
    {
      "cell_type": "code",
      "source": [
        "# Importing the dataset\n",
        "yelp_review = pd.read_csv('/content/drive/MyDrive/yelp_reviews.csv', usecols = ['user_id', 'business_id', 'business_name', 'stars'])\n",
        "\n",
        "# Dropping the \"business_name\" column\n",
        "data = yelp_review.drop(\"business_name\", axis = 1)"
      ],
      "metadata": {
        "id": "Avaqn4OHEHhy"
      },
      "execution_count": 4,
      "outputs": []
    },
    {
      "cell_type": "code",
      "source": [
        "data.info()"
      ],
      "metadata": {
        "colab": {
          "base_uri": "https://localhost:8080/"
        },
        "id": "Jn12jVqIF4A7",
        "outputId": "a68e2a43-2a4a-4c20-c796-46a14b702734"
      },
      "execution_count": 5,
      "outputs": [
        {
          "output_type": "stream",
          "name": "stdout",
          "text": [
            "<class 'pandas.core.frame.DataFrame'>\n",
            "RangeIndex: 229907 entries, 0 to 229906\n",
            "Data columns (total 3 columns):\n",
            " #   Column       Non-Null Count   Dtype \n",
            "---  ------       --------------   ----- \n",
            " 0   business_id  229907 non-null  object\n",
            " 1   stars        229907 non-null  int64 \n",
            " 2   user_id      229907 non-null  object\n",
            "dtypes: int64(1), object(2)\n",
            "memory usage: 5.3+ MB\n"
          ]
        }
      ]
    },
    {
      "cell_type": "markdown",
      "source": [
        "- There are 2,29,907 rows and 3 columns in the data."
      ],
      "metadata": {
        "id": "bX9SoTllI5B4"
      }
    },
    {
      "cell_type": "markdown",
      "source": [
        "## **Data Exploration**"
      ],
      "metadata": {
        "id": "NT1EOnFsI6au"
      }
    },
    {
      "cell_type": "code",
      "source": [
        "data.head()"
      ],
      "metadata": {
        "colab": {
          "base_uri": "https://localhost:8080/",
          "height": 206
        },
        "id": "f4s7_sejI3jb",
        "outputId": "8753324d-2100-45a7-8d97-b1dcff37aabb"
      },
      "execution_count": 6,
      "outputs": [
        {
          "output_type": "execute_result",
          "data": {
            "text/plain": [
              "              business_id  stars                 user_id\n",
              "0  9yKzy9PApeiPPOUJEtnvkg      5  rLtl8ZkDX5vH5nAx9C3q5Q\n",
              "1  ZRJwVLyzEJq1VAihDhYiow      5  0a2KyEL0d3Yb1V6aivbIuQ\n",
              "2  6oRAC4uyJCsJl1X0WZpVSA      4  0hT2KtfLiobPvh6cDC8JQg\n",
              "3  _1QQZuf4zZOyFCvXc0o6Vg      5  uZetl9T0NcROGOyFfughhg\n",
              "4  6ozycU1RpktNG2-1BroVtw      5  vYmM4KTsC8ZfQBg-j5MWkw"
            ],
            "text/html": [
              "\n",
              "  <div id=\"df-9c3d3929-ba20-41a3-bd5a-3c3063e67158\">\n",
              "    <div class=\"colab-df-container\">\n",
              "      <div>\n",
              "<style scoped>\n",
              "    .dataframe tbody tr th:only-of-type {\n",
              "        vertical-align: middle;\n",
              "    }\n",
              "\n",
              "    .dataframe tbody tr th {\n",
              "        vertical-align: top;\n",
              "    }\n",
              "\n",
              "    .dataframe thead th {\n",
              "        text-align: right;\n",
              "    }\n",
              "</style>\n",
              "<table border=\"1\" class=\"dataframe\">\n",
              "  <thead>\n",
              "    <tr style=\"text-align: right;\">\n",
              "      <th></th>\n",
              "      <th>business_id</th>\n",
              "      <th>stars</th>\n",
              "      <th>user_id</th>\n",
              "    </tr>\n",
              "  </thead>\n",
              "  <tbody>\n",
              "    <tr>\n",
              "      <th>0</th>\n",
              "      <td>9yKzy9PApeiPPOUJEtnvkg</td>\n",
              "      <td>5</td>\n",
              "      <td>rLtl8ZkDX5vH5nAx9C3q5Q</td>\n",
              "    </tr>\n",
              "    <tr>\n",
              "      <th>1</th>\n",
              "      <td>ZRJwVLyzEJq1VAihDhYiow</td>\n",
              "      <td>5</td>\n",
              "      <td>0a2KyEL0d3Yb1V6aivbIuQ</td>\n",
              "    </tr>\n",
              "    <tr>\n",
              "      <th>2</th>\n",
              "      <td>6oRAC4uyJCsJl1X0WZpVSA</td>\n",
              "      <td>4</td>\n",
              "      <td>0hT2KtfLiobPvh6cDC8JQg</td>\n",
              "    </tr>\n",
              "    <tr>\n",
              "      <th>3</th>\n",
              "      <td>_1QQZuf4zZOyFCvXc0o6Vg</td>\n",
              "      <td>5</td>\n",
              "      <td>uZetl9T0NcROGOyFfughhg</td>\n",
              "    </tr>\n",
              "    <tr>\n",
              "      <th>4</th>\n",
              "      <td>6ozycU1RpktNG2-1BroVtw</td>\n",
              "      <td>5</td>\n",
              "      <td>vYmM4KTsC8ZfQBg-j5MWkw</td>\n",
              "    </tr>\n",
              "  </tbody>\n",
              "</table>\n",
              "</div>\n",
              "      <button class=\"colab-df-convert\" onclick=\"convertToInteractive('df-9c3d3929-ba20-41a3-bd5a-3c3063e67158')\"\n",
              "              title=\"Convert this dataframe to an interactive table.\"\n",
              "              style=\"display:none;\">\n",
              "        \n",
              "  <svg xmlns=\"http://www.w3.org/2000/svg\" height=\"24px\"viewBox=\"0 0 24 24\"\n",
              "       width=\"24px\">\n",
              "    <path d=\"M0 0h24v24H0V0z\" fill=\"none\"/>\n",
              "    <path d=\"M18.56 5.44l.94 2.06.94-2.06 2.06-.94-2.06-.94-.94-2.06-.94 2.06-2.06.94zm-11 1L8.5 8.5l.94-2.06 2.06-.94-2.06-.94L8.5 2.5l-.94 2.06-2.06.94zm10 10l.94 2.06.94-2.06 2.06-.94-2.06-.94-.94-2.06-.94 2.06-2.06.94z\"/><path d=\"M17.41 7.96l-1.37-1.37c-.4-.4-.92-.59-1.43-.59-.52 0-1.04.2-1.43.59L10.3 9.45l-7.72 7.72c-.78.78-.78 2.05 0 2.83L4 21.41c.39.39.9.59 1.41.59.51 0 1.02-.2 1.41-.59l7.78-7.78 2.81-2.81c.8-.78.8-2.07 0-2.86zM5.41 20L4 18.59l7.72-7.72 1.47 1.35L5.41 20z\"/>\n",
              "  </svg>\n",
              "      </button>\n",
              "      \n",
              "  <style>\n",
              "    .colab-df-container {\n",
              "      display:flex;\n",
              "      flex-wrap:wrap;\n",
              "      gap: 12px;\n",
              "    }\n",
              "\n",
              "    .colab-df-convert {\n",
              "      background-color: #E8F0FE;\n",
              "      border: none;\n",
              "      border-radius: 50%;\n",
              "      cursor: pointer;\n",
              "      display: none;\n",
              "      fill: #1967D2;\n",
              "      height: 32px;\n",
              "      padding: 0 0 0 0;\n",
              "      width: 32px;\n",
              "    }\n",
              "\n",
              "    .colab-df-convert:hover {\n",
              "      background-color: #E2EBFA;\n",
              "      box-shadow: 0px 1px 2px rgba(60, 64, 67, 0.3), 0px 1px 3px 1px rgba(60, 64, 67, 0.15);\n",
              "      fill: #174EA6;\n",
              "    }\n",
              "\n",
              "    [theme=dark] .colab-df-convert {\n",
              "      background-color: #3B4455;\n",
              "      fill: #D2E3FC;\n",
              "    }\n",
              "\n",
              "    [theme=dark] .colab-df-convert:hover {\n",
              "      background-color: #434B5C;\n",
              "      box-shadow: 0px 1px 3px 1px rgba(0, 0, 0, 0.15);\n",
              "      filter: drop-shadow(0px 1px 2px rgba(0, 0, 0, 0.3));\n",
              "      fill: #FFFFFF;\n",
              "    }\n",
              "  </style>\n",
              "\n",
              "      <script>\n",
              "        const buttonEl =\n",
              "          document.querySelector('#df-9c3d3929-ba20-41a3-bd5a-3c3063e67158 button.colab-df-convert');\n",
              "        buttonEl.style.display =\n",
              "          google.colab.kernel.accessAllowed ? 'block' : 'none';\n",
              "\n",
              "        async function convertToInteractive(key) {\n",
              "          const element = document.querySelector('#df-9c3d3929-ba20-41a3-bd5a-3c3063e67158');\n",
              "          const dataTable =\n",
              "            await google.colab.kernel.invokeFunction('convertToInteractive',\n",
              "                                                     [key], {});\n",
              "          if (!dataTable) return;\n",
              "\n",
              "          const docLinkHtml = 'Like what you see? Visit the ' +\n",
              "            '<a target=\"_blank\" href=https://colab.research.google.com/notebooks/data_table.ipynb>data table notebook</a>'\n",
              "            + ' to learn more about interactive tables.';\n",
              "          element.innerHTML = '';\n",
              "          dataTable['output_type'] = 'display_data';\n",
              "          await google.colab.output.renderOutput(dataTable, element);\n",
              "          const docLink = document.createElement('div');\n",
              "          docLink.innerHTML = docLinkHtml;\n",
              "          element.appendChild(docLink);\n",
              "        }\n",
              "      </script>\n",
              "    </div>\n",
              "  </div>\n",
              "  "
            ]
          },
          "metadata": {},
          "execution_count": 6
        }
      ]
    },
    {
      "cell_type": "markdown",
      "source": [
        "#### **Describe the distribution of ratings**"
      ],
      "metadata": {
        "id": "IdoBG-PEJDGM"
      }
    },
    {
      "cell_type": "code",
      "source": [
        "# Fix the figure size\n",
        "plt.figure(figsize = (12, 5))\n",
        "\n",
        "ax = sns.countplot(x = \"stars\", data = data)\n",
        "\n",
        "plt.tick_params(labelsize = 10)\n",
        "\n",
        "plt.title(\"Distribution of Ratings \", fontsize = 10)\n",
        "\n",
        "# Set the xlabel of the plot\n",
        "plt.xlabel(\"Ratings\", fontsize = 10)\n",
        "\n",
        "# Set the ylabel of the plot\n",
        "plt.ylabel(\"Number of Ratings\", fontsize = 10)\n",
        "\n",
        "# Display the plot\n",
        "plt.show()"
      ],
      "metadata": {
        "colab": {
          "base_uri": "https://localhost:8080/",
          "height": 348
        },
        "id": "1W9eiRdEJAyt",
        "outputId": "b9897259-7641-4d6a-b0e7-cf09b38f9d8c"
      },
      "execution_count": 7,
      "outputs": [
        {
          "output_type": "display_data",
          "data": {
            "text/plain": [
              "<Figure size 864x360 with 1 Axes>"
            ],
            "image/png": "[encoded data removed]"
          },
          "metadata": {
            "needs_background": "light"
          }
        }
      ]
    },
    {
      "cell_type": "markdown",
      "source": [
        "- The data seems to be highly skewed towards Rating '4' and '5'. Rating '5' is the second-highest in the count and nearly the same as the number of 4 rating count.\n",
        "- We can see very few people are giving ratings between 1 to 3. It shows people tend to not give a rating for a restaurant that they don't like."
      ],
      "metadata": {
        "id": "K7wxVpn_JHvo"
      }
    },
    {
      "cell_type": "code",
      "source": [
        "# Number of unique users\n",
        "data['user_id'].nunique()"
      ],
      "metadata": {
        "colab": {
          "base_uri": "https://localhost:8080/"
        },
        "id": "Y09QI9m0JGKs",
        "outputId": "7d2b48d6-d7fe-4cc3-d82b-bbc8e2e1ddba"
      },
      "execution_count": 8,
      "outputs": [
        {
          "output_type": "execute_result",
          "data": {
            "text/plain": [
              "45981"
            ]
          },
          "metadata": {},
          "execution_count": 8
        }
      ]
    },
    {
      "cell_type": "code",
      "source": [
        "# Number of unique restaurants\n",
        "data['business_id'].nunique()"
      ],
      "metadata": {
        "colab": {
          "base_uri": "https://localhost:8080/"
        },
        "id": "ONC_T3TAJLbI",
        "outputId": "40756e54-73ad-4248-fedd-9414dcc0cdbe"
      },
      "execution_count": 9,
      "outputs": [
        {
          "output_type": "execute_result",
          "data": {
            "text/plain": [
              "11537"
            ]
          },
          "metadata": {},
          "execution_count": 9
        }
      ]
    },
    {
      "cell_type": "markdown",
      "source": [
        "- There are 45,981 unique users in the dataset.\n",
        "- There are 11,537 unique restaurants in the dataset.\n",
        "- As per the number of unique users and restaurants, there is a possibility of 45,981 * 11,537 = ~53 x 10^7 ratings in the dataset. But we only have 2,29,907 ratings, i.e., not every user has rated every restaurant in the dataset. And we can build a recommendation system to recommend a restaurant to users which they have not visited."
      ],
      "metadata": {
        "id": "KaOLJaheLqCx"
      }
    },
    {
      "cell_type": "markdown",
      "source": [
        "#### **Is there any restaurant that has been visited more than once by the same user?**"
      ],
      "metadata": {
        "id": "O06C3VlHLuNO"
      }
    },
    {
      "cell_type": "code",
      "source": [
        "# Find the sum of total ratings count by each user restaurant pair\n",
        "data.groupby(['user_id', 'business_id']).count()['stars'].sum()"
      ],
      "metadata": {
        "colab": {
          "base_uri": "https://localhost:8080/"
        },
        "id": "iDpy6k5_LoXe",
        "outputId": "a69e80d3-1a04-4617-e63c-1307190ced60"
      },
      "execution_count": 10,
      "outputs": [
        {
          "output_type": "execute_result",
          "data": {
            "text/plain": [
              "229907"
            ]
          },
          "metadata": {},
          "execution_count": 10
        }
      ]
    },
    {
      "cell_type": "markdown",
      "source": [
        "- The sum is equal to the total number of observations which implies there is only interaction between a pair of restaurants and a user."
      ],
      "metadata": {
        "id": "4ds0h0DJLzBf"
      }
    },
    {
      "cell_type": "markdown",
      "source": [
        "#### **Which restaurant is the most reviewed restaurant in the dataset?**"
      ],
      "metadata": {
        "id": "yDezLHhIL1DM"
      }
    },
    {
      "cell_type": "code",
      "source": [
        "data['business_id'].value_counts()"
      ],
      "metadata": {
        "colab": {
          "base_uri": "https://localhost:8080/"
        },
        "id": "sQ8aPwqBLxrr",
        "outputId": "384e7f02-5301-4576-9b96-b144a5be0259"
      },
      "execution_count": 11,
      "outputs": [
        {
          "output_type": "execute_result",
          "data": {
            "text/plain": [
              "hW0Ne_HTHEAgGF1rAdmR-g    844\n",
              "VVeogjZya58oiTxK7qUjAQ    794\n",
              "JokKtdXU7zXHcr20Lrk29A    731\n",
              "ntN85eu27C04nwyPa8IHtw    679\n",
              "EWMwV5V9BxNs_U6nNVMeqw    645\n",
              "                         ... \n",
              "-NbEHP2GHFNb5PnmJnd4qQ      3\n",
              "QICgwHWhXIbihfcMKtws8g      3\n",
              "sAwxt4I4gTiL-08nyarJbg      3\n",
              "huzUWI5YqkJEEIudo0YiDg      3\n",
              "SeCVec3f91bEdosAILE4JA      3\n",
              "Name: business_id, Length: 11537, dtype: int64"
            ]
          },
          "metadata": {},
          "execution_count": 11
        }
      ]
    },
    {
      "cell_type": "markdown",
      "source": [
        "- The restaurant with business_id hW0Ne_HTHEAgGF1rAdmR-g has been interacted by most users which is 844 times.\n",
        "- But still, there is a possibility of 45,981-844 = 45,137 more interactions as we have 45,981 unique users in our dataset. For those remaining users, we can build a recommendation system to predict who is most likely to visit this restaurant."
      ],
      "metadata": {
        "id": "xeJJ_PZUL5IU"
      }
    },
    {
      "cell_type": "code",
      "source": [
        "# Plotting distributions of ratings for 844 interactions with given business_id\n",
        "plt.figure(figsize = (7, 7))\n",
        "\n",
        "data[data['business_id'] == \"hW0Ne_HTHEAgGF1rAdmR-g\"]['stars'].value_counts().plot(kind = 'bar')\n",
        "\n",
        "# Name the xlabel of the plot\n",
        "plt.xlabel('Rating')\n",
        "\n",
        "# Name the ylabel of the plot\n",
        "plt.ylabel('Count')\n",
        "\n",
        "# Display the plot\n",
        "plt.show()"
      ],
      "metadata": {
        "colab": {
          "base_uri": "https://localhost:8080/",
          "height": 439
        },
        "id": "N8_GapHcL3dm",
        "outputId": "a22d255d-23ac-4d57-cb1f-cac08ba1f342"
      },
      "execution_count": 12,
      "outputs": [
        {
          "output_type": "display_data",
          "data": {
            "text/plain": [
              "<Figure size 504x504 with 1 Axes>"
            ],
            "image/png": "[encoded data removed]"
          },
          "metadata": {
            "needs_background": "light"
          }
        }
      ]
    },
    {
      "cell_type": "markdown",
      "source": [
        "- We can see that this restaurant is not liked by many of the users, as the count of ratings 3 and 4 is higher than the count of other ratings.\n",
        "- There can be restaurants with very high interactions but the count of ratings 1 and 2 may be much higher than 4 or 5 which would imply that the restaurant is disliked by the majority of the users."
      ],
      "metadata": {
        "id": "iL79w3U2MBvj"
      }
    },
    {
      "cell_type": "markdown",
      "source": [
        "#### **Which user visited the most to any restaurant in the dataset?**"
      ],
      "metadata": {
        "id": "HGl724bpMFul"
      }
    },
    {
      "cell_type": "code",
      "source": [
        "data['user_id'].value_counts()"
      ],
      "metadata": {
        "colab": {
          "base_uri": "https://localhost:8080/"
        },
        "id": "34kHn8lnMAV3",
        "outputId": "b29d551f-c357-4058-a721-966c83a924d0"
      },
      "execution_count": 13,
      "outputs": [
        {
          "output_type": "execute_result",
          "data": {
            "text/plain": [
              "fczQCSmaWF78toLEmb0Zsw    588\n",
              "90a6z--_CUrl84aCzZyPsg    506\n",
              "0CMz8YaO3f8xu4KqQgKb9Q    473\n",
              "4ozupHULqGyO42s3zNUzOQ    442\n",
              "joIzw_aUiNvBTuGoytrH7g    392\n",
              "                         ... \n",
              "Oh9OOyDSGf4eNWGiNazh8g      1\n",
              "Np9IEqnLmhRB2T5jumPTGw      1\n",
              "g0-ejhzvo0ELNp04cUKWDg      1\n",
              "M0lyA1jF0zrXZr5TXlioTQ      1\n",
              "dDNfSFT0VApxPmURclX6_g      1\n",
              "Name: user_id, Length: 45981, dtype: int64"
            ]
          },
          "metadata": {},
          "execution_count": 13
        }
      ]
    },
    {
      "cell_type": "markdown",
      "source": [
        "- The user with user_id fczQCSmaWF78toLEmb0Zsw has interacted with the most number of restaurants, i.e., 588 times.\n",
        "- But still, there is a possibility of 11,537-588 = 10,949 more interactions as we have 11,537 unique restaurants in our dataset. For those 10,949 remaining restaurants, we can build a recommendation system to predict which restaurants are most likely to be reviewed by this user."
      ],
      "metadata": {
        "id": "lNCLP2OOMJkR"
      }
    },
    {
      "cell_type": "markdown",
      "source": [
        "## **Data Preparation**"
      ],
      "metadata": {
        "id": "VhMabYdwMMU3"
      }
    },
    {
      "cell_type": "code",
      "source": [
        "# Get the column containing the users\n",
        "users = data.user_id\n",
        "\n",
        "# Create a dictionary from users to their number of ratings\n",
        "ratings_count = dict()\n",
        "\n",
        "for user in users:\n",
        "    # If we already have the user, just add 1 to their rating count\n",
        "    if user in ratings_count:\n",
        "        ratings_count[user] += 1\n",
        "    # Otherwise, set their rating count to 1\n",
        "    else:\n",
        "        ratings_count[user] = 1   "
      ],
      "metadata": {
        "id": "swZ64MHjMIFK"
      },
      "execution_count": 14,
      "outputs": []
    },
    {
      "cell_type": "code",
      "source": [
        "# We want our users to have at least 100 ratings to be considered\n",
        "RATINGS_CUTOFF = 100\n",
        "\n",
        "remove_users = []\n",
        "\n",
        "for user, num_ratings in ratings_count.items():\n",
        "    if num_ratings < RATINGS_CUTOFF:\n",
        "        remove_users.append(user)\n",
        "df_final = data.loc[ ~ data.user_id.isin(remove_users)]"
      ],
      "metadata": {
        "id": "qFqH--8nMQMz"
      },
      "execution_count": 15,
      "outputs": []
    },
    {
      "cell_type": "markdown",
      "source": [
        "## **Model 1: Building Rank-Based Recommendation System**\n",
        "- Rank-based recommendation system provides recommendations based on the most popular items. This kind of recommendation system is useful when we have cold start problems. Cold start refers to the issue when we get a new user into the system and the machine is not able to recommend a restaurant to the new user, as the user did not have any historical interactions in the dataset. In those cases, we can use a rank-based recommendation system to recommend a restaurant to the new user.\n",
        "\n",
        "- **To build the rank-based recommendation system, we take the average of all the ratings provided to each restaurant and then rank them based on their average rating.**"
      ],
      "metadata": {
        "id": "fYp9Sp2mMT1C"
      }
    },
    {
      "cell_type": "code",
      "source": [
        "# Calculating average ratings\n",
        "average_rating = data.groupby('business_id').mean()['stars']\n",
        "\n",
        "# Calculating the count of ratings\n",
        "count_rating = data.groupby('business_id').count()['stars']\n",
        "\n",
        "# Making a dataframe with the count and average of ratings\n",
        "final_rating = pd.DataFrame({'avg_rating': average_rating, 'rating_count': count_rating})"
      ],
      "metadata": {
        "id": "TfNerC0tMSNp"
      },
      "execution_count": 16,
      "outputs": []
    },
    {
      "cell_type": "code",
      "source": [
        "final_rating.head()"
      ],
      "metadata": {
        "colab": {
          "base_uri": "https://localhost:8080/",
          "height": 238
        },
        "id": "JFAppjuZMc8c",
        "outputId": "60445a5a-e284-4ddd-9d95-98bec13e3faf"
      },
      "execution_count": 17,
      "outputs": [
        {
          "output_type": "execute_result",
          "data": {
            "text/plain": [
              "                        avg_rating  rating_count\n",
              "business_id                                     \n",
              "--5jkZ3-nUPZxUvtcbr8Uw    4.545455            11\n",
              "--BlvDO_RG2yElKu9XA1_g    4.162162            37\n",
              "-0D_CYhlD2ILkmLR0pBmnA    4.000000             5\n",
              "-0QBrNvhrPQCaeo7mTo0zQ    4.333333             3\n",
              "-0bUDim5OGuv8R0Qqq6J4A    2.333333             6"
            ],
            "text/html": [
              "\n",
              "  <div id=\"df-4d1b9975-b24c-4fe0-abad-b567916c403a\">\n",
              "    <div class=\"colab-df-container\">\n",
              "      <div>\n",
              "<style scoped>\n",
              "    .dataframe tbody tr th:only-of-type {\n",
              "        vertical-align: middle;\n",
              "    }\n",
              "\n",
              "    .dataframe tbody tr th {\n",
              "        vertical-align: top;\n",
              "    }\n",
              "\n",
              "    .dataframe thead th {\n",
              "        text-align: right;\n",
              "    }\n",
              "</style>\n",
              "<table border=\"1\" class=\"dataframe\">\n",
              "  <thead>\n",
              "    <tr style=\"text-align: right;\">\n",
              "      <th></th>\n",
              "      <th>avg_rating</th>\n",
              "      <th>rating_count</th>\n",
              "    </tr>\n",
              "    <tr>\n",
              "      <th>business_id</th>\n",
              "      <th></th>\n",
              "      <th></th>\n",
              "    </tr>\n",
              "  </thead>\n",
              "  <tbody>\n",
              "    <tr>\n",
              "      <th>--5jkZ3-nUPZxUvtcbr8Uw</th>\n",
              "      <td>4.545455</td>\n",
              "      <td>11</td>\n",
              "    </tr>\n",
              "    <tr>\n",
              "      <th>--BlvDO_RG2yElKu9XA1_g</th>\n",
              "      <td>4.162162</td>\n",
              "      <td>37</td>\n",
              "    </tr>\n",
              "    <tr>\n",
              "      <th>-0D_CYhlD2ILkmLR0pBmnA</th>\n",
              "      <td>4.000000</td>\n",
              "      <td>5</td>\n",
              "    </tr>\n",
              "    <tr>\n",
              "      <th>-0QBrNvhrPQCaeo7mTo0zQ</th>\n",
              "      <td>4.333333</td>\n",
              "      <td>3</td>\n",
              "    </tr>\n",
              "    <tr>\n",
              "      <th>-0bUDim5OGuv8R0Qqq6J4A</th>\n",
              "      <td>2.333333</td>\n",
              "      <td>6</td>\n",
              "    </tr>\n",
              "  </tbody>\n",
              "</table>\n",
              "</div>\n",
              "      <button class=\"colab-df-convert\" onclick=\"convertToInteractive('df-4d1b9975-b24c-4fe0-abad-b567916c403a')\"\n",
              "              title=\"Convert this dataframe to an interactive table.\"\n",
              "              style=\"display:none;\">\n",
              "        \n",
              "  <svg xmlns=\"http://www.w3.org/2000/svg\" height=\"24px\"viewBox=\"0 0 24 24\"\n",
              "       width=\"24px\">\n",
              "    <path d=\"M0 0h24v24H0V0z\" fill=\"none\"/>\n",
              "    <path d=\"M18.56 5.44l.94 2.06.94-2.06 2.06-.94-2.06-.94-.94-2.06-.94 2.06-2.06.94zm-11 1L8.5 8.5l.94-2.06 2.06-.94-2.06-.94L8.5 2.5l-.94 2.06-2.06.94zm10 10l.94 2.06.94-2.06 2.06-.94-2.06-.94-.94-2.06-.94 2.06-2.06.94z\"/><path d=\"M17.41 7.96l-1.37-1.37c-.4-.4-.92-.59-1.43-.59-.52 0-1.04.2-1.43.59L10.3 9.45l-7.72 7.72c-.78.78-.78 2.05 0 2.83L4 21.41c.39.39.9.59 1.41.59.51 0 1.02-.2 1.41-.59l7.78-7.78 2.81-2.81c.8-.78.8-2.07 0-2.86zM5.41 20L4 18.59l7.72-7.72 1.47 1.35L5.41 20z\"/>\n",
              "  </svg>\n",
              "      </button>\n",
              "      \n",
              "  <style>\n",
              "    .colab-df-container {\n",
              "      display:flex;\n",
              "      flex-wrap:wrap;\n",
              "      gap: 12px;\n",
              "    }\n",
              "\n",
              "    .colab-df-convert {\n",
              "      background-color: #E8F0FE;\n",
              "      border: none;\n",
              "      border-radius: 50%;\n",
              "      cursor: pointer;\n",
              "      display: none;\n",
              "      fill: #1967D2;\n",
              "      height: 32px;\n",
              "      padding: 0 0 0 0;\n",
              "      width: 32px;\n",
              "    }\n",
              "\n",
              "    .colab-df-convert:hover {\n",
              "      background-color: #E2EBFA;\n",
              "      box-shadow: 0px 1px 2px rgba(60, 64, 67, 0.3), 0px 1px 3px 1px rgba(60, 64, 67, 0.15);\n",
              "      fill: #174EA6;\n",
              "    }\n",
              "\n",
              "    [theme=dark] .colab-df-convert {\n",
              "      background-color: #3B4455;\n",
              "      fill: #D2E3FC;\n",
              "    }\n",
              "\n",
              "    [theme=dark] .colab-df-convert:hover {\n",
              "      background-color: #434B5C;\n",
              "      box-shadow: 0px 1px 3px 1px rgba(0, 0, 0, 0.15);\n",
              "      filter: drop-shadow(0px 1px 2px rgba(0, 0, 0, 0.3));\n",
              "      fill: #FFFFFF;\n",
              "    }\n",
              "  </style>\n",
              "\n",
              "      <script>\n",
              "        const buttonEl =\n",
              "          document.querySelector('#df-4d1b9975-b24c-4fe0-abad-b567916c403a button.colab-df-convert');\n",
              "        buttonEl.style.display =\n",
              "          google.colab.kernel.accessAllowed ? 'block' : 'none';\n",
              "\n",
              "        async function convertToInteractive(key) {\n",
              "          const element = document.querySelector('#df-4d1b9975-b24c-4fe0-abad-b567916c403a');\n",
              "          const dataTable =\n",
              "            await google.colab.kernel.invokeFunction('convertToInteractive',\n",
              "                                                     [key], {});\n",
              "          if (!dataTable) return;\n",
              "\n",
              "          const docLinkHtml = 'Like what you see? Visit the ' +\n",
              "            '<a target=\"_blank\" href=https://colab.research.google.com/notebooks/data_table.ipynb>data table notebook</a>'\n",
              "            + ' to learn more about interactive tables.';\n",
              "          element.innerHTML = '';\n",
              "          dataTable['output_type'] = 'display_data';\n",
              "          await google.colab.output.renderOutput(dataTable, element);\n",
              "          const docLink = document.createElement('div');\n",
              "          docLink.innerHTML = docLinkHtml;\n",
              "          element.appendChild(docLink);\n",
              "        }\n",
              "      </script>\n",
              "    </div>\n",
              "  </div>\n",
              "  "
            ]
          },
          "metadata": {},
          "execution_count": 17
        }
      ]
    },
    {
      "cell_type": "code",
      "source": [
        "def top_n_restaurant(data, n, min_interaction = 100):\n",
        "    \n",
        "    # Finding restautants with minimum number of interactions\n",
        "    recommendations = data[data['rating_count'] > min_interaction]\n",
        "    \n",
        "    # Sorting values with respect to average rating\n",
        "    recommendations = recommendations.sort_values(by = 'avg_rating', ascending = False)\n",
        "    \n",
        "    return recommendations.index[:n]"
      ],
      "metadata": {
        "id": "okK2fo04Meho"
      },
      "execution_count": 18,
      "outputs": []
    },
    {
      "cell_type": "markdown",
      "source": [
        "#### **Recommending top 5 restaurant with 50 minimum interactions based on popularity.**"
      ],
      "metadata": {
        "id": "aupCVSvfMiLj"
      }
    },
    {
      "cell_type": "code",
      "source": [
        "list(top_n_restaurant(final_rating, 5, 50))"
      ],
      "metadata": {
        "colab": {
          "base_uri": "https://localhost:8080/"
        },
        "id": "jEwoVmSFMghD",
        "outputId": "f8be3887-f7bf-48a3-cecd-ea7579dafbfb"
      },
      "execution_count": 19,
      "outputs": [
        {
          "output_type": "execute_result",
          "data": {
            "text/plain": [
              "['8HQ8clouLGgee99KkR4vXA',\n",
              " 'CKjcewWeWvdJ7TzOQbZOIw',\n",
              " '97Z7j4vH0kfzL10AONi4uA',\n",
              " '_TekkyyFeX_8MBepPIxuTg',\n",
              " 'L-uPZxooP_ziXCtRrWi8Pw']"
            ]
          },
          "metadata": {},
          "execution_count": 19
        }
      ]
    },
    {
      "cell_type": "markdown",
      "source": [
        "## **Model 2: Collaborative Filtering Based Recommendation System**\n",
        "In this type of recommendation system, we do not need any information about the users or items. We only need user item interaction data to build a collaborative recommendation system. For example -\n",
        "\n",
        "- Ratings provided by users. For example - ratings of books on goodread, movie ratings on imdb etc.\n",
        "- Likes of users on different facebook posts, likes on youtube videos.\n",
        "- Use/buying of a product by users. For example - buying different items on e-commerce sites.\n",
        "- Reading of articles by readers on various blogs."
      ],
      "metadata": {
        "id": "oN3hs4PVMm9v"
      }
    },
    {
      "cell_type": "markdown",
      "source": [
        "### **Building a baseline user-user similarity based recommendation system.**"
      ],
      "metadata": {
        "id": "36pDLKL7MyVh"
      }
    },
    {
      "cell_type": "code",
      "source": [
        "!pip install surprise"
      ],
      "metadata": {
        "colab": {
          "base_uri": "https://localhost:8080/"
        },
        "id": "F6R-OwqRMlCM",
        "outputId": "f606c965-c81b-4fa5-939d-aaa189455359"
      },
      "execution_count": 20,
      "outputs": [
        {
          "output_type": "stream",
          "name": "stdout",
          "text": [
            "Looking in indexes: https://pypi.org/simple, https://us-python.pkg.dev/colab-wheels/public/simple/\n",
            "Collecting surprise\n",
            "  Downloading surprise-0.1-py2.py3-none-any.whl (1.8 kB)\n",
            "Collecting scikit-surprise\n",
            "  Downloading scikit-surprise-1.1.1.tar.gz (11.8 MB)\n",
            "\u001b[K     |████████████████████████████████| 11.8 MB 6.6 MB/s \n",
            "\u001b[?25hRequirement already satisfied: joblib>=0.11 in /usr/local/lib/python3.7/dist-packages (from scikit-surprise->surprise) (1.2.0)\n",
            "Requirement already satisfied: numpy>=1.11.2 in /usr/local/lib/python3.7/dist-packages (from scikit-surprise->surprise) (1.21.6)\n",
            "Requirement already satisfied: scipy>=1.0.0 in /usr/local/lib/python3.7/dist-packages (from scikit-surprise->surprise) (1.7.3)\n",
            "Requirement already satisfied: six>=1.10.0 in /usr/local/lib/python3.7/dist-packages (from scikit-surprise->surprise) (1.15.0)\n",
            "Building wheels for collected packages: scikit-surprise\n",
            "  Building wheel for scikit-surprise (setup.py) ... \u001b[?25l\u001b[?25hdone\n",
            "  Created wheel for scikit-surprise: filename=scikit_surprise-1.1.1-cp37-cp37m-linux_x86_64.whl size=1633982 sha256=bea842eb209c8db5d5134832a93c0e45607f60967d80391bbc1914a107d988b2\n",
            "  Stored in directory: /root/.cache/pip/wheels/76/44/74/b498c42be47b2406bd27994e16c5188e337c657025ab400c1c\n",
            "Successfully built scikit-surprise\n",
            "Installing collected packages: scikit-surprise, surprise\n",
            "Successfully installed scikit-surprise-1.1.1 surprise-0.1\n"
          ]
        }
      ]
    },
    {
      "cell_type": "code",
      "source": [
        "# To compute the accuracy of models\n",
        "from surprise import accuracy\n",
        "# This class is used to parse a file containing ratings, data should be in structure - user; item; rating\n",
        "from surprise.reader import Reader\n",
        "# Class for loading datasets\n",
        "from surprise.dataset import Dataset\n",
        "# For tuning model hyperparameters\n",
        "from surprise.model_selection import GridSearchCV\n",
        "# For splitting the rating data in train and test datasets\n",
        "from surprise.model_selection import train_test_split\n",
        "# For implementing similarity-based recommendation system\n",
        "from surprise.prediction_algorithms.knns import KNNBasic\n",
        "# For implementing matrix factorization based recommendation system\n",
        "from surprise.prediction_algorithms.matrix_factorization import SVD\n",
        "# For implementing K-Fold cross-validation\n",
        "from surprise.model_selection import KFold\n",
        "# For implementing clustering-based recommendation system\n",
        "from surprise import CoClustering"
      ],
      "metadata": {
        "id": "IjgOhgB2M1BX"
      },
      "execution_count": 21,
      "outputs": []
    },
    {
      "cell_type": "code",
      "source": [
        "def precision_recall_at_k(model, k = 10, threshold = 3.5):\n",
        "    \"\"\"Returns precision and recall at k metrics for each user.\"\"\"\n",
        "\n",
        "    # First map the predictions to each user\n",
        "    user_est_true = defaultdict(list)\n",
        "    \n",
        "    # Making predictions on the test data\n",
        "    predictions = model.test(testset)\n",
        "    \n",
        "    for uid, _, true_r, est, _ in predictions:\n",
        "        user_est_true[uid].append((est, true_r))\n",
        "\n",
        "    precisions = dict()\n",
        "    recalls = dict()\n",
        "    for uid, user_ratings in user_est_true.items():\n",
        "\n",
        "        # Sort user ratings by estimated value\n",
        "        user_ratings.sort(key = lambda x: x[0], reverse = True)\n",
        "\n",
        "        # Number of relevant items\n",
        "        n_rel = sum((true_r >= threshold) for (_, true_r) in user_ratings)\n",
        "\n",
        "        # Number of recommended items in top k\n",
        "        n_rec_k = sum((est >= threshold) for (est, _) in user_ratings[:k])\n",
        "\n",
        "        # Number of relevant and recommended items in top k\n",
        "        n_rel_and_rec_k = sum(((true_r >= threshold) and (est >= threshold))\n",
        "                              for (est, true_r) in user_ratings[:k])\n",
        "\n",
        "        # Precision@K: Proportion of recommended items that are relevant. When n_rec_k is 0, \n",
        "        # Precision is undefined. We here set Precision to 0 when n_rec_k is 0\n",
        "\n",
        "        precisions[uid] = n_rel_and_rec_k / n_rec_k if n_rec_k != 0 else 0\n",
        "\n",
        "        # Recall@K: Proportion of relevant items that are recommended. When n_rel is 0, \n",
        "        # Recall is undefined. We here set Recall to 0 when n_rel is 0\n",
        "\n",
        "        recalls[uid] = n_rel_and_rec_k / n_rel if n_rel != 0 else 0\n",
        "    \n",
        "    # Mean of all the predicted precisions are calculated\n",
        "    precision = round((sum(prec for prec in precisions.values()) / len(precisions)), 3)\n",
        "    \n",
        "    # Mean of all the predicted recalls are calculated\n",
        "    recall = round((sum(rec for rec in recalls.values()) / len(recalls)), 3)\n",
        "    \n",
        "    accuracy.rmse(predictions)\n",
        "\n",
        "    # Command to print the overall precision\n",
        "    print('Precision: ', precision)\n",
        "\n",
        "    # Command to print the overall recall\n",
        "    print('Recall: ', recall)\n",
        "\n",
        "    # Formula to compute the F-1 score\n",
        "    print('F_1 score: ', round((2*precision * recall) / (precision + recall), 3))"
      ],
      "metadata": {
        "id": "-vWP5k7_M5pd"
      },
      "execution_count": 22,
      "outputs": []
    },
    {
      "cell_type": "code",
      "source": [
        "# Instantiating Reader scale with expected rating scale\n",
        "reader = Reader(rating_scale = (0, 5))\n",
        "\n",
        "# Loading the dataset\n",
        "data = Dataset.load_from_df(df_final[['user_id', 'business_id', 'stars']], reader)\n",
        "\n",
        "# Splitting the data into train and test datasets\n",
        "trainset, testset = train_test_split(data, test_size = 0.2, random_state = 42)"
      ],
      "metadata": {
        "id": "oBZIdTlkM9uQ"
      },
      "execution_count": 23,
      "outputs": []
    },
    {
      "cell_type": "markdown",
      "source": [
        "## **Model 2: Building User-User Collaborative Filtering Model**"
      ],
      "metadata": {
        "id": "MKew50hpNBb4"
      }
    },
    {
      "cell_type": "code",
      "source": [
        "# Declaring the similarity options\n",
        "sim_options = {'name': 'cosine',\n",
        "               'user_based': True}\n",
        "\n",
        "# KNN algorithm is used to find desired similar items\n",
        "sim_user_user = KNNBasic(sim_options = sim_options, verbose = False, random_state = 1)\n",
        "\n",
        "# Train the algorithm on the train set, and predict ratings for the testset\n",
        "sim_user_user.fit(trainset)\n",
        "\n",
        "# Let us compute precision@k, recall@k, and f_1 score with k = 10\n",
        "precision_recall_at_k(sim_user_user)"
      ],
      "metadata": {
        "colab": {
          "base_uri": "https://localhost:8080/"
        },
        "id": "7YhnHz32M_3u",
        "outputId": "3ea59cee-508f-4c04-fc00-889be9052f4d"
      },
      "execution_count": 24,
      "outputs": [
        {
          "output_type": "stream",
          "name": "stdout",
          "text": [
            "RMSE: 1.0409\n",
            "Precision:  0.773\n",
            "Recall:  0.417\n",
            "F_1 score:  0.542\n"
          ]
        }
      ]
    },
    {
      "cell_type": "markdown",
      "source": [
        "- We have calculated RMSE to check how far the overall predicted ratings are from the actual ratings.\n",
        "- Intuition of Recall - We are getting a recall of almost 0.42, which means out of all the relevant restaurants, 42% are recommended.\n",
        "- Intuition of Precision - We are getting a precision of almost 0.773, which means out of all the recommended restaurants 77.3% are relevant.\n",
        "- Here F_1 score of the baseline model is almost 0.542. It indicates that mostly recommended restaurants were relevant and relevant restaurants were recommended to the user. We will try to improve this later by using GridSearchCV by tuning different hyperparameters of this algorithm."
      ],
      "metadata": {
        "id": "YpqjykOCNGCF"
      }
    },
    {
      "cell_type": "markdown",
      "source": [
        "#### **predict rating for a user with userId = rLtl8ZkDX5vH5nAx9C3q5Q and businessId = 9yKzy9PApeiPPOUJEtnvkg**"
      ],
      "metadata": {
        "id": "y0MwV8czNMHv"
      }
    },
    {
      "cell_type": "code",
      "source": [
        "# Predicting rating for a sample user with a visited restaurant\n",
        "sim_user_user.predict(\"rLtl8ZkDX5vH5nAx9C3q5Q\", \"9yKzy9PApeiPPOUJEtnvkg\", r_ui = 5, verbose = True)"
      ],
      "metadata": {
        "colab": {
          "base_uri": "https://localhost:8080/"
        },
        "id": "N_o3h2E9NEIa",
        "outputId": "55a6cd68-00d4-493d-df1b-ed571c4bf93c"
      },
      "execution_count": 25,
      "outputs": [
        {
          "output_type": "stream",
          "name": "stdout",
          "text": [
            "user: rLtl8ZkDX5vH5nAx9C3q5Q item: 9yKzy9PApeiPPOUJEtnvkg r_ui = 5.00   est = 3.77   {'actual_k': 16, 'was_impossible': False}\n"
          ]
        },
        {
          "output_type": "execute_result",
          "data": {
            "text/plain": [
              "Prediction(uid='rLtl8ZkDX5vH5nAx9C3q5Q', iid='9yKzy9PApeiPPOUJEtnvkg', r_ui=5, est=3.7675091038953616, details={'actual_k': 16, 'was_impossible': False})"
            ]
          },
          "metadata": {},
          "execution_count": 25
        }
      ]
    },
    {
      "cell_type": "markdown",
      "source": [
        "- The above output shows that the actual rating for this user-item pair is 5 and the predicted rating is 3.77 by the user-user-similarity-based baseline model. This implies that the model is under-estimating the ratings."
      ],
      "metadata": {
        "id": "BlL5kCmlNSHH"
      }
    },
    {
      "cell_type": "markdown",
      "source": [
        "#### **predicting rating for the same userId = rLtl8ZkDX5vH5nAx9C3q5Q but for a restaurant which this user has not seen yet, i.e., business_id = zp713qNhx8d9KCJJnrw1xA**"
      ],
      "metadata": {
        "id": "fJ9CphleNURD"
      }
    },
    {
      "cell_type": "code",
      "source": [
        "# Predicting rating for a sample user with a restaurant that is not-visited by the user\n",
        "sim_user_user.predict(\"rLtl8ZkDX5vH5nAx9C3q5Q\", \"zp713qNhx8d9KCJJnrw1xA\", verbose = True)"
      ],
      "metadata": {
        "colab": {
          "base_uri": "https://localhost:8080/"
        },
        "id": "Sv-NEZiCNPNz",
        "outputId": "30a0106a-ee42-495e-8a06-7af661803eac"
      },
      "execution_count": 26,
      "outputs": [
        {
          "output_type": "stream",
          "name": "stdout",
          "text": [
            "user: rLtl8ZkDX5vH5nAx9C3q5Q item: zp713qNhx8d9KCJJnrw1xA r_ui = None   est = 3.87   {'actual_k': 28, 'was_impossible': False}\n"
          ]
        },
        {
          "output_type": "execute_result",
          "data": {
            "text/plain": [
              "Prediction(uid='rLtl8ZkDX5vH5nAx9C3q5Q', iid='zp713qNhx8d9KCJJnrw1xA', r_ui=None, est=3.873369257511826, details={'actual_k': 28, 'was_impossible': False})"
            ]
          },
          "metadata": {},
          "execution_count": 26
        }
      ]
    },
    {
      "cell_type": "markdown",
      "source": [
        "### **Improving similarity-based recommendation system by tuning its hyper-parameters**\n",
        "- k (int) – The (max) number of neighbors to take into account for aggregation. The default value for k is 40.\n",
        "- min_k (int) – The minimum number of neighbors to take into account for aggregation. If there are not enough neighbors, the prediction is set to the global mean of all ratings. The default value for min_k is 1.\n",
        "- sim_options (dict) – A dictionary of options for the similarity measure. And there are four similarity measures available in surprise -\n",
        "-- cosine\n",
        "-- msd (default)\n",
        "-- Pearson\n",
        "-- Pearson baseline"
      ],
      "metadata": {
        "id": "WZuSpg35NYiU"
      }
    },
    {
      "cell_type": "code",
      "source": [
        "# Setting up the parameters grid to tune the hyperparameters\n",
        "param_grid = {'k': [20, 30, 40], 'min_k': [3, 6, 9],\n",
        "              'sim_options': {'name': ['msd', 'cosine'],\n",
        "                              'user_based': [True]}\n",
        "              }\n",
        "\n",
        "# Performing 3-fold cross validation to tune the hyperparameters\n",
        "gs = GridSearchCV(KNNBasic, param_grid, measures = ['rmse'], cv = 3, n_jobs = -1)\n",
        "\n",
        "# Fitting the model on the data\n",
        "gs.fit(data)\n",
        "\n",
        "# Print the best RMSE score\n",
        "print(gs.best_score['rmse'])\n",
        "\n",
        "# Print the combination of parameters that gave the best RMSE score\n",
        "print(gs.best_params['rmse'])"
      ],
      "metadata": {
        "colab": {
          "base_uri": "https://localhost:8080/"
        },
        "id": "PR5tBqDbNWuv",
        "outputId": "7469112e-aa28-40cc-aa5d-784ed2ce9ee9"
      },
      "execution_count": 27,
      "outputs": [
        {
          "output_type": "stream",
          "name": "stdout",
          "text": [
            "1.0150056677286818\n",
            "{'k': 30, 'min_k': 6, 'sim_options': {'name': 'cosine', 'user_based': True}}\n"
          ]
        }
      ]
    },
    {
      "cell_type": "markdown",
      "source": [
        "#### **build the final model by using tuned values of the hyperparameters which we received by using grid search cross-validation.**"
      ],
      "metadata": {
        "id": "OKrFee-TNl-0"
      }
    },
    {
      "cell_type": "code",
      "source": [
        "# Using the optimal similarity measure for user-user-based collaborative filtering\n",
        "sim_options = {'name': 'cosine',\n",
        "               'user_based': True}\n",
        "\n",
        "# Creating an instance of KNNBasic with optimal hyperparameter values\n",
        "sim_user_user_optimized = KNNBasic(sim_options = sim_options, k = 40, min_k = 6, random_state = 1, verbose = False)\n",
        "\n",
        "# Training the algorithm on the train set\n",
        "sim_user_user_optimized.fit(trainset)\n",
        "\n",
        "# Let us compute precision@k and recall@k also with k = 10\n",
        "precision_recall_at_k(sim_user_user_optimized)"
      ],
      "metadata": {
        "colab": {
          "base_uri": "https://localhost:8080/"
        },
        "id": "dEIIHa24Nj0Z",
        "outputId": "98936534-cb9d-40f7-ae95-6ec935d6bc12"
      },
      "execution_count": 28,
      "outputs": [
        {
          "output_type": "stream",
          "name": "stdout",
          "text": [
            "RMSE: 1.0060\n",
            "Precision:  0.762\n",
            "Recall:  0.413\n",
            "F_1 score:  0.536\n"
          ]
        }
      ]
    },
    {
      "cell_type": "markdown",
      "source": [
        "- We can see from above that after tuning hyperparameters, F_1 score of the tuned model has reduced a bit as compared to the baseline model."
      ],
      "metadata": {
        "id": "09tdmnQ9NqkF"
      }
    },
    {
      "cell_type": "markdown",
      "source": [
        "#### **predict rating for a user with userId = \"rLtl8ZkDX5vH5nAx9C3q5Q\", and business_id = \"9yKzy9PApeiPPOUJEtnvkg\"**"
      ],
      "metadata": {
        "id": "csyeZPTqNtCO"
      }
    },
    {
      "cell_type": "code",
      "source": [
        "sim_user_user_optimized.predict(\"rLtl8ZkDX5vH5nAx9C3q5Q\", \"9yKzy9PApeiPPOUJEtnvkg\", r_ui = 5, verbose = True)"
      ],
      "metadata": {
        "colab": {
          "base_uri": "https://localhost:8080/"
        },
        "id": "tJHQoEF0No4M",
        "outputId": "6d9619de-384a-4264-8109-e2bff77abadd"
      },
      "execution_count": 29,
      "outputs": [
        {
          "output_type": "stream",
          "name": "stdout",
          "text": [
            "user: rLtl8ZkDX5vH5nAx9C3q5Q item: 9yKzy9PApeiPPOUJEtnvkg r_ui = 5.00   est = 3.77   {'actual_k': 16, 'was_impossible': False}\n"
          ]
        },
        {
          "output_type": "execute_result",
          "data": {
            "text/plain": [
              "Prediction(uid='rLtl8ZkDX5vH5nAx9C3q5Q', iid='9yKzy9PApeiPPOUJEtnvkg', r_ui=5, est=3.7675091038953616, details={'actual_k': 16, 'was_impossible': False})"
            ]
          },
          "metadata": {},
          "execution_count": 29
        }
      ]
    },
    {
      "cell_type": "markdown",
      "source": [
        "#### **predicting rating for the same userId = \"rLtl8ZkDX5vH5nAx9C3q5Q\" but for a restaurant which this user has not visited before, i.e., business_id = zp713qNhx8d9KCJJnrw1xA**"
      ],
      "metadata": {
        "id": "D-u01-OWNyuA"
      }
    },
    {
      "cell_type": "code",
      "source": [
        "sim_user_user_optimized.predict(\"rLtl8ZkDX5vH5nAx9C3q5Q\", \"zp713qNhx8d9KCJJnrw1xA\", verbose = True)"
      ],
      "metadata": {
        "colab": {
          "base_uri": "https://localhost:8080/"
        },
        "id": "wN5UpewlNvoQ",
        "outputId": "e3a8381d-17f8-483a-87f5-4dcd81f9e507"
      },
      "execution_count": 30,
      "outputs": [
        {
          "output_type": "stream",
          "name": "stdout",
          "text": [
            "user: rLtl8ZkDX5vH5nAx9C3q5Q item: zp713qNhx8d9KCJJnrw1xA r_ui = None   est = 3.87   {'actual_k': 28, 'was_impossible': False}\n"
          ]
        },
        {
          "output_type": "execute_result",
          "data": {
            "text/plain": [
              "Prediction(uid='rLtl8ZkDX5vH5nAx9C3q5Q', iid='zp713qNhx8d9KCJJnrw1xA', r_ui=None, est=3.873369257511826, details={'actual_k': 28, 'was_impossible': False})"
            ]
          },
          "metadata": {},
          "execution_count": 30
        }
      ]
    },
    {
      "cell_type": "markdown",
      "source": [
        "### **Identifying similar users to a given user (nearest neighbors)**"
      ],
      "metadata": {
        "id": "f2IHypDuN6DR"
      }
    },
    {
      "cell_type": "code",
      "source": [
        "# Here 0 is the internal id of the above user\n",
        "sim_user_user_optimized.get_neighbors(0, 5)"
      ],
      "metadata": {
        "colab": {
          "base_uri": "https://localhost:8080/"
        },
        "id": "KtwKP4PbN4It",
        "outputId": "f5588150-3caf-4374-fd1b-715e53830d7b"
      },
      "execution_count": 31,
      "outputs": [
        {
          "output_type": "execute_result",
          "data": {
            "text/plain": [
              "[18, 52, 79, 97, 103]"
            ]
          },
          "metadata": {},
          "execution_count": 31
        }
      ]
    },
    {
      "cell_type": "markdown",
      "source": [
        "### **Implementing the recommendation algorithm based on optimized KNNBasic model**\n",
        "**Below we will be implementing a function where the input parameters are:**\n",
        "- data: A rating dataset.\n",
        "- user_id: A user id for which we want the recommendations.\n",
        "- top_n: The number of items we want to recommend.\n",
        "- algo: The algorithm we want to use for predicting the ratings.\n",
        "- The output of the function is a set of top_n items recommended for the given user_id based on the given algorithm."
      ],
      "metadata": {
        "id": "duW4MKmtN_L7"
      }
    },
    {
      "cell_type": "code",
      "source": [
        "# Let us see first 5 records of the df_final dataframe\n",
        "df_final.head()"
      ],
      "metadata": {
        "colab": {
          "base_uri": "https://localhost:8080/",
          "height": 206
        },
        "id": "HzLLyLv9N8oY",
        "outputId": "8bcb75a8-47ec-4678-968c-ae4fdfbb653f"
      },
      "execution_count": 32,
      "outputs": [
        {
          "output_type": "execute_result",
          "data": {
            "text/plain": [
              "               business_id  stars                 user_id\n",
              "0   9yKzy9PApeiPPOUJEtnvkg      5  rLtl8ZkDX5vH5nAx9C3q5Q\n",
              "6   zp713qNhx8d9KCJJnrw1xA      5  wFweIWhv2fREZV_dYkz_1g\n",
              "13  WGNIYMeXPyoWav1APUq7jA      4  Xm8HXE1JHqscXe5BKf0GFQ\n",
              "18  b5cEoKR8iQliq-yT2_O0LQ      3  UsULgP4bKA8RMzs8dQzcsA\n",
              "19  4JzzbSbK9wmlOBJZWYfuCg      4  nDBly08j5URmrHQ2JCbyiw"
            ],
            "text/html": [
              "\n",
              "  <div id=\"df-2967e92e-260f-450a-8a88-715409837515\">\n",
              "    <div class=\"colab-df-container\">\n",
              "      <div>\n",
              "<style scoped>\n",
              "    .dataframe tbody tr th:only-of-type {\n",
              "        vertical-align: middle;\n",
              "    }\n",
              "\n",
              "    .dataframe tbody tr th {\n",
              "        vertical-align: top;\n",
              "    }\n",
              "\n",
              "    .dataframe thead th {\n",
              "        text-align: right;\n",
              "    }\n",
              "</style>\n",
              "<table border=\"1\" class=\"dataframe\">\n",
              "  <thead>\n",
              "    <tr style=\"text-align: right;\">\n",
              "      <th></th>\n",
              "      <th>business_id</th>\n",
              "      <th>stars</th>\n",
              "      <th>user_id</th>\n",
              "    </tr>\n",
              "  </thead>\n",
              "  <tbody>\n",
              "    <tr>\n",
              "      <th>0</th>\n",
              "      <td>9yKzy9PApeiPPOUJEtnvkg</td>\n",
              "      <td>5</td>\n",
              "      <td>rLtl8ZkDX5vH5nAx9C3q5Q</td>\n",
              "    </tr>\n",
              "    <tr>\n",
              "      <th>6</th>\n",
              "      <td>zp713qNhx8d9KCJJnrw1xA</td>\n",
              "      <td>5</td>\n",
              "      <td>wFweIWhv2fREZV_dYkz_1g</td>\n",
              "    </tr>\n",
              "    <tr>\n",
              "      <th>13</th>\n",
              "      <td>WGNIYMeXPyoWav1APUq7jA</td>\n",
              "      <td>4</td>\n",
              "      <td>Xm8HXE1JHqscXe5BKf0GFQ</td>\n",
              "    </tr>\n",
              "    <tr>\n",
              "      <th>18</th>\n",
              "      <td>b5cEoKR8iQliq-yT2_O0LQ</td>\n",
              "      <td>3</td>\n",
              "      <td>UsULgP4bKA8RMzs8dQzcsA</td>\n",
              "    </tr>\n",
              "    <tr>\n",
              "      <th>19</th>\n",
              "      <td>4JzzbSbK9wmlOBJZWYfuCg</td>\n",
              "      <td>4</td>\n",
              "      <td>nDBly08j5URmrHQ2JCbyiw</td>\n",
              "    </tr>\n",
              "  </tbody>\n",
              "</table>\n",
              "</div>\n",
              "      <button class=\"colab-df-convert\" onclick=\"convertToInteractive('df-2967e92e-260f-450a-8a88-715409837515')\"\n",
              "              title=\"Convert this dataframe to an interactive table.\"\n",
              "              style=\"display:none;\">\n",
              "        \n",
              "  <svg xmlns=\"http://www.w3.org/2000/svg\" height=\"24px\"viewBox=\"0 0 24 24\"\n",
              "       width=\"24px\">\n",
              "    <path d=\"M0 0h24v24H0V0z\" fill=\"none\"/>\n",
              "    <path d=\"M18.56 5.44l.94 2.06.94-2.06 2.06-.94-2.06-.94-.94-2.06-.94 2.06-2.06.94zm-11 1L8.5 8.5l.94-2.06 2.06-.94-2.06-.94L8.5 2.5l-.94 2.06-2.06.94zm10 10l.94 2.06.94-2.06 2.06-.94-2.06-.94-.94-2.06-.94 2.06-2.06.94z\"/><path d=\"M17.41 7.96l-1.37-1.37c-.4-.4-.92-.59-1.43-.59-.52 0-1.04.2-1.43.59L10.3 9.45l-7.72 7.72c-.78.78-.78 2.05 0 2.83L4 21.41c.39.39.9.59 1.41.59.51 0 1.02-.2 1.41-.59l7.78-7.78 2.81-2.81c.8-.78.8-2.07 0-2.86zM5.41 20L4 18.59l7.72-7.72 1.47 1.35L5.41 20z\"/>\n",
              "  </svg>\n",
              "      </button>\n",
              "      \n",
              "  <style>\n",
              "    .colab-df-container {\n",
              "      display:flex;\n",
              "      flex-wrap:wrap;\n",
              "      gap: 12px;\n",
              "    }\n",
              "\n",
              "    .colab-df-convert {\n",
              "      background-color: #E8F0FE;\n",
              "      border: none;\n",
              "      border-radius: 50%;\n",
              "      cursor: pointer;\n",
              "      display: none;\n",
              "      fill: #1967D2;\n",
              "      height: 32px;\n",
              "      padding: 0 0 0 0;\n",
              "      width: 32px;\n",
              "    }\n",
              "\n",
              "    .colab-df-convert:hover {\n",
              "      background-color: #E2EBFA;\n",
              "      box-shadow: 0px 1px 2px rgba(60, 64, 67, 0.3), 0px 1px 3px 1px rgba(60, 64, 67, 0.15);\n",
              "      fill: #174EA6;\n",
              "    }\n",
              "\n",
              "    [theme=dark] .colab-df-convert {\n",
              "      background-color: #3B4455;\n",
              "      fill: #D2E3FC;\n",
              "    }\n",
              "\n",
              "    [theme=dark] .colab-df-convert:hover {\n",
              "      background-color: #434B5C;\n",
              "      box-shadow: 0px 1px 3px 1px rgba(0, 0, 0, 0.15);\n",
              "      filter: drop-shadow(0px 1px 2px rgba(0, 0, 0, 0.3));\n",
              "      fill: #FFFFFF;\n",
              "    }\n",
              "  </style>\n",
              "\n",
              "      <script>\n",
              "        const buttonEl =\n",
              "          document.querySelector('#df-2967e92e-260f-450a-8a88-715409837515 button.colab-df-convert');\n",
              "        buttonEl.style.display =\n",
              "          google.colab.kernel.accessAllowed ? 'block' : 'none';\n",
              "\n",
              "        async function convertToInteractive(key) {\n",
              "          const element = document.querySelector('#df-2967e92e-260f-450a-8a88-715409837515');\n",
              "          const dataTable =\n",
              "            await google.colab.kernel.invokeFunction('convertToInteractive',\n",
              "                                                     [key], {});\n",
              "          if (!dataTable) return;\n",
              "\n",
              "          const docLinkHtml = 'Like what you see? Visit the ' +\n",
              "            '<a target=\"_blank\" href=https://colab.research.google.com/notebooks/data_table.ipynb>data table notebook</a>'\n",
              "            + ' to learn more about interactive tables.';\n",
              "          element.innerHTML = '';\n",
              "          dataTable['output_type'] = 'display_data';\n",
              "          await google.colab.output.renderOutput(dataTable, element);\n",
              "          const docLink = document.createElement('div');\n",
              "          docLink.innerHTML = docLinkHtml;\n",
              "          element.appendChild(docLink);\n",
              "        }\n",
              "      </script>\n",
              "    </div>\n",
              "  </div>\n",
              "  "
            ]
          },
          "metadata": {},
          "execution_count": 32
        }
      ]
    },
    {
      "cell_type": "code",
      "source": [
        "def get_recommendations(data, user_id, top_n, algo):\n",
        "    \n",
        "    # Creating an empty list to store the recommended restaurant ids\n",
        "    recommendations = []\n",
        "    \n",
        "    # Creating an user item interactions matrix\n",
        "    user_item_interactions_matrix = data.pivot_table(index = 'user_id', columns = 'business_id', values = 'stars')\n",
        "    \n",
        "    # Extracting those restaurant ids which the user_id has not visited yet\n",
        "    non_interacted_products = user_item_interactions_matrix.loc[user_id][user_item_interactions_matrix.loc[user_id].isnull()].index.tolist()\n",
        "    \n",
        "    # Looping through each of the restaurant ids which user_id has not interacted yet\n",
        "    for item_id in non_interacted_products:\n",
        "        \n",
        "        # Predicting the ratings for those non visited restaurant ids by this user\n",
        "        est = algo.predict(user_id, item_id).est\n",
        "        \n",
        "        # Appending the predicted ratings\n",
        "        recommendations.append((item_id, est))\n",
        "\n",
        "    # Sorting the predicted ratings in descending order\n",
        "    recommendations.sort(key = lambda x: x[1], reverse = True)\n",
        "\n",
        "    # Returing top n highest predicted rating restaurants for this user\n",
        "    return recommendations[:top_n]"
      ],
      "metadata": {
        "id": "_vkTrzbJOLFL"
      },
      "execution_count": 33,
      "outputs": []
    },
    {
      "cell_type": "markdown",
      "source": [
        "#### **Predicted top 5 business/product for userId = \"rLtl8ZkDX5vH5nAx9C3q5Q\" with similarity based recommendation system**"
      ],
      "metadata": {
        "id": "He_NSxGpOOx9"
      }
    },
    {
      "cell_type": "code",
      "source": [
        "# Making top 5 recommendations for user_id \"rLtl8ZkDX5vH5nAx9C3q5Q\" with a similarity-based recommendation engine\n",
        "recommendations = get_recommendations(df_final, \"rLtl8ZkDX5vH5nAx9C3q5Q\", 5, sim_user_user)"
      ],
      "metadata": {
        "id": "HmwUxXtNONVL"
      },
      "execution_count": 34,
      "outputs": []
    },
    {
      "cell_type": "code",
      "source": [
        "# Building the dataframe for above recommendations with columns \"business_id\" and \"predicted_ratings\"\n",
        "pd.DataFrame(recommendations, columns = ['business_id', 'predicted_ratings'])"
      ],
      "metadata": {
        "colab": {
          "base_uri": "https://localhost:8080/",
          "height": 206
        },
        "id": "UmwqVUHPOR9d",
        "outputId": "a96d4ad1-3a29-42f7-8ac7-b6913da7bf2a"
      },
      "execution_count": 35,
      "outputs": [
        {
          "output_type": "execute_result",
          "data": {
            "text/plain": [
              "              business_id  predicted_ratings\n",
              "0  --5jkZ3-nUPZxUvtcbr8Uw                  5\n",
              "1  -7XuLxfYwZ9x72mEKXdv0A                  5\n",
              "2  -A82xEVAjOYZtDdRQw1FQw                  5\n",
              "3  -CZ78c-H3tTxpP-uQ09CWw                  5\n",
              "4  -J0jhpG0rv4saq9OMh8gXw                  5"
            ],
            "text/html": [
              "\n",
              "  <div id=\"df-93ac3d2b-682e-4775-a181-09e1bfe21d9b\">\n",
              "    <div class=\"colab-df-container\">\n",
              "      <div>\n",
              "<style scoped>\n",
              "    .dataframe tbody tr th:only-of-type {\n",
              "        vertical-align: middle;\n",
              "    }\n",
              "\n",
              "    .dataframe tbody tr th {\n",
              "        vertical-align: top;\n",
              "    }\n",
              "\n",
              "    .dataframe thead th {\n",
              "        text-align: right;\n",
              "    }\n",
              "</style>\n",
              "<table border=\"1\" class=\"dataframe\">\n",
              "  <thead>\n",
              "    <tr style=\"text-align: right;\">\n",
              "      <th></th>\n",
              "      <th>business_id</th>\n",
              "      <th>predicted_ratings</th>\n",
              "    </tr>\n",
              "  </thead>\n",
              "  <tbody>\n",
              "    <tr>\n",
              "      <th>0</th>\n",
              "      <td>--5jkZ3-nUPZxUvtcbr8Uw</td>\n",
              "      <td>5</td>\n",
              "    </tr>\n",
              "    <tr>\n",
              "      <th>1</th>\n",
              "      <td>-7XuLxfYwZ9x72mEKXdv0A</td>\n",
              "      <td>5</td>\n",
              "    </tr>\n",
              "    <tr>\n",
              "      <th>2</th>\n",
              "      <td>-A82xEVAjOYZtDdRQw1FQw</td>\n",
              "      <td>5</td>\n",
              "    </tr>\n",
              "    <tr>\n",
              "      <th>3</th>\n",
              "      <td>-CZ78c-H3tTxpP-uQ09CWw</td>\n",
              "      <td>5</td>\n",
              "    </tr>\n",
              "    <tr>\n",
              "      <th>4</th>\n",
              "      <td>-J0jhpG0rv4saq9OMh8gXw</td>\n",
              "      <td>5</td>\n",
              "    </tr>\n",
              "  </tbody>\n",
              "</table>\n",
              "</div>\n",
              "      <button class=\"colab-df-convert\" onclick=\"convertToInteractive('df-93ac3d2b-682e-4775-a181-09e1bfe21d9b')\"\n",
              "              title=\"Convert this dataframe to an interactive table.\"\n",
              "              style=\"display:none;\">\n",
              "        \n",
              "  <svg xmlns=\"http://www.w3.org/2000/svg\" height=\"24px\"viewBox=\"0 0 24 24\"\n",
              "       width=\"24px\">\n",
              "    <path d=\"M0 0h24v24H0V0z\" fill=\"none\"/>\n",
              "    <path d=\"M18.56 5.44l.94 2.06.94-2.06 2.06-.94-2.06-.94-.94-2.06-.94 2.06-2.06.94zm-11 1L8.5 8.5l.94-2.06 2.06-.94-2.06-.94L8.5 2.5l-.94 2.06-2.06.94zm10 10l.94 2.06.94-2.06 2.06-.94-2.06-.94-.94-2.06-.94 2.06-2.06.94z\"/><path d=\"M17.41 7.96l-1.37-1.37c-.4-.4-.92-.59-1.43-.59-.52 0-1.04.2-1.43.59L10.3 9.45l-7.72 7.72c-.78.78-.78 2.05 0 2.83L4 21.41c.39.39.9.59 1.41.59.51 0 1.02-.2 1.41-.59l7.78-7.78 2.81-2.81c.8-.78.8-2.07 0-2.86zM5.41 20L4 18.59l7.72-7.72 1.47 1.35L5.41 20z\"/>\n",
              "  </svg>\n",
              "      </button>\n",
              "      \n",
              "  <style>\n",
              "    .colab-df-container {\n",
              "      display:flex;\n",
              "      flex-wrap:wrap;\n",
              "      gap: 12px;\n",
              "    }\n",
              "\n",
              "    .colab-df-convert {\n",
              "      background-color: #E8F0FE;\n",
              "      border: none;\n",
              "      border-radius: 50%;\n",
              "      cursor: pointer;\n",
              "      display: none;\n",
              "      fill: #1967D2;\n",
              "      height: 32px;\n",
              "      padding: 0 0 0 0;\n",
              "      width: 32px;\n",
              "    }\n",
              "\n",
              "    .colab-df-convert:hover {\n",
              "      background-color: #E2EBFA;\n",
              "      box-shadow: 0px 1px 2px rgba(60, 64, 67, 0.3), 0px 1px 3px 1px rgba(60, 64, 67, 0.15);\n",
              "      fill: #174EA6;\n",
              "    }\n",
              "\n",
              "    [theme=dark] .colab-df-convert {\n",
              "      background-color: #3B4455;\n",
              "      fill: #D2E3FC;\n",
              "    }\n",
              "\n",
              "    [theme=dark] .colab-df-convert:hover {\n",
              "      background-color: #434B5C;\n",
              "      box-shadow: 0px 1px 3px 1px rgba(0, 0, 0, 0.15);\n",
              "      filter: drop-shadow(0px 1px 2px rgba(0, 0, 0, 0.3));\n",
              "      fill: #FFFFFF;\n",
              "    }\n",
              "  </style>\n",
              "\n",
              "      <script>\n",
              "        const buttonEl =\n",
              "          document.querySelector('#df-93ac3d2b-682e-4775-a181-09e1bfe21d9b button.colab-df-convert');\n",
              "        buttonEl.style.display =\n",
              "          google.colab.kernel.accessAllowed ? 'block' : 'none';\n",
              "\n",
              "        async function convertToInteractive(key) {\n",
              "          const element = document.querySelector('#df-93ac3d2b-682e-4775-a181-09e1bfe21d9b');\n",
              "          const dataTable =\n",
              "            await google.colab.kernel.invokeFunction('convertToInteractive',\n",
              "                                                     [key], {});\n",
              "          if (!dataTable) return;\n",
              "\n",
              "          const docLinkHtml = 'Like what you see? Visit the ' +\n",
              "            '<a target=\"_blank\" href=https://colab.research.google.com/notebooks/data_table.ipynb>data table notebook</a>'\n",
              "            + ' to learn more about interactive tables.';\n",
              "          element.innerHTML = '';\n",
              "          dataTable['output_type'] = 'display_data';\n",
              "          await google.colab.output.renderOutput(dataTable, element);\n",
              "          const docLink = document.createElement('div');\n",
              "          docLink.innerHTML = docLinkHtml;\n",
              "          element.appendChild(docLink);\n",
              "        }\n",
              "      </script>\n",
              "    </div>\n",
              "  </div>\n",
              "  "
            ]
          },
          "metadata": {},
          "execution_count": 35
        }
      ]
    },
    {
      "cell_type": "markdown",
      "source": [
        "### **Correcting the Ratings and Ranking the above products/ businesses**\n",
        "- While comparing the ratings of two products, it is not only the ratings that describe the likelihood of the user to that product. Along with the rating the number of users who have seen that product also becomes important to consider. Due to this, we have calculated the \"corrected_ratings\" for each product. Commonly higher the \"rating_count\" of a product more it is liked by users. To interpret the above concept, a product rated 4 by 3 people is less liked in comparison to a product rated 3 by 50 people. It has been empirically found that the likelihood of the product is directly proportional to the inverse of the square root of the rating_count of the product."
      ],
      "metadata": {
        "id": "D9gkz3MBOVGq"
      }
    },
    {
      "cell_type": "code",
      "source": [
        "def ranking_products(recommendations, final_rating):\n",
        "    # Sort the products based on ratings count\n",
        "    ranked_products = final_rating.loc[[items[0] for items in recommendations]].sort_values('rating_count', ascending = False)[['rating_count']].reset_index()\n",
        "\n",
        "    # Merge with the recommended businesses to get predicted ratings\n",
        "    ranked_products = ranked_products.merge(pd.DataFrame(recommendations, columns = ['business_id', 'predicted_ratings']), on = 'business_id', how = 'inner')\n",
        "\n",
        "    # Rank the businesses based on corrected ratings\n",
        "    ranked_products['corrected_ratings'] = ranked_products['predicted_ratings'] - 1 / np.sqrt(ranked_products['rating_count'])\n",
        "\n",
        "    # Sort the businesses based on corrected ratings\n",
        "    ranked_products = ranked_products.sort_values('corrected_ratings', ascending = False)\n",
        "    \n",
        "    return ranked_products"
      ],
      "metadata": {
        "id": "Z092JJgnOTZc"
      },
      "execution_count": 36,
      "outputs": []
    },
    {
      "cell_type": "code",
      "source": [
        "# Applying the ranking products function and sorting it based on corrected ratings\n",
        "ranking_products(recommendations, final_rating)"
      ],
      "metadata": {
        "colab": {
          "base_uri": "https://localhost:8080/",
          "height": 206
        },
        "id": "Jx21KPnVOZ8n",
        "outputId": "1de6271f-a992-43d9-d014-d36403122764"
      },
      "execution_count": 37,
      "outputs": [
        {
          "output_type": "execute_result",
          "data": {
            "text/plain": [
              "              business_id  rating_count  predicted_ratings  corrected_ratings\n",
              "0  --5jkZ3-nUPZxUvtcbr8Uw            11                  5           4.698489\n",
              "1  -J0jhpG0rv4saq9OMh8gXw             6                  5           4.591752\n",
              "2  -7XuLxfYwZ9x72mEKXdv0A             5                  5           4.552786\n",
              "3  -A82xEVAjOYZtDdRQw1FQw             5                  5           4.552786\n",
              "4  -CZ78c-H3tTxpP-uQ09CWw             3                  5           4.422650"
            ],
            "text/html": [
              "\n",
              "  <div id=\"df-2352f73a-3f6f-4cda-b2a6-8a17f8b64532\">\n",
              "    <div class=\"colab-df-container\">\n",
              "      <div>\n",
              "<style scoped>\n",
              "    .dataframe tbody tr th:only-of-type {\n",
              "        vertical-align: middle;\n",
              "    }\n",
              "\n",
              "    .dataframe tbody tr th {\n",
              "        vertical-align: top;\n",
              "    }\n",
              "\n",
              "    .dataframe thead th {\n",
              "        text-align: right;\n",
              "    }\n",
              "</style>\n",
              "<table border=\"1\" class=\"dataframe\">\n",
              "  <thead>\n",
              "    <tr style=\"text-align: right;\">\n",
              "      <th></th>\n",
              "      <th>business_id</th>\n",
              "      <th>rating_count</th>\n",
              "      <th>predicted_ratings</th>\n",
              "      <th>corrected_ratings</th>\n",
              "    </tr>\n",
              "  </thead>\n",
              "  <tbody>\n",
              "    <tr>\n",
              "      <th>0</th>\n",
              "      <td>--5jkZ3-nUPZxUvtcbr8Uw</td>\n",
              "      <td>11</td>\n",
              "      <td>5</td>\n",
              "      <td>4.698489</td>\n",
              "    </tr>\n",
              "    <tr>\n",
              "      <th>1</th>\n",
              "      <td>-J0jhpG0rv4saq9OMh8gXw</td>\n",
              "      <td>6</td>\n",
              "      <td>5</td>\n",
              "      <td>4.591752</td>\n",
              "    </tr>\n",
              "    <tr>\n",
              "      <th>2</th>\n",
              "      <td>-7XuLxfYwZ9x72mEKXdv0A</td>\n",
              "      <td>5</td>\n",
              "      <td>5</td>\n",
              "      <td>4.552786</td>\n",
              "    </tr>\n",
              "    <tr>\n",
              "      <th>3</th>\n",
              "      <td>-A82xEVAjOYZtDdRQw1FQw</td>\n",
              "      <td>5</td>\n",
              "      <td>5</td>\n",
              "      <td>4.552786</td>\n",
              "    </tr>\n",
              "    <tr>\n",
              "      <th>4</th>\n",
              "      <td>-CZ78c-H3tTxpP-uQ09CWw</td>\n",
              "      <td>3</td>\n",
              "      <td>5</td>\n",
              "      <td>4.422650</td>\n",
              "    </tr>\n",
              "  </tbody>\n",
              "</table>\n",
              "</div>\n",
              "      <button class=\"colab-df-convert\" onclick=\"convertToInteractive('df-2352f73a-3f6f-4cda-b2a6-8a17f8b64532')\"\n",
              "              title=\"Convert this dataframe to an interactive table.\"\n",
              "              style=\"display:none;\">\n",
              "        \n",
              "  <svg xmlns=\"http://www.w3.org/2000/svg\" height=\"24px\"viewBox=\"0 0 24 24\"\n",
              "       width=\"24px\">\n",
              "    <path d=\"M0 0h24v24H0V0z\" fill=\"none\"/>\n",
              "    <path d=\"M18.56 5.44l.94 2.06.94-2.06 2.06-.94-2.06-.94-.94-2.06-.94 2.06-2.06.94zm-11 1L8.5 8.5l.94-2.06 2.06-.94-2.06-.94L8.5 2.5l-.94 2.06-2.06.94zm10 10l.94 2.06.94-2.06 2.06-.94-2.06-.94-.94-2.06-.94 2.06-2.06.94z\"/><path d=\"M17.41 7.96l-1.37-1.37c-.4-.4-.92-.59-1.43-.59-.52 0-1.04.2-1.43.59L10.3 9.45l-7.72 7.72c-.78.78-.78 2.05 0 2.83L4 21.41c.39.39.9.59 1.41.59.51 0 1.02-.2 1.41-.59l7.78-7.78 2.81-2.81c.8-.78.8-2.07 0-2.86zM5.41 20L4 18.59l7.72-7.72 1.47 1.35L5.41 20z\"/>\n",
              "  </svg>\n",
              "      </button>\n",
              "      \n",
              "  <style>\n",
              "    .colab-df-container {\n",
              "      display:flex;\n",
              "      flex-wrap:wrap;\n",
              "      gap: 12px;\n",
              "    }\n",
              "\n",
              "    .colab-df-convert {\n",
              "      background-color: #E8F0FE;\n",
              "      border: none;\n",
              "      border-radius: 50%;\n",
              "      cursor: pointer;\n",
              "      display: none;\n",
              "      fill: #1967D2;\n",
              "      height: 32px;\n",
              "      padding: 0 0 0 0;\n",
              "      width: 32px;\n",
              "    }\n",
              "\n",
              "    .colab-df-convert:hover {\n",
              "      background-color: #E2EBFA;\n",
              "      box-shadow: 0px 1px 2px rgba(60, 64, 67, 0.3), 0px 1px 3px 1px rgba(60, 64, 67, 0.15);\n",
              "      fill: #174EA6;\n",
              "    }\n",
              "\n",
              "    [theme=dark] .colab-df-convert {\n",
              "      background-color: #3B4455;\n",
              "      fill: #D2E3FC;\n",
              "    }\n",
              "\n",
              "    [theme=dark] .colab-df-convert:hover {\n",
              "      background-color: #434B5C;\n",
              "      box-shadow: 0px 1px 3px 1px rgba(0, 0, 0, 0.15);\n",
              "      filter: drop-shadow(0px 1px 2px rgba(0, 0, 0, 0.3));\n",
              "      fill: #FFFFFF;\n",
              "    }\n",
              "  </style>\n",
              "\n",
              "      <script>\n",
              "        const buttonEl =\n",
              "          document.querySelector('#df-2352f73a-3f6f-4cda-b2a6-8a17f8b64532 button.colab-df-convert');\n",
              "        buttonEl.style.display =\n",
              "          google.colab.kernel.accessAllowed ? 'block' : 'none';\n",
              "\n",
              "        async function convertToInteractive(key) {\n",
              "          const element = document.querySelector('#df-2352f73a-3f6f-4cda-b2a6-8a17f8b64532');\n",
              "          const dataTable =\n",
              "            await google.colab.kernel.invokeFunction('convertToInteractive',\n",
              "                                                     [key], {});\n",
              "          if (!dataTable) return;\n",
              "\n",
              "          const docLinkHtml = 'Like what you see? Visit the ' +\n",
              "            '<a target=\"_blank\" href=https://colab.research.google.com/notebooks/data_table.ipynb>data table notebook</a>'\n",
              "            + ' to learn more about interactive tables.';\n",
              "          element.innerHTML = '';\n",
              "          dataTable['output_type'] = 'display_data';\n",
              "          await google.colab.output.renderOutput(dataTable, element);\n",
              "          const docLink = document.createElement('div');\n",
              "          docLink.innerHTML = docLinkHtml;\n",
              "          element.appendChild(docLink);\n",
              "        }\n",
              "      </script>\n",
              "    </div>\n",
              "  </div>\n",
              "  "
            ]
          },
          "metadata": {},
          "execution_count": 37
        }
      ]
    },
    {
      "cell_type": "markdown",
      "source": [
        "## **Model 3: Building Item Item Collaborative Filtering Model**\n",
        "- Above we have seen similarity-based collaborative filtering where similarity has seen between the users. Now let us look into similarity-based collaborative filtering where similarity is seen between the items."
      ],
      "metadata": {
        "id": "tu69r_gDOdTH"
      }
    },
    {
      "cell_type": "code",
      "source": [
        "# Declaring the similarity options\n",
        "sim_options = {'name': 'cosine',\n",
        "               'user_based': False}\n",
        "\n",
        "# KNN algorithm is used to find desired similar items\n",
        "sim_item_item = KNNBasic(sim_options = sim_options, random_state = 1, verbose = False)\n",
        "\n",
        "# Train the algorithm on the train set, and predict ratings for the testset\n",
        "sim_item_item.fit(trainset)\n",
        "\n",
        "# Let us compute precision@k, recall@k, and f_1 score with k = 10\n",
        "precision_recall_at_k(sim_item_item)"
      ],
      "metadata": {
        "colab": {
          "base_uri": "https://localhost:8080/"
        },
        "id": "vMaVr7JRObwh",
        "outputId": "81dec7c8-ddfa-4074-ba67-d2a853ffcd0b"
      },
      "execution_count": 38,
      "outputs": [
        {
          "output_type": "stream",
          "name": "stdout",
          "text": [
            "RMSE: 1.0218\n",
            "Precision:  0.663\n",
            "Recall:  0.344\n",
            "F_1 score:  0.453\n"
          ]
        }
      ]
    },
    {
      "cell_type": "markdown",
      "source": [
        "- The baseline model is giving an F_1 score of about 45%. We will try to improve this later by using GridSearchCV by tuning different hyperparameters of this algorithm."
      ],
      "metadata": {
        "id": "bCYBfGNeOjvA"
      }
    },
    {
      "cell_type": "markdown",
      "source": [
        "#### **predict a rating for a user with userId = rLtl8ZkDX5vH5nAx9C3q5Q and business_Id = 9yKzy9PApeiPPOUJEtnvkg**"
      ],
      "metadata": {
        "id": "wl_-WcoAOl5P"
      }
    },
    {
      "cell_type": "code",
      "source": [
        "# Predicting rating for a sample user with a visited restaurant\n",
        "sim_item_item.predict(\"rLtl8ZkDX5vH5nAx9C3q5Q\", \"9yKzy9PApeiPPOUJEtnvkg\", r_ui = 5, verbose = True)"
      ],
      "metadata": {
        "colab": {
          "base_uri": "https://localhost:8080/"
        },
        "id": "4Dn_ET88OiBD",
        "outputId": "fd9fd736-be4c-42ca-97ff-447d209e5362"
      },
      "execution_count": 39,
      "outputs": [
        {
          "output_type": "stream",
          "name": "stdout",
          "text": [
            "user: rLtl8ZkDX5vH5nAx9C3q5Q item: 9yKzy9PApeiPPOUJEtnvkg r_ui = 5.00   est = 3.48   {'actual_k': 40, 'was_impossible': False}\n"
          ]
        },
        {
          "output_type": "execute_result",
          "data": {
            "text/plain": [
              "Prediction(uid='rLtl8ZkDX5vH5nAx9C3q5Q', iid='9yKzy9PApeiPPOUJEtnvkg', r_ui=5, est=3.475, details={'actual_k': 40, 'was_impossible': False})"
            ]
          },
          "metadata": {},
          "execution_count": 39
        }
      ]
    },
    {
      "cell_type": "markdown",
      "source": [
        "#### **predicting rating for the same userId = rLtl8ZkDX5vH5nAx9C3q5Q but for a restaurant which this user has not visited yet, i.e., business_id = zp713qNhx8d9KCJJnrw1xA**"
      ],
      "metadata": {
        "id": "mJVUF4n5OqyW"
      }
    },
    {
      "cell_type": "code",
      "source": [
        "# Predicting rating for a sample user with restaurant not visited by the user\n",
        "sim_item_item.predict(\"rLtl8ZkDX5vH5nAx9C3q5Q\", \"zp713qNhx8d9KCJJnrw1xA\", verbose = True)"
      ],
      "metadata": {
        "colab": {
          "base_uri": "https://localhost:8080/"
        },
        "id": "8BqG99wDOo54",
        "outputId": "3f978035-e86d-4a0e-824d-4fb53f64b499"
      },
      "execution_count": 40,
      "outputs": [
        {
          "output_type": "stream",
          "name": "stdout",
          "text": [
            "user: rLtl8ZkDX5vH5nAx9C3q5Q item: zp713qNhx8d9KCJJnrw1xA r_ui = None   est = 3.77   {'actual_k': 40, 'was_impossible': False}\n"
          ]
        },
        {
          "output_type": "execute_result",
          "data": {
            "text/plain": [
              "Prediction(uid='rLtl8ZkDX5vH5nAx9C3q5Q', iid='zp713qNhx8d9KCJJnrw1xA', r_ui=None, est=3.775, details={'actual_k': 40, 'was_impossible': False})"
            ]
          },
          "metadata": {},
          "execution_count": 40
        }
      ]
    },
    {
      "cell_type": "markdown",
      "source": [
        "### **Improving similarity-based recommendation system by tuning its hyper-parameters**\n",
        "- Below we will be tuning hyperparameters for the KNNBasic algorithms."
      ],
      "metadata": {
        "id": "NB40UzxyOvC7"
      }
    },
    {
      "cell_type": "code",
      "source": [
        "# Setting up parameter grid to tune the hyperparameters\n",
        "param_grid = {'k': [10, 20, 30], 'min_k': [3, 6, 9],\n",
        "              'sim_options': {'name': ['msd', 'cosine'],\n",
        "                              'user_based': [False]}\n",
        "              }\n",
        "\n",
        "# Performing 3-fold cross validation to tune the hyperparameters\n",
        "gs = GridSearchCV(KNNBasic, param_grid, measures = ['rmse'], cv = 3, n_jobs = -1)\n",
        "\n",
        "# Fitting the model on the data\n",
        "gs.fit(data)\n",
        "\n",
        "# Print the best RMSE score\n",
        "print(gs.best_score['rmse'])\n",
        "\n",
        "# Print the combination of parameters that gave the best RMSE score\n",
        "print(gs.best_params['rmse'])"
      ],
      "metadata": {
        "colab": {
          "base_uri": "https://localhost:8080/"
        },
        "id": "-eDL4YrMOtVv",
        "outputId": "edb54202-a964-4005-f4dc-8a1f7371b55d"
      },
      "execution_count": 41,
      "outputs": [
        {
          "output_type": "stream",
          "name": "stdout",
          "text": [
            "1.0091953834782148\n",
            "{'k': 30, 'min_k': 9, 'sim_options': {'name': 'msd', 'user_based': False}}\n"
          ]
        }
      ]
    },
    {
      "cell_type": "markdown",
      "source": [
        "#### **build the final model by using tuned values of the hyperparameters which we received by using grid search cross-validation.**"
      ],
      "metadata": {
        "id": "xqjpFt6mO13n"
      }
    },
    {
      "cell_type": "code",
      "source": [
        "# Using the optimal similarity measure for item-item based collaborative filtering\n",
        "sim_options = {'name': 'msd',\n",
        "               'user_based': False}\n",
        "\n",
        "# Creating an instance of KNNBasic with optimal hyperparameter values\n",
        "sim_item_item_optimized = KNNBasic(sim_options = sim_options, k = 30, min_k = 9, random_state = 1, verbose = False)\n",
        "\n",
        "# Training the algorithm on the train set\n",
        "sim_item_item_optimized.fit(trainset)\n",
        "\n",
        "# Let us compute precision@k and recall@k also with k = 10\n",
        "precision_recall_at_k(sim_item_item_optimized)"
      ],
      "metadata": {
        "colab": {
          "base_uri": "https://localhost:8080/"
        },
        "id": "_E8g3CZ2Oz0Q",
        "outputId": "d9d05f68-e03c-4eb9-aa3f-8cda281c9b7b"
      },
      "execution_count": 42,
      "outputs": [
        {
          "output_type": "stream",
          "name": "stdout",
          "text": [
            "RMSE: 0.9986\n",
            "Precision:  0.708\n",
            "Recall:  0.375\n",
            "F_1 score:  0.49\n"
          ]
        }
      ]
    },
    {
      "cell_type": "markdown",
      "source": [
        "- We can see from above that after tuning hyperparameters, F_1 score of the tuned model is much better than the baseline model. Also, there is a considerable fall in the RMSE value after tuning the hyperparameters. Hence the tuned model is doing better than the earlier one."
      ],
      "metadata": {
        "id": "FoUHw54oO52w"
      }
    },
    {
      "cell_type": "markdown",
      "source": [
        "#### **predict rating for an user with userId = rLtl8ZkDX5vH5nAx9C3q5Q and for business_id = 9yKzy9PApeiPPOUJEtnvkg**"
      ],
      "metadata": {
        "id": "UGaaWg-JO7y4"
      }
    },
    {
      "cell_type": "code",
      "source": [
        "sim_item_item_optimized.predict(\"rLtl8ZkDX5vH5nAx9C3q5Q\", \"9yKzy9PApeiPPOUJEtnvkg\", r_ui = 5, verbose = True)"
      ],
      "metadata": {
        "colab": {
          "base_uri": "https://localhost:8080/"
        },
        "id": "ZIUyUf5FO4Tp",
        "outputId": "e071da0b-a6ca-4605-e417-ee62939e9916"
      },
      "execution_count": 43,
      "outputs": [
        {
          "output_type": "stream",
          "name": "stdout",
          "text": [
            "user: rLtl8ZkDX5vH5nAx9C3q5Q item: 9yKzy9PApeiPPOUJEtnvkg r_ui = 5.00   est = 4.90   {'actual_k': 30, 'was_impossible': False}\n"
          ]
        },
        {
          "output_type": "execute_result",
          "data": {
            "text/plain": [
              "Prediction(uid='rLtl8ZkDX5vH5nAx9C3q5Q', iid='9yKzy9PApeiPPOUJEtnvkg', r_ui=5, est=4.896024464831805, details={'actual_k': 30, 'was_impossible': False})"
            ]
          },
          "metadata": {},
          "execution_count": 43
        }
      ]
    },
    {
      "cell_type": "markdown",
      "source": [
        "- Here the optimized model is predicting a good rating (almost 4.90) for the business whose actual rating is 5."
      ],
      "metadata": {
        "id": "S1b_sF-QPAgm"
      }
    },
    {
      "cell_type": "markdown",
      "source": [
        "#### **predicting rating for the same userId = rLtl8ZkDX5vH5nAx9C3q5Q but for a restaurant which this user has not visited before, i.e., business_id == zp713qNhx8d9KCJJnrw1xA**"
      ],
      "metadata": {
        "id": "h85xKTfIPCxS"
      }
    },
    {
      "cell_type": "code",
      "source": [
        "sim_item_item_optimized.predict(\"rLtl8ZkDX5vH5nAx9C3q5Q\", \"zp713qNhx8d9KCJJnrw1xA\", verbose = True)"
      ],
      "metadata": {
        "colab": {
          "base_uri": "https://localhost:8080/"
        },
        "id": "QW2PJPdKO-c7",
        "outputId": "7735dd87-e372-4a14-98ee-0235ec3e0958"
      },
      "execution_count": 44,
      "outputs": [
        {
          "output_type": "stream",
          "name": "stdout",
          "text": [
            "user: rLtl8ZkDX5vH5nAx9C3q5Q item: zp713qNhx8d9KCJJnrw1xA r_ui = None   est = 3.71   {'actual_k': 30, 'was_impossible': False}\n"
          ]
        },
        {
          "output_type": "execute_result",
          "data": {
            "text/plain": [
              "Prediction(uid='rLtl8ZkDX5vH5nAx9C3q5Q', iid='zp713qNhx8d9KCJJnrw1xA', r_ui=None, est=3.705302758867788, details={'actual_k': 30, 'was_impossible': False})"
            ]
          },
          "metadata": {},
          "execution_count": 44
        }
      ]
    },
    {
      "cell_type": "markdown",
      "source": [
        "- For an unknown business the model is predicting a rating of 3.71."
      ],
      "metadata": {
        "id": "w2D3COXNPH0u"
      }
    },
    {
      "cell_type": "markdown",
      "source": [
        "### **Identifying similar items to a given item (nearest neighbors)**"
      ],
      "metadata": {
        "id": "425hszA7PJwE"
      }
    },
    {
      "cell_type": "code",
      "source": [
        "sim_item_item_optimized.get_neighbors(0, k = 5)"
      ],
      "metadata": {
        "colab": {
          "base_uri": "https://localhost:8080/"
        },
        "id": "K5mM9WxhPFV1",
        "outputId": "5eb88053-6d4c-4c70-b970-3502c9c2b41f"
      },
      "execution_count": 45,
      "outputs": [
        {
          "output_type": "execute_result",
          "data": {
            "text/plain": [
              "[21, 27, 35, 51, 57]"
            ]
          },
          "metadata": {},
          "execution_count": 45
        }
      ]
    },
    {
      "cell_type": "markdown",
      "source": [
        "#### **Predicted top 5 business/product for userId = \"rLtl8ZkDX5vH5nAx9C3q5Q\" with similarity based recommendation system.**"
      ],
      "metadata": {
        "id": "vJ1c42XEPOU2"
      }
    },
    {
      "cell_type": "code",
      "source": [
        "# Making top 5 recommendations for user_id rLtl8ZkDX5vH5nAx9C3q5Q with similarity-based recommendation engine\n",
        "recommendations = get_recommendations(df_final, \"rLtl8ZkDX5vH5nAx9C3q5Q\", 5, sim_item_item_optimized)"
      ],
      "metadata": {
        "id": "vw1tmLRIPMtO"
      },
      "execution_count": 46,
      "outputs": []
    },
    {
      "cell_type": "code",
      "source": [
        "# Building the dataframe for above recommendations with columns \"business_id\" and \"predicted_ratings\"\n",
        "pd.DataFrame(recommendations, columns = ['business_id', 'predicted_ratings'])"
      ],
      "metadata": {
        "colab": {
          "base_uri": "https://localhost:8080/",
          "height": 206
        },
        "id": "Hv9vn9CLPREe",
        "outputId": "fa76d54d-ef5d-4742-f2fa-94bbf11a4e11"
      },
      "execution_count": 47,
      "outputs": [
        {
          "output_type": "execute_result",
          "data": {
            "text/plain": [
              "              business_id  predicted_ratings\n",
              "0  5Q49MxuWJgXS649i7i2Iow           4.416667\n",
              "1  SmY_Xw31b2xyzsKbimQiHQ           4.346154\n",
              "2  N6ff0yyo9Cv_7XPz-YDoow           4.308696\n",
              "3  UmFnmIoLCRe1ywY0bzpRrQ           4.307692\n",
              "4  p204PQg45gECcYwxCAK1wA           4.307692"
            ],
            "text/html": [
              "\n",
              "  <div id=\"df-eed02689-9cc8-41cf-a7d7-10e6c1b33d0d\">\n",
              "    <div class=\"colab-df-container\">\n",
              "      <div>\n",
              "<style scoped>\n",
              "    .dataframe tbody tr th:only-of-type {\n",
              "        vertical-align: middle;\n",
              "    }\n",
              "\n",
              "    .dataframe tbody tr th {\n",
              "        vertical-align: top;\n",
              "    }\n",
              "\n",
              "    .dataframe thead th {\n",
              "        text-align: right;\n",
              "    }\n",
              "</style>\n",
              "<table border=\"1\" class=\"dataframe\">\n",
              "  <thead>\n",
              "    <tr style=\"text-align: right;\">\n",
              "      <th></th>\n",
              "      <th>business_id</th>\n",
              "      <th>predicted_ratings</th>\n",
              "    </tr>\n",
              "  </thead>\n",
              "  <tbody>\n",
              "    <tr>\n",
              "      <th>0</th>\n",
              "      <td>5Q49MxuWJgXS649i7i2Iow</td>\n",
              "      <td>4.416667</td>\n",
              "    </tr>\n",
              "    <tr>\n",
              "      <th>1</th>\n",
              "      <td>SmY_Xw31b2xyzsKbimQiHQ</td>\n",
              "      <td>4.346154</td>\n",
              "    </tr>\n",
              "    <tr>\n",
              "      <th>2</th>\n",
              "      <td>N6ff0yyo9Cv_7XPz-YDoow</td>\n",
              "      <td>4.308696</td>\n",
              "    </tr>\n",
              "    <tr>\n",
              "      <th>3</th>\n",
              "      <td>UmFnmIoLCRe1ywY0bzpRrQ</td>\n",
              "      <td>4.307692</td>\n",
              "    </tr>\n",
              "    <tr>\n",
              "      <th>4</th>\n",
              "      <td>p204PQg45gECcYwxCAK1wA</td>\n",
              "      <td>4.307692</td>\n",
              "    </tr>\n",
              "  </tbody>\n",
              "</table>\n",
              "</div>\n",
              "      <button class=\"colab-df-convert\" onclick=\"convertToInteractive('df-eed02689-9cc8-41cf-a7d7-10e6c1b33d0d')\"\n",
              "              title=\"Convert this dataframe to an interactive table.\"\n",
              "              style=\"display:none;\">\n",
              "        \n",
              "  <svg xmlns=\"http://www.w3.org/2000/svg\" height=\"24px\"viewBox=\"0 0 24 24\"\n",
              "       width=\"24px\">\n",
              "    <path d=\"M0 0h24v24H0V0z\" fill=\"none\"/>\n",
              "    <path d=\"M18.56 5.44l.94 2.06.94-2.06 2.06-.94-2.06-.94-.94-2.06-.94 2.06-2.06.94zm-11 1L8.5 8.5l.94-2.06 2.06-.94-2.06-.94L8.5 2.5l-.94 2.06-2.06.94zm10 10l.94 2.06.94-2.06 2.06-.94-2.06-.94-.94-2.06-.94 2.06-2.06.94z\"/><path d=\"M17.41 7.96l-1.37-1.37c-.4-.4-.92-.59-1.43-.59-.52 0-1.04.2-1.43.59L10.3 9.45l-7.72 7.72c-.78.78-.78 2.05 0 2.83L4 21.41c.39.39.9.59 1.41.59.51 0 1.02-.2 1.41-.59l7.78-7.78 2.81-2.81c.8-.78.8-2.07 0-2.86zM5.41 20L4 18.59l7.72-7.72 1.47 1.35L5.41 20z\"/>\n",
              "  </svg>\n",
              "      </button>\n",
              "      \n",
              "  <style>\n",
              "    .colab-df-container {\n",
              "      display:flex;\n",
              "      flex-wrap:wrap;\n",
              "      gap: 12px;\n",
              "    }\n",
              "\n",
              "    .colab-df-convert {\n",
              "      background-color: #E8F0FE;\n",
              "      border: none;\n",
              "      border-radius: 50%;\n",
              "      cursor: pointer;\n",
              "      display: none;\n",
              "      fill: #1967D2;\n",
              "      height: 32px;\n",
              "      padding: 0 0 0 0;\n",
              "      width: 32px;\n",
              "    }\n",
              "\n",
              "    .colab-df-convert:hover {\n",
              "      background-color: #E2EBFA;\n",
              "      box-shadow: 0px 1px 2px rgba(60, 64, 67, 0.3), 0px 1px 3px 1px rgba(60, 64, 67, 0.15);\n",
              "      fill: #174EA6;\n",
              "    }\n",
              "\n",
              "    [theme=dark] .colab-df-convert {\n",
              "      background-color: #3B4455;\n",
              "      fill: #D2E3FC;\n",
              "    }\n",
              "\n",
              "    [theme=dark] .colab-df-convert:hover {\n",
              "      background-color: #434B5C;\n",
              "      box-shadow: 0px 1px 3px 1px rgba(0, 0, 0, 0.15);\n",
              "      filter: drop-shadow(0px 1px 2px rgba(0, 0, 0, 0.3));\n",
              "      fill: #FFFFFF;\n",
              "    }\n",
              "  </style>\n",
              "\n",
              "      <script>\n",
              "        const buttonEl =\n",
              "          document.querySelector('#df-eed02689-9cc8-41cf-a7d7-10e6c1b33d0d button.colab-df-convert');\n",
              "        buttonEl.style.display =\n",
              "          google.colab.kernel.accessAllowed ? 'block' : 'none';\n",
              "\n",
              "        async function convertToInteractive(key) {\n",
              "          const element = document.querySelector('#df-eed02689-9cc8-41cf-a7d7-10e6c1b33d0d');\n",
              "          const dataTable =\n",
              "            await google.colab.kernel.invokeFunction('convertToInteractive',\n",
              "                                                     [key], {});\n",
              "          if (!dataTable) return;\n",
              "\n",
              "          const docLinkHtml = 'Like what you see? Visit the ' +\n",
              "            '<a target=\"_blank\" href=https://colab.research.google.com/notebooks/data_table.ipynb>data table notebook</a>'\n",
              "            + ' to learn more about interactive tables.';\n",
              "          element.innerHTML = '';\n",
              "          dataTable['output_type'] = 'display_data';\n",
              "          await google.colab.output.renderOutput(dataTable, element);\n",
              "          const docLink = document.createElement('div');\n",
              "          docLink.innerHTML = docLinkHtml;\n",
              "          element.appendChild(docLink);\n",
              "        }\n",
              "      </script>\n",
              "    </div>\n",
              "  </div>\n",
              "  "
            ]
          },
          "metadata": {},
          "execution_count": 47
        }
      ]
    },
    {
      "cell_type": "code",
      "source": [
        "# Applying the ranking_products function and sorting it based on corrected ratings\n",
        "ranking_products(recommendations, final_rating)"
      ],
      "metadata": {
        "colab": {
          "base_uri": "https://localhost:8080/",
          "height": 206
        },
        "id": "p5eoY8NgPSo0",
        "outputId": "cc31b88a-7f3e-420f-86cf-ae4207155d1d"
      },
      "execution_count": 48,
      "outputs": [
        {
          "output_type": "execute_result",
          "data": {
            "text/plain": [
              "              business_id  rating_count  predicted_ratings  corrected_ratings\n",
              "1  5Q49MxuWJgXS649i7i2Iow            10           4.416667           4.100439\n",
              "0  SmY_Xw31b2xyzsKbimQiHQ            15           4.346154           4.087955\n",
              "2  N6ff0yyo9Cv_7XPz-YDoow             7           4.308696           3.930731\n",
              "3  UmFnmIoLCRe1ywY0bzpRrQ             4           4.307692           3.807692\n",
              "4  p204PQg45gECcYwxCAK1wA             3           4.307692           3.730342"
            ],
            "text/html": [
              "\n",
              "  <div id=\"df-e65846cf-316d-41a7-8780-88d3aeb0c336\">\n",
              "    <div class=\"colab-df-container\">\n",
              "      <div>\n",
              "<style scoped>\n",
              "    .dataframe tbody tr th:only-of-type {\n",
              "        vertical-align: middle;\n",
              "    }\n",
              "\n",
              "    .dataframe tbody tr th {\n",
              "        vertical-align: top;\n",
              "    }\n",
              "\n",
              "    .dataframe thead th {\n",
              "        text-align: right;\n",
              "    }\n",
              "</style>\n",
              "<table border=\"1\" class=\"dataframe\">\n",
              "  <thead>\n",
              "    <tr style=\"text-align: right;\">\n",
              "      <th></th>\n",
              "      <th>business_id</th>\n",
              "      <th>rating_count</th>\n",
              "      <th>predicted_ratings</th>\n",
              "      <th>corrected_ratings</th>\n",
              "    </tr>\n",
              "  </thead>\n",
              "  <tbody>\n",
              "    <tr>\n",
              "      <th>1</th>\n",
              "      <td>5Q49MxuWJgXS649i7i2Iow</td>\n",
              "      <td>10</td>\n",
              "      <td>4.416667</td>\n",
              "      <td>4.100439</td>\n",
              "    </tr>\n",
              "    <tr>\n",
              "      <th>0</th>\n",
              "      <td>SmY_Xw31b2xyzsKbimQiHQ</td>\n",
              "      <td>15</td>\n",
              "      <td>4.346154</td>\n",
              "      <td>4.087955</td>\n",
              "    </tr>\n",
              "    <tr>\n",
              "      <th>2</th>\n",
              "      <td>N6ff0yyo9Cv_7XPz-YDoow</td>\n",
              "      <td>7</td>\n",
              "      <td>4.308696</td>\n",
              "      <td>3.930731</td>\n",
              "    </tr>\n",
              "    <tr>\n",
              "      <th>3</th>\n",
              "      <td>UmFnmIoLCRe1ywY0bzpRrQ</td>\n",
              "      <td>4</td>\n",
              "      <td>4.307692</td>\n",
              "      <td>3.807692</td>\n",
              "    </tr>\n",
              "    <tr>\n",
              "      <th>4</th>\n",
              "      <td>p204PQg45gECcYwxCAK1wA</td>\n",
              "      <td>3</td>\n",
              "      <td>4.307692</td>\n",
              "      <td>3.730342</td>\n",
              "    </tr>\n",
              "  </tbody>\n",
              "</table>\n",
              "</div>\n",
              "      <button class=\"colab-df-convert\" onclick=\"convertToInteractive('df-e65846cf-316d-41a7-8780-88d3aeb0c336')\"\n",
              "              title=\"Convert this dataframe to an interactive table.\"\n",
              "              style=\"display:none;\">\n",
              "        \n",
              "  <svg xmlns=\"http://www.w3.org/2000/svg\" height=\"24px\"viewBox=\"0 0 24 24\"\n",
              "       width=\"24px\">\n",
              "    <path d=\"M0 0h24v24H0V0z\" fill=\"none\"/>\n",
              "    <path d=\"M18.56 5.44l.94 2.06.94-2.06 2.06-.94-2.06-.94-.94-2.06-.94 2.06-2.06.94zm-11 1L8.5 8.5l.94-2.06 2.06-.94-2.06-.94L8.5 2.5l-.94 2.06-2.06.94zm10 10l.94 2.06.94-2.06 2.06-.94-2.06-.94-.94-2.06-.94 2.06-2.06.94z\"/><path d=\"M17.41 7.96l-1.37-1.37c-.4-.4-.92-.59-1.43-.59-.52 0-1.04.2-1.43.59L10.3 9.45l-7.72 7.72c-.78.78-.78 2.05 0 2.83L4 21.41c.39.39.9.59 1.41.59.51 0 1.02-.2 1.41-.59l7.78-7.78 2.81-2.81c.8-.78.8-2.07 0-2.86zM5.41 20L4 18.59l7.72-7.72 1.47 1.35L5.41 20z\"/>\n",
              "  </svg>\n",
              "      </button>\n",
              "      \n",
              "  <style>\n",
              "    .colab-df-container {\n",
              "      display:flex;\n",
              "      flex-wrap:wrap;\n",
              "      gap: 12px;\n",
              "    }\n",
              "\n",
              "    .colab-df-convert {\n",
              "      background-color: #E8F0FE;\n",
              "      border: none;\n",
              "      border-radius: 50%;\n",
              "      cursor: pointer;\n",
              "      display: none;\n",
              "      fill: #1967D2;\n",
              "      height: 32px;\n",
              "      padding: 0 0 0 0;\n",
              "      width: 32px;\n",
              "    }\n",
              "\n",
              "    .colab-df-convert:hover {\n",
              "      background-color: #E2EBFA;\n",
              "      box-shadow: 0px 1px 2px rgba(60, 64, 67, 0.3), 0px 1px 3px 1px rgba(60, 64, 67, 0.15);\n",
              "      fill: #174EA6;\n",
              "    }\n",
              "\n",
              "    [theme=dark] .colab-df-convert {\n",
              "      background-color: #3B4455;\n",
              "      fill: #D2E3FC;\n",
              "    }\n",
              "\n",
              "    [theme=dark] .colab-df-convert:hover {\n",
              "      background-color: #434B5C;\n",
              "      box-shadow: 0px 1px 3px 1px rgba(0, 0, 0, 0.15);\n",
              "      filter: drop-shadow(0px 1px 2px rgba(0, 0, 0, 0.3));\n",
              "      fill: #FFFFFF;\n",
              "    }\n",
              "  </style>\n",
              "\n",
              "      <script>\n",
              "        const buttonEl =\n",
              "          document.querySelector('#df-e65846cf-316d-41a7-8780-88d3aeb0c336 button.colab-df-convert');\n",
              "        buttonEl.style.display =\n",
              "          google.colab.kernel.accessAllowed ? 'block' : 'none';\n",
              "\n",
              "        async function convertToInteractive(key) {\n",
              "          const element = document.querySelector('#df-e65846cf-316d-41a7-8780-88d3aeb0c336');\n",
              "          const dataTable =\n",
              "            await google.colab.kernel.invokeFunction('convertToInteractive',\n",
              "                                                     [key], {});\n",
              "          if (!dataTable) return;\n",
              "\n",
              "          const docLinkHtml = 'Like what you see? Visit the ' +\n",
              "            '<a target=\"_blank\" href=https://colab.research.google.com/notebooks/data_table.ipynb>data table notebook</a>'\n",
              "            + ' to learn more about interactive tables.';\n",
              "          element.innerHTML = '';\n",
              "          dataTable['output_type'] = 'display_data';\n",
              "          await google.colab.output.renderOutput(dataTable, element);\n",
              "          const docLink = document.createElement('div');\n",
              "          docLink.innerHTML = docLinkHtml;\n",
              "          element.appendChild(docLink);\n",
              "        }\n",
              "      </script>\n",
              "    </div>\n",
              "  </div>\n",
              "  "
            ]
          },
          "metadata": {},
          "execution_count": 48
        }
      ]
    },
    {
      "cell_type": "markdown",
      "source": [
        "- Now as we have seen similarity-based collaborative filtering algorithms, let us now get into model-based collaborative filtering algorithms."
      ],
      "metadata": {
        "id": "-EgkLGCMPV73"
      }
    },
    {
      "cell_type": "markdown",
      "source": [
        "## **Model 4: Matrix Factorization**\n",
        "**Singular Value Decomposition (SVD)**\n",
        "- SVD is used to compute the latent features from the user-item interaction matrix. But SVD does not work when values are missing in the user-item interaction matrix."
      ],
      "metadata": {
        "id": "0m3rFUK3PX9R"
      }
    },
    {
      "cell_type": "markdown",
      "source": [
        "### **Building a baseline matrix factorization recommendation system**"
      ],
      "metadata": {
        "id": "Cq7hihDOPgfQ"
      }
    },
    {
      "cell_type": "code",
      "source": [
        "# Using SVD matrix factorization\n",
        "svd = SVD(random_state = 1)\n",
        "\n",
        "# Training the algorithm on the train set\n",
        "svd.fit(trainset)\n",
        "\n",
        "# Let us compute precision@k and recall@k with k = 10\n",
        "precision_recall_at_k(svd)"
      ],
      "metadata": {
        "colab": {
          "base_uri": "https://localhost:8080/"
        },
        "id": "HQaGUR2BPUbC",
        "outputId": "40b3aa22-ddaa-462d-9db9-242c73aae3af"
      },
      "execution_count": 49,
      "outputs": [
        {
          "output_type": "stream",
          "name": "stdout",
          "text": [
            "RMSE: 0.9630\n",
            "Precision:  0.77\n",
            "Recall:  0.383\n",
            "F_1 score:  0.512\n"
          ]
        }
      ]
    },
    {
      "cell_type": "markdown",
      "source": [
        "- The baseline model with the algorithm is giving a nice F-1 score (almost 51%). It indicates a good performance by the model."
      ],
      "metadata": {
        "id": "w6jT_uixPmzv"
      }
    },
    {
      "cell_type": "markdown",
      "source": [
        "#### **predict the rating for a user with userId = \"rLtl8ZkDX5vH5nAx9C3q5Q\" and business_id = \"9yKzy9PApeiPPOUJEtnvkg\"**"
      ],
      "metadata": {
        "id": "k2fLQO5JPo36"
      }
    },
    {
      "cell_type": "code",
      "source": [
        "# Making the prediction\n",
        "svd.predict(\"rLtl8ZkDX5vH5nAx9C3q5Q\", \"9yKzy9PApeiPPOUJEtnvkg\", r_ui = 5, verbose = True)"
      ],
      "metadata": {
        "colab": {
          "base_uri": "https://localhost:8080/"
        },
        "id": "PPFbQ7IvPjme",
        "outputId": "3a3d1ff9-9990-4919-e525-4c49187d1725"
      },
      "execution_count": 50,
      "outputs": [
        {
          "output_type": "stream",
          "name": "stdout",
          "text": [
            "user: rLtl8ZkDX5vH5nAx9C3q5Q item: 9yKzy9PApeiPPOUJEtnvkg r_ui = 5.00   est = 4.16   {'was_impossible': False}\n"
          ]
        },
        {
          "output_type": "execute_result",
          "data": {
            "text/plain": [
              "Prediction(uid='rLtl8ZkDX5vH5nAx9C3q5Q', iid='9yKzy9PApeiPPOUJEtnvkg', r_ui=5, est=4.155179595069889, details={'was_impossible': False})"
            ]
          },
          "metadata": {},
          "execution_count": 50
        }
      ]
    },
    {
      "cell_type": "markdown",
      "source": [
        "- As we can see - the actual rating for this user-item pair is 5 and the predicted rating is also close to that. It seems like we have under-estimated the rating."
      ],
      "metadata": {
        "id": "vBrvCnP7Ptxl"
      }
    },
    {
      "cell_type": "markdown",
      "source": [
        "#### **predicting rating for the same userId = rLtl8ZkDX5vH5nAx9C3q5Q but for a restaurant which this user has not seen before, i.e., business_id = zp713qNhx8d9KCJJnrw1xA**"
      ],
      "metadata": {
        "id": "nfPHGkNrPwow"
      }
    },
    {
      "cell_type": "code",
      "source": [
        "# Making prediction using the svd model\n",
        "svd.predict(\"rLtl8ZkDX5vH5nAx9C3q5Q\", \"zp713qNhx8d9KCJJnrw1xA\", verbose = True)"
      ],
      "metadata": {
        "colab": {
          "base_uri": "https://localhost:8080/"
        },
        "id": "pfUSrEq_Prgy",
        "outputId": "91c38389-92ff-4e06-d116-4b1d519188d7"
      },
      "execution_count": 51,
      "outputs": [
        {
          "output_type": "stream",
          "name": "stdout",
          "text": [
            "user: rLtl8ZkDX5vH5nAx9C3q5Q item: zp713qNhx8d9KCJJnrw1xA r_ui = None   est = 4.09   {'was_impossible': False}\n"
          ]
        },
        {
          "output_type": "execute_result",
          "data": {
            "text/plain": [
              "Prediction(uid='rLtl8ZkDX5vH5nAx9C3q5Q', iid='zp713qNhx8d9KCJJnrw1xA', r_ui=None, est=4.09204353877637, details={'was_impossible': False})"
            ]
          },
          "metadata": {},
          "execution_count": 51
        }
      ]
    },
    {
      "cell_type": "markdown",
      "source": [
        "- We can see that the estimated rating for this user-item pair is ~4.10 based on this matrix factorization based baseline model."
      ],
      "metadata": {
        "id": "AHpCPOXGP1TI"
      }
    },
    {
      "cell_type": "markdown",
      "source": [
        "### **Improving matrix factorization-based recommendation system by tuning its hyper-parameters.**\n",
        "we will be tuning only three hyperparameters -\n",
        "- n_epochs: The number of iterations of the SVD algorithm.\n",
        "- lr_all: The learning rate for all parameters.\n",
        "- reg_all: The regularization term for all parameters."
      ],
      "metadata": {
        "id": "wpRJw4aBP3rV"
      }
    },
    {
      "cell_type": "code",
      "source": [
        "# Set the parameter space to tune\n",
        "param_grid = {'n_epochs': [10, 20, 30], 'lr_all': [0.001, 0.005, 0.01],\n",
        "              'reg_all': [0.2, 0.4, 0.6]}\n",
        "\n",
        "# Performing 3-fold gridsearch cross validation\n",
        "gs = GridSearchCV(SVD, param_grid, measures = ['rmse'], cv = 3, n_jobs = -1)\n",
        "\n",
        "# Fitting the model on the data\n",
        "gs.fit(data)\n",
        "\n",
        "# Print the best RMSE score\n",
        "print(gs.best_score['rmse'])\n",
        "\n",
        "# Print the combination of parameters that gave the best RMSE score\n",
        "print(gs.best_params['rmse'])"
      ],
      "metadata": {
        "id": "vVi4xm6bPzwX"
      },
      "execution_count": null,
      "outputs": []
    },
    {
      "cell_type": "markdown",
      "source": [
        "### **build the final model by using tuned values of the hyperparameters which we received by using grid search cross-validation.**"
      ],
      "metadata": {
        "id": "G4hSStS0QCQB"
      }
    },
    {
      "cell_type": "code",
      "source": [
        "# Building the optimized SVD model using optimal hyperparameter search\n",
        "svd_optimized = SVD(n_epochs = 20, lr_all = 0.01, reg_all = 0.2, random_state = 1)\n",
        "\n",
        "# Training the algorithm on the train set\n",
        "svd_optimized = svd_optimized.fit(trainset)\n",
        "\n",
        "# Let us compute precision@k and recall@k also with k = 10\n",
        "precision_recall_at_k(svd_optimized)"
      ],
      "metadata": {
        "id": "DHVtguN3QAMG"
      },
      "execution_count": null,
      "outputs": []
    },
    {
      "cell_type": "markdown",
      "source": [
        "- We can see from above that the tuned model is showing a slightly better F_1 score than the baseline model, also the RMSE has gone down. Hence the tuned model is doing better than the earlier model."
      ],
      "metadata": {
        "id": "93_ukWQ0QGHD"
      }
    },
    {
      "cell_type": "markdown",
      "source": [
        "#### **predict a rating for a user with userId = rLtl8ZkDX5vH5nAx9C3q5Q and BusinessId = 9yKzy9PApeiPPOUJEtnvkg**"
      ],
      "metadata": {
        "id": "R7fcZ0Z2QIGh"
      }
    },
    {
      "cell_type": "code",
      "source": [
        "# Using svd_algo_optimized model to recommend for userId \"rLtl8ZkDX5vH5nAx9C3q5Q\" and business_Id 9yKzy9PApeiPPOUJEtnvkg\n",
        "svd_optimized.predict(\"rLtl8ZkDX5vH5nAx9C3q5Q\", \"9yKzy9PApeiPPOUJEtnvkg\", r_ui = 5, verbose = True)"
      ],
      "metadata": {
        "id": "wrwa2qmBQEki"
      },
      "execution_count": null,
      "outputs": []
    },
    {
      "cell_type": "markdown",
      "source": [
        "- The predicted rating is good here for a restaurant whose actual rating is 5. The optimized model is giving a fairly good prediction."
      ],
      "metadata": {
        "id": "VHr1MWmsQMrN"
      }
    },
    {
      "cell_type": "code",
      "source": [
        "# Using svd_optimized model to recommend for userId \"rLtl8ZkDX5vH5nAx9C3q5Q\" and businessId \"zp713qNhx8d9KCJJnrw1xA\" which the user has not visited\n",
        "svd_optimized.predict(\"rLtl8ZkDX5vH5nAx9C3q5Q\", \"zp713qNhx8d9KCJJnrw1xA\", verbose = True)"
      ],
      "metadata": {
        "id": "DXyf2m7XQLDu"
      },
      "execution_count": null,
      "outputs": []
    },
    {
      "cell_type": "markdown",
      "source": [
        "- For an unseen restaurant the rating given by the optimized model seems to be good."
      ],
      "metadata": {
        "id": "qcFXkUU8QQ-x"
      }
    },
    {
      "cell_type": "code",
      "source": [
        "# Getting top 5 recommendations for user_id rLtl8ZkDX5vH5nAx9C3q5Q using \"svd_optimized\" algorithm\n",
        "svd_recommendations = get_recommendations(df_final, \"rLtl8ZkDX5vH5nAx9C3q5Q\", 5, svd_optimized)"
      ],
      "metadata": {
        "id": "frlBGF-WQPbG"
      },
      "execution_count": null,
      "outputs": []
    },
    {
      "cell_type": "code",
      "source": [
        "# Ranking products based on above recommendations\n",
        "ranking_products(svd_recommendations, final_rating)"
      ],
      "metadata": {
        "id": "anzOMCbyQTP2"
      },
      "execution_count": null,
      "outputs": []
    },
    {
      "cell_type": "markdown",
      "source": [
        "## **Conclusion**\n",
        "Built recommendation systems using five different algorithms. They are as follows:\n",
        "\n",
        "- rank-based using averages\n",
        "- User-user-similarity-based collaborative filtering\n",
        "- Item-item-similarity-based collaborative filtering\n",
        "- model-based (matrix factorization) collaborative filtering\n",
        "\n",
        "- We have seen how they are different from each other and what kind of data is needed to build each of these recommendation systems. We can further combine all the recommendation techniques we have seen.\n",
        "\n",
        "- To demonstrate \"user-user-similarity-based collaborative filtering\",\"item-item-similarity-based collaborative filtering\", and \"model-based (matrix factorization) collaborative filtering\", surprise library has been introduced. For these algorithms grid search cross-validation is applied to find the best working model, and using that the corresponding predictions are done.\n",
        "\n",
        "- For performance evaluation of these models precision@k and recall@k are introduced in this case study. Using these two metrics F_1 score is calculated for each working model."
      ],
      "metadata": {
        "id": "7iYAiaZIQVo_"
      }
    },
    {
      "cell_type": "code",
      "source": [],
      "metadata": {
        "id": "MlP25vQfQUn5"
      },
      "execution_count": null,
      "outputs": []
    }
  ]
}